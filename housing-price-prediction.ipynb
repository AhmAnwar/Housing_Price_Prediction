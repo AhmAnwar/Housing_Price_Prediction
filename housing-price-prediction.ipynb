{
 "cells": [
  {
   "cell_type": "markdown",
   "id": "98924ebc",
   "metadata": {
    "papermill": {
     "duration": 0.023097,
     "end_time": "2023-08-07T13:27:55.907839",
     "exception": false,
     "start_time": "2023-08-07T13:27:55.884742",
     "status": "completed"
    },
    "tags": []
   },
   "source": [
    "# import libraries"
   ]
  },
  {
   "cell_type": "code",
   "execution_count": 1,
   "id": "d8c92227",
   "metadata": {
    "execution": {
     "iopub.execute_input": "2023-08-07T13:27:55.953604Z",
     "iopub.status.busy": "2023-08-07T13:27:55.953031Z",
     "iopub.status.idle": "2023-08-07T13:27:58.306289Z",
     "shell.execute_reply": "2023-08-07T13:27:58.304930Z"
    },
    "papermill": {
     "duration": 2.378206,
     "end_time": "2023-08-07T13:27:58.308962",
     "exception": false,
     "start_time": "2023-08-07T13:27:55.930756",
     "status": "completed"
    },
    "tags": []
   },
   "outputs": [
    {
     "name": "stderr",
     "output_type": "stream",
     "text": [
      "/opt/conda/lib/python3.10/site-packages/scipy/__init__.py:146: UserWarning: A NumPy version >=1.16.5 and <1.23.0 is required for this version of SciPy (detected version 1.23.5\n",
      "  warnings.warn(f\"A NumPy version >={np_minversion} and <{np_maxversion}\"\n"
     ]
    }
   ],
   "source": [
    "import numpy as np\n",
    "import pandas as pd\n",
    "import plotly.express as px\n",
    "import sklearn"
   ]
  },
  {
   "cell_type": "markdown",
   "id": "24ff72e2",
   "metadata": {
    "papermill": {
     "duration": 0.022786,
     "end_time": "2023-08-07T13:27:58.353748",
     "exception": false,
     "start_time": "2023-08-07T13:27:58.330962",
     "status": "completed"
    },
    "tags": []
   },
   "source": [
    "# import dataset"
   ]
  },
  {
   "cell_type": "code",
   "execution_count": 2,
   "id": "5a3d991e",
   "metadata": {
    "execution": {
     "iopub.execute_input": "2023-08-07T13:27:58.403625Z",
     "iopub.status.busy": "2023-08-07T13:27:58.402754Z",
     "iopub.status.idle": "2023-08-07T13:27:58.462182Z",
     "shell.execute_reply": "2023-08-07T13:27:58.460965Z"
    },
    "papermill": {
     "duration": 0.087114,
     "end_time": "2023-08-07T13:27:58.465368",
     "exception": false,
     "start_time": "2023-08-07T13:27:58.378254",
     "status": "completed"
    },
    "tags": []
   },
   "outputs": [
    {
     "data": {
      "text/html": [
       "<div>\n",
       "<style scoped>\n",
       "    .dataframe tbody tr th:only-of-type {\n",
       "        vertical-align: middle;\n",
       "    }\n",
       "\n",
       "    .dataframe tbody tr th {\n",
       "        vertical-align: top;\n",
       "    }\n",
       "\n",
       "    .dataframe thead th {\n",
       "        text-align: right;\n",
       "    }\n",
       "</style>\n",
       "<table border=\"1\" class=\"dataframe\">\n",
       "  <thead>\n",
       "    <tr style=\"text-align: right;\">\n",
       "      <th></th>\n",
       "      <th>price</th>\n",
       "      <th>area</th>\n",
       "      <th>bedrooms</th>\n",
       "      <th>bathrooms</th>\n",
       "      <th>stories</th>\n",
       "      <th>mainroad</th>\n",
       "      <th>guestroom</th>\n",
       "      <th>basement</th>\n",
       "      <th>hotwaterheating</th>\n",
       "      <th>airconditioning</th>\n",
       "      <th>parking</th>\n",
       "      <th>prefarea</th>\n",
       "      <th>furnishingstatus</th>\n",
       "    </tr>\n",
       "  </thead>\n",
       "  <tbody>\n",
       "    <tr>\n",
       "      <th>0</th>\n",
       "      <td>13300000</td>\n",
       "      <td>7420</td>\n",
       "      <td>4</td>\n",
       "      <td>2</td>\n",
       "      <td>3</td>\n",
       "      <td>yes</td>\n",
       "      <td>no</td>\n",
       "      <td>no</td>\n",
       "      <td>no</td>\n",
       "      <td>yes</td>\n",
       "      <td>2</td>\n",
       "      <td>yes</td>\n",
       "      <td>furnished</td>\n",
       "    </tr>\n",
       "    <tr>\n",
       "      <th>1</th>\n",
       "      <td>12250000</td>\n",
       "      <td>8960</td>\n",
       "      <td>4</td>\n",
       "      <td>4</td>\n",
       "      <td>4</td>\n",
       "      <td>yes</td>\n",
       "      <td>no</td>\n",
       "      <td>no</td>\n",
       "      <td>no</td>\n",
       "      <td>yes</td>\n",
       "      <td>3</td>\n",
       "      <td>no</td>\n",
       "      <td>furnished</td>\n",
       "    </tr>\n",
       "    <tr>\n",
       "      <th>2</th>\n",
       "      <td>12250000</td>\n",
       "      <td>9960</td>\n",
       "      <td>3</td>\n",
       "      <td>2</td>\n",
       "      <td>2</td>\n",
       "      <td>yes</td>\n",
       "      <td>no</td>\n",
       "      <td>yes</td>\n",
       "      <td>no</td>\n",
       "      <td>no</td>\n",
       "      <td>2</td>\n",
       "      <td>yes</td>\n",
       "      <td>semi-furnished</td>\n",
       "    </tr>\n",
       "    <tr>\n",
       "      <th>3</th>\n",
       "      <td>12215000</td>\n",
       "      <td>7500</td>\n",
       "      <td>4</td>\n",
       "      <td>2</td>\n",
       "      <td>2</td>\n",
       "      <td>yes</td>\n",
       "      <td>no</td>\n",
       "      <td>yes</td>\n",
       "      <td>no</td>\n",
       "      <td>yes</td>\n",
       "      <td>3</td>\n",
       "      <td>yes</td>\n",
       "      <td>furnished</td>\n",
       "    </tr>\n",
       "    <tr>\n",
       "      <th>4</th>\n",
       "      <td>11410000</td>\n",
       "      <td>7420</td>\n",
       "      <td>4</td>\n",
       "      <td>1</td>\n",
       "      <td>2</td>\n",
       "      <td>yes</td>\n",
       "      <td>yes</td>\n",
       "      <td>yes</td>\n",
       "      <td>no</td>\n",
       "      <td>yes</td>\n",
       "      <td>2</td>\n",
       "      <td>no</td>\n",
       "      <td>furnished</td>\n",
       "    </tr>\n",
       "  </tbody>\n",
       "</table>\n",
       "</div>"
      ],
      "text/plain": [
       "      price  area  bedrooms  bathrooms  stories mainroad guestroom basement  \\\n",
       "0  13300000  7420         4          2        3      yes        no       no   \n",
       "1  12250000  8960         4          4        4      yes        no       no   \n",
       "2  12250000  9960         3          2        2      yes        no      yes   \n",
       "3  12215000  7500         4          2        2      yes        no      yes   \n",
       "4  11410000  7420         4          1        2      yes       yes      yes   \n",
       "\n",
       "  hotwaterheating airconditioning  parking prefarea furnishingstatus  \n",
       "0              no             yes        2      yes        furnished  \n",
       "1              no             yes        3       no        furnished  \n",
       "2              no              no        2      yes   semi-furnished  \n",
       "3              no             yes        3      yes        furnished  \n",
       "4              no             yes        2       no        furnished  "
      ]
     },
     "execution_count": 2,
     "metadata": {},
     "output_type": "execute_result"
    }
   ],
   "source": [
    "path = '/kaggle/input/housing-price-prediction/Housing.csv'\n",
    "houses = pd.read_csv(path)\n",
    "houses.head()"
   ]
  },
  {
   "cell_type": "markdown",
   "id": "15751adc",
   "metadata": {
    "papermill": {
     "duration": 0.023231,
     "end_time": "2023-08-07T13:27:58.511178",
     "exception": false,
     "start_time": "2023-08-07T13:27:58.487947",
     "status": "completed"
    },
    "tags": []
   },
   "source": [
    "# date cleaning"
   ]
  },
  {
   "cell_type": "markdown",
   "id": "9404969c",
   "metadata": {
    "papermill": {
     "duration": 0.021835,
     "end_time": "2023-08-07T13:27:58.557855",
     "exception": false,
     "start_time": "2023-08-07T13:27:58.536020",
     "status": "completed"
    },
    "tags": []
   },
   "source": [
    "# check data types"
   ]
  },
  {
   "cell_type": "code",
   "execution_count": 3,
   "id": "76d63f4f",
   "metadata": {
    "execution": {
     "iopub.execute_input": "2023-08-07T13:27:58.606617Z",
     "iopub.status.busy": "2023-08-07T13:27:58.605939Z",
     "iopub.status.idle": "2023-08-07T13:27:58.614922Z",
     "shell.execute_reply": "2023-08-07T13:27:58.613440Z"
    },
    "papermill": {
     "duration": 0.037255,
     "end_time": "2023-08-07T13:27:58.618594",
     "exception": false,
     "start_time": "2023-08-07T13:27:58.581339",
     "status": "completed"
    },
    "tags": []
   },
   "outputs": [
    {
     "data": {
      "text/plain": [
       "price                int64\n",
       "area                 int64\n",
       "bedrooms             int64\n",
       "bathrooms            int64\n",
       "stories              int64\n",
       "mainroad            object\n",
       "guestroom           object\n",
       "basement            object\n",
       "hotwaterheating     object\n",
       "airconditioning     object\n",
       "parking              int64\n",
       "prefarea            object\n",
       "furnishingstatus    object\n",
       "dtype: object"
      ]
     },
     "execution_count": 3,
     "metadata": {},
     "output_type": "execute_result"
    }
   ],
   "source": [
    "houses.dtypes"
   ]
  },
  {
   "cell_type": "code",
   "execution_count": 4,
   "id": "f6daf6ad",
   "metadata": {
    "execution": {
     "iopub.execute_input": "2023-08-07T13:27:58.667752Z",
     "iopub.status.busy": "2023-08-07T13:27:58.667334Z",
     "iopub.status.idle": "2023-08-07T13:27:58.682279Z",
     "shell.execute_reply": "2023-08-07T13:27:58.680906Z"
    },
    "papermill": {
     "duration": 0.04236,
     "end_time": "2023-08-07T13:27:58.684965",
     "exception": false,
     "start_time": "2023-08-07T13:27:58.642605",
     "status": "completed"
    },
    "tags": []
   },
   "outputs": [
    {
     "data": {
      "text/plain": [
       "0      13300000.0\n",
       "1      12250000.0\n",
       "2      12250000.0\n",
       "3      12215000.0\n",
       "4      11410000.0\n",
       "          ...    \n",
       "540     1820000.0\n",
       "541     1767150.0\n",
       "542     1750000.0\n",
       "543     1750000.0\n",
       "544     1750000.0\n",
       "Name: price, Length: 545, dtype: float64"
      ]
     },
     "execution_count": 4,
     "metadata": {},
     "output_type": "execute_result"
    }
   ],
   "source": [
    "houses['price'] = houses['price'].astype(float)\n",
    "houses['price']"
   ]
  },
  {
   "cell_type": "code",
   "execution_count": 5,
   "id": "3d690cb6",
   "metadata": {
    "execution": {
     "iopub.execute_input": "2023-08-07T13:27:58.737016Z",
     "iopub.status.busy": "2023-08-07T13:27:58.735980Z",
     "iopub.status.idle": "2023-08-07T13:27:58.748825Z",
     "shell.execute_reply": "2023-08-07T13:27:58.747560Z"
    },
    "papermill": {
     "duration": 0.041324,
     "end_time": "2023-08-07T13:27:58.751420",
     "exception": false,
     "start_time": "2023-08-07T13:27:58.710096",
     "status": "completed"
    },
    "tags": []
   },
   "outputs": [
    {
     "data": {
      "text/plain": [
       "0      7420.0\n",
       "1      8960.0\n",
       "2      9960.0\n",
       "3      7500.0\n",
       "4      7420.0\n",
       "        ...  \n",
       "540    3000.0\n",
       "541    2400.0\n",
       "542    3620.0\n",
       "543    2910.0\n",
       "544    3850.0\n",
       "Name: area, Length: 545, dtype: float64"
      ]
     },
     "execution_count": 5,
     "metadata": {},
     "output_type": "execute_result"
    }
   ],
   "source": [
    "houses['area'] = houses['area'].astype(float)\n",
    "houses['area']"
   ]
  },
  {
   "cell_type": "markdown",
   "id": "45bf8059",
   "metadata": {
    "papermill": {
     "duration": 0.023474,
     "end_time": "2023-08-07T13:27:58.797771",
     "exception": false,
     "start_time": "2023-08-07T13:27:58.774297",
     "status": "completed"
    },
    "tags": []
   },
   "source": [
    "# check Null values"
   ]
  },
  {
   "cell_type": "code",
   "execution_count": 6,
   "id": "4374c07d",
   "metadata": {
    "execution": {
     "iopub.execute_input": "2023-08-07T13:27:58.852886Z",
     "iopub.status.busy": "2023-08-07T13:27:58.852425Z",
     "iopub.status.idle": "2023-08-07T13:27:58.872895Z",
     "shell.execute_reply": "2023-08-07T13:27:58.871002Z"
    },
    "papermill": {
     "duration": 0.051944,
     "end_time": "2023-08-07T13:27:58.876382",
     "exception": false,
     "start_time": "2023-08-07T13:27:58.824438",
     "status": "completed"
    },
    "tags": []
   },
   "outputs": [
    {
     "data": {
      "text/plain": [
       "price               0\n",
       "area                0\n",
       "bedrooms            0\n",
       "bathrooms           0\n",
       "stories             0\n",
       "mainroad            0\n",
       "guestroom           0\n",
       "basement            0\n",
       "hotwaterheating     0\n",
       "airconditioning     0\n",
       "parking             0\n",
       "prefarea            0\n",
       "furnishingstatus    0\n",
       "dtype: int64"
      ]
     },
     "execution_count": 6,
     "metadata": {},
     "output_type": "execute_result"
    }
   ],
   "source": [
    "houses.isnull().sum()"
   ]
  },
  {
   "cell_type": "markdown",
   "id": "6514adf0",
   "metadata": {
    "papermill": {
     "duration": 0.025299,
     "end_time": "2023-08-07T13:27:58.924953",
     "exception": false,
     "start_time": "2023-08-07T13:27:58.899654",
     "status": "completed"
    },
    "tags": []
   },
   "source": [
    "# check duplicated values"
   ]
  },
  {
   "cell_type": "code",
   "execution_count": 7,
   "id": "920ba577",
   "metadata": {
    "execution": {
     "iopub.execute_input": "2023-08-07T13:27:58.977974Z",
     "iopub.status.busy": "2023-08-07T13:27:58.977203Z",
     "iopub.status.idle": "2023-08-07T13:27:58.995683Z",
     "shell.execute_reply": "2023-08-07T13:27:58.993960Z"
    },
    "papermill": {
     "duration": 0.048961,
     "end_time": "2023-08-07T13:27:58.998818",
     "exception": false,
     "start_time": "2023-08-07T13:27:58.949857",
     "status": "completed"
    },
    "tags": []
   },
   "outputs": [
    {
     "data": {
      "text/plain": [
       "0"
      ]
     },
     "execution_count": 7,
     "metadata": {},
     "output_type": "execute_result"
    }
   ],
   "source": [
    "houses.duplicated().sum()"
   ]
  },
  {
   "cell_type": "markdown",
   "id": "7ea5b7c5",
   "metadata": {
    "papermill": {
     "duration": 0.024571,
     "end_time": "2023-08-07T13:27:59.046915",
     "exception": false,
     "start_time": "2023-08-07T13:27:59.022344",
     "status": "completed"
    },
    "tags": []
   },
   "source": [
    "# check data validity"
   ]
  },
  {
   "cell_type": "code",
   "execution_count": 8,
   "id": "1e678efb",
   "metadata": {
    "execution": {
     "iopub.execute_input": "2023-08-07T13:27:59.098803Z",
     "iopub.status.busy": "2023-08-07T13:27:59.097194Z",
     "iopub.status.idle": "2023-08-07T13:27:59.132174Z",
     "shell.execute_reply": "2023-08-07T13:27:59.129588Z"
    },
    "papermill": {
     "duration": 0.06523,
     "end_time": "2023-08-07T13:27:59.135589",
     "exception": false,
     "start_time": "2023-08-07T13:27:59.070359",
     "status": "completed"
    },
    "tags": []
   },
   "outputs": [
    {
     "name": "stdout",
     "output_type": "stream",
     "text": [
      "<class 'pandas.core.frame.DataFrame'>\n",
      "RangeIndex: 545 entries, 0 to 544\n",
      "Data columns (total 13 columns):\n",
      " #   Column            Non-Null Count  Dtype  \n",
      "---  ------            --------------  -----  \n",
      " 0   price             545 non-null    float64\n",
      " 1   area              545 non-null    float64\n",
      " 2   bedrooms          545 non-null    int64  \n",
      " 3   bathrooms         545 non-null    int64  \n",
      " 4   stories           545 non-null    int64  \n",
      " 5   mainroad          545 non-null    object \n",
      " 6   guestroom         545 non-null    object \n",
      " 7   basement          545 non-null    object \n",
      " 8   hotwaterheating   545 non-null    object \n",
      " 9   airconditioning   545 non-null    object \n",
      " 10  parking           545 non-null    int64  \n",
      " 11  prefarea          545 non-null    object \n",
      " 12  furnishingstatus  545 non-null    object \n",
      "dtypes: float64(2), int64(4), object(7)\n",
      "memory usage: 55.5+ KB\n"
     ]
    }
   ],
   "source": [
    "houses.info()"
   ]
  },
  {
   "cell_type": "code",
   "execution_count": 9,
   "id": "6c4acc1c",
   "metadata": {
    "execution": {
     "iopub.execute_input": "2023-08-07T13:27:59.185575Z",
     "iopub.status.busy": "2023-08-07T13:27:59.185075Z",
     "iopub.status.idle": "2023-08-07T13:27:59.193677Z",
     "shell.execute_reply": "2023-08-07T13:27:59.192220Z"
    },
    "papermill": {
     "duration": 0.037301,
     "end_time": "2023-08-07T13:27:59.196527",
     "exception": false,
     "start_time": "2023-08-07T13:27:59.159226",
     "status": "completed"
    },
    "tags": []
   },
   "outputs": [
    {
     "data": {
      "text/plain": [
       "array(['furnished', 'semi-furnished', 'unfurnished'], dtype=object)"
      ]
     },
     "execution_count": 9,
     "metadata": {},
     "output_type": "execute_result"
    }
   ],
   "source": [
    "houses['furnishingstatus'].unique()"
   ]
  },
  {
   "cell_type": "code",
   "execution_count": 10,
   "id": "5d0b472a",
   "metadata": {
    "execution": {
     "iopub.execute_input": "2023-08-07T13:27:59.247028Z",
     "iopub.status.busy": "2023-08-07T13:27:59.245555Z",
     "iopub.status.idle": "2023-08-07T13:27:59.285137Z",
     "shell.execute_reply": "2023-08-07T13:27:59.284209Z"
    },
    "papermill": {
     "duration": 0.068239,
     "end_time": "2023-08-07T13:27:59.287838",
     "exception": false,
     "start_time": "2023-08-07T13:27:59.219599",
     "status": "completed"
    },
    "tags": []
   },
   "outputs": [
    {
     "data": {
      "text/html": [
       "<div>\n",
       "<style scoped>\n",
       "    .dataframe tbody tr th:only-of-type {\n",
       "        vertical-align: middle;\n",
       "    }\n",
       "\n",
       "    .dataframe tbody tr th {\n",
       "        vertical-align: top;\n",
       "    }\n",
       "\n",
       "    .dataframe thead th {\n",
       "        text-align: right;\n",
       "    }\n",
       "</style>\n",
       "<table border=\"1\" class=\"dataframe\">\n",
       "  <thead>\n",
       "    <tr style=\"text-align: right;\">\n",
       "      <th></th>\n",
       "      <th>price</th>\n",
       "      <th>area</th>\n",
       "      <th>bedrooms</th>\n",
       "      <th>bathrooms</th>\n",
       "      <th>stories</th>\n",
       "      <th>parking</th>\n",
       "    </tr>\n",
       "  </thead>\n",
       "  <tbody>\n",
       "    <tr>\n",
       "      <th>count</th>\n",
       "      <td>5.450000e+02</td>\n",
       "      <td>545.000000</td>\n",
       "      <td>545.000000</td>\n",
       "      <td>545.000000</td>\n",
       "      <td>545.000000</td>\n",
       "      <td>545.000000</td>\n",
       "    </tr>\n",
       "    <tr>\n",
       "      <th>mean</th>\n",
       "      <td>4.766729e+06</td>\n",
       "      <td>5150.541284</td>\n",
       "      <td>2.965138</td>\n",
       "      <td>1.286239</td>\n",
       "      <td>1.805505</td>\n",
       "      <td>0.693578</td>\n",
       "    </tr>\n",
       "    <tr>\n",
       "      <th>std</th>\n",
       "      <td>1.870440e+06</td>\n",
       "      <td>2170.141023</td>\n",
       "      <td>0.738064</td>\n",
       "      <td>0.502470</td>\n",
       "      <td>0.867492</td>\n",
       "      <td>0.861586</td>\n",
       "    </tr>\n",
       "    <tr>\n",
       "      <th>min</th>\n",
       "      <td>1.750000e+06</td>\n",
       "      <td>1650.000000</td>\n",
       "      <td>1.000000</td>\n",
       "      <td>1.000000</td>\n",
       "      <td>1.000000</td>\n",
       "      <td>0.000000</td>\n",
       "    </tr>\n",
       "    <tr>\n",
       "      <th>25%</th>\n",
       "      <td>3.430000e+06</td>\n",
       "      <td>3600.000000</td>\n",
       "      <td>2.000000</td>\n",
       "      <td>1.000000</td>\n",
       "      <td>1.000000</td>\n",
       "      <td>0.000000</td>\n",
       "    </tr>\n",
       "    <tr>\n",
       "      <th>50%</th>\n",
       "      <td>4.340000e+06</td>\n",
       "      <td>4600.000000</td>\n",
       "      <td>3.000000</td>\n",
       "      <td>1.000000</td>\n",
       "      <td>2.000000</td>\n",
       "      <td>0.000000</td>\n",
       "    </tr>\n",
       "    <tr>\n",
       "      <th>75%</th>\n",
       "      <td>5.740000e+06</td>\n",
       "      <td>6360.000000</td>\n",
       "      <td>3.000000</td>\n",
       "      <td>2.000000</td>\n",
       "      <td>2.000000</td>\n",
       "      <td>1.000000</td>\n",
       "    </tr>\n",
       "    <tr>\n",
       "      <th>max</th>\n",
       "      <td>1.330000e+07</td>\n",
       "      <td>16200.000000</td>\n",
       "      <td>6.000000</td>\n",
       "      <td>4.000000</td>\n",
       "      <td>4.000000</td>\n",
       "      <td>3.000000</td>\n",
       "    </tr>\n",
       "  </tbody>\n",
       "</table>\n",
       "</div>"
      ],
      "text/plain": [
       "              price          area    bedrooms   bathrooms     stories  \\\n",
       "count  5.450000e+02    545.000000  545.000000  545.000000  545.000000   \n",
       "mean   4.766729e+06   5150.541284    2.965138    1.286239    1.805505   \n",
       "std    1.870440e+06   2170.141023    0.738064    0.502470    0.867492   \n",
       "min    1.750000e+06   1650.000000    1.000000    1.000000    1.000000   \n",
       "25%    3.430000e+06   3600.000000    2.000000    1.000000    1.000000   \n",
       "50%    4.340000e+06   4600.000000    3.000000    1.000000    2.000000   \n",
       "75%    5.740000e+06   6360.000000    3.000000    2.000000    2.000000   \n",
       "max    1.330000e+07  16200.000000    6.000000    4.000000    4.000000   \n",
       "\n",
       "          parking  \n",
       "count  545.000000  \n",
       "mean     0.693578  \n",
       "std      0.861586  \n",
       "min      0.000000  \n",
       "25%      0.000000  \n",
       "50%      0.000000  \n",
       "75%      1.000000  \n",
       "max      3.000000  "
      ]
     },
     "execution_count": 10,
     "metadata": {},
     "output_type": "execute_result"
    }
   ],
   "source": [
    "houses.describe()"
   ]
  },
  {
   "cell_type": "markdown",
   "id": "528d257b",
   "metadata": {
    "papermill": {
     "duration": 0.022754,
     "end_time": "2023-08-07T13:27:59.333818",
     "exception": false,
     "start_time": "2023-08-07T13:27:59.311064",
     "status": "completed"
    },
    "tags": []
   },
   "source": [
    "# analysis"
   ]
  },
  {
   "cell_type": "code",
   "execution_count": 11,
   "id": "4f3d1fdf",
   "metadata": {
    "execution": {
     "iopub.execute_input": "2023-08-07T13:27:59.387619Z",
     "iopub.status.busy": "2023-08-07T13:27:59.386106Z",
     "iopub.status.idle": "2023-08-07T13:27:59.407428Z",
     "shell.execute_reply": "2023-08-07T13:27:59.406122Z"
    },
    "papermill": {
     "duration": 0.051398,
     "end_time": "2023-08-07T13:27:59.410121",
     "exception": false,
     "start_time": "2023-08-07T13:27:59.358723",
     "status": "completed"
    },
    "tags": []
   },
   "outputs": [
    {
     "data": {
      "text/html": [
       "<div>\n",
       "<style scoped>\n",
       "    .dataframe tbody tr th:only-of-type {\n",
       "        vertical-align: middle;\n",
       "    }\n",
       "\n",
       "    .dataframe tbody tr th {\n",
       "        vertical-align: top;\n",
       "    }\n",
       "\n",
       "    .dataframe thead th {\n",
       "        text-align: right;\n",
       "    }\n",
       "</style>\n",
       "<table border=\"1\" class=\"dataframe\">\n",
       "  <thead>\n",
       "    <tr style=\"text-align: right;\">\n",
       "      <th></th>\n",
       "      <th>price</th>\n",
       "      <th>area</th>\n",
       "      <th>bedrooms</th>\n",
       "      <th>bathrooms</th>\n",
       "      <th>stories</th>\n",
       "      <th>mainroad</th>\n",
       "      <th>guestroom</th>\n",
       "      <th>basement</th>\n",
       "      <th>hotwaterheating</th>\n",
       "      <th>airconditioning</th>\n",
       "      <th>parking</th>\n",
       "      <th>prefarea</th>\n",
       "      <th>furnishingstatus</th>\n",
       "    </tr>\n",
       "  </thead>\n",
       "  <tbody>\n",
       "    <tr>\n",
       "      <th>0</th>\n",
       "      <td>13300000.0</td>\n",
       "      <td>7420.0</td>\n",
       "      <td>4</td>\n",
       "      <td>2</td>\n",
       "      <td>3</td>\n",
       "      <td>yes</td>\n",
       "      <td>no</td>\n",
       "      <td>no</td>\n",
       "      <td>no</td>\n",
       "      <td>yes</td>\n",
       "      <td>2</td>\n",
       "      <td>yes</td>\n",
       "      <td>furnished</td>\n",
       "    </tr>\n",
       "    <tr>\n",
       "      <th>1</th>\n",
       "      <td>12250000.0</td>\n",
       "      <td>8960.0</td>\n",
       "      <td>4</td>\n",
       "      <td>4</td>\n",
       "      <td>4</td>\n",
       "      <td>yes</td>\n",
       "      <td>no</td>\n",
       "      <td>no</td>\n",
       "      <td>no</td>\n",
       "      <td>yes</td>\n",
       "      <td>3</td>\n",
       "      <td>no</td>\n",
       "      <td>furnished</td>\n",
       "    </tr>\n",
       "  </tbody>\n",
       "</table>\n",
       "</div>"
      ],
      "text/plain": [
       "        price    area  bedrooms  bathrooms  stories mainroad guestroom  \\\n",
       "0  13300000.0  7420.0         4          2        3      yes        no   \n",
       "1  12250000.0  8960.0         4          4        4      yes        no   \n",
       "\n",
       "  basement hotwaterheating airconditioning  parking prefarea furnishingstatus  \n",
       "0       no              no             yes        2      yes        furnished  \n",
       "1       no              no             yes        3       no        furnished  "
      ]
     },
     "execution_count": 11,
     "metadata": {},
     "output_type": "execute_result"
    }
   ],
   "source": [
    "houses.head(2)"
   ]
  },
  {
   "cell_type": "code",
   "execution_count": 12,
   "id": "f7a017c8",
   "metadata": {
    "execution": {
     "iopub.execute_input": "2023-08-07T13:27:59.462263Z",
     "iopub.status.busy": "2023-08-07T13:27:59.461137Z",
     "iopub.status.idle": "2023-08-07T13:28:01.532610Z",
     "shell.execute_reply": "2023-08-07T13:28:01.531023Z"
    },
    "papermill": {
     "duration": 2.101214,
     "end_time": "2023-08-07T13:28:01.537034",
     "exception": false,
     "start_time": "2023-08-07T13:27:59.435820",
     "status": "completed"
    },
    "tags": []
   },
   "outputs": [
    {
     "data": {
      "text/html": [
       "        <script type=\"text/javascript\">\n",
       "        window.PlotlyConfig = {MathJaxConfig: 'local'};\n",
       "        if (window.MathJax && window.MathJax.Hub && window.MathJax.Hub.Config) {window.MathJax.Hub.Config({SVG: {font: \"STIX-Web\"}});}\n",
       "        if (typeof require !== 'undefined') {\n",
       "        require.undef(\"plotly\");\n",
       "        requirejs.config({\n",
       "            paths: {\n",
       "                'plotly': ['https://cdn.plot.ly/plotly-2.24.1.min']\n",
       "            }\n",
       "        });\n",
       "        require(['plotly'], function(Plotly) {\n",
       "            window._Plotly = Plotly;\n",
       "        });\n",
       "        }\n",
       "        </script>\n",
       "        "
      ]
     },
     "metadata": {},
     "output_type": "display_data"
    },
    {
     "data": {
      "text/html": [
       "<div>                            <div id=\"0f336934-a833-4f0e-8636-84c79dc5faa9\" class=\"plotly-graph-div\" style=\"height:525px; width:100%;\"></div>            <script type=\"text/javascript\">                require([\"plotly\"], function(Plotly) {                    window.PLOTLYENV=window.PLOTLYENV || {};                                    if (document.getElementById(\"0f336934-a833-4f0e-8636-84c79dc5faa9\")) {                    Plotly.newPlot(                        \"0f336934-a833-4f0e-8636-84c79dc5faa9\",                        [{\"coloraxis\":\"coloraxis\",\"name\":\"0\",\"texttemplate\":\"%{z}\",\"x\":[\"price\",\"area\",\"bedrooms\",\"bathrooms\",\"stories\",\"parking\"],\"y\":[\"price\",\"area\",\"bedrooms\",\"bathrooms\",\"stories\",\"parking\"],\"z\":[[1.0,0.5359973457780797,0.36649402577386964,0.517545339455012,0.42071236618861724,0.38439364863572645],[0.5359973457780797,1.0,0.1518584855745371,0.1938195310520531,0.08399605092891993,0.35298048121168235],[0.36649402577386964,0.1518584855745371,1.0,0.37393023597215413,0.4085642375381521,0.139269896865613],[0.517545339455012,0.1938195310520531,0.37393023597215413,1.0,0.32616470613294235,0.17749582102283437],[0.42071236618861724,0.08399605092891993,0.4085642375381521,0.32616470613294235,1.0,0.045547091916846645],[0.38439364863572645,0.35298048121168235,0.139269896865613,0.17749582102283437,0.045547091916846645,1.0]],\"type\":\"heatmap\",\"xaxis\":\"x\",\"yaxis\":\"y\",\"hovertemplate\":\"x: %{x}\\u003cbr\\u003ey: %{y}\\u003cbr\\u003ecolor: %{z}\\u003cextra\\u003e\\u003c\\u002fextra\\u003e\"}],                        {\"template\":{\"data\":{\"histogram2dcontour\":[{\"type\":\"histogram2dcontour\",\"colorbar\":{\"outlinewidth\":0,\"ticks\":\"\"},\"colorscale\":[[0.0,\"#0d0887\"],[0.1111111111111111,\"#46039f\"],[0.2222222222222222,\"#7201a8\"],[0.3333333333333333,\"#9c179e\"],[0.4444444444444444,\"#bd3786\"],[0.5555555555555556,\"#d8576b\"],[0.6666666666666666,\"#ed7953\"],[0.7777777777777778,\"#fb9f3a\"],[0.8888888888888888,\"#fdca26\"],[1.0,\"#f0f921\"]]}],\"choropleth\":[{\"type\":\"choropleth\",\"colorbar\":{\"outlinewidth\":0,\"ticks\":\"\"}}],\"histogram2d\":[{\"type\":\"histogram2d\",\"colorbar\":{\"outlinewidth\":0,\"ticks\":\"\"},\"colorscale\":[[0.0,\"#0d0887\"],[0.1111111111111111,\"#46039f\"],[0.2222222222222222,\"#7201a8\"],[0.3333333333333333,\"#9c179e\"],[0.4444444444444444,\"#bd3786\"],[0.5555555555555556,\"#d8576b\"],[0.6666666666666666,\"#ed7953\"],[0.7777777777777778,\"#fb9f3a\"],[0.8888888888888888,\"#fdca26\"],[1.0,\"#f0f921\"]]}],\"heatmap\":[{\"type\":\"heatmap\",\"colorbar\":{\"outlinewidth\":0,\"ticks\":\"\"},\"colorscale\":[[0.0,\"#0d0887\"],[0.1111111111111111,\"#46039f\"],[0.2222222222222222,\"#7201a8\"],[0.3333333333333333,\"#9c179e\"],[0.4444444444444444,\"#bd3786\"],[0.5555555555555556,\"#d8576b\"],[0.6666666666666666,\"#ed7953\"],[0.7777777777777778,\"#fb9f3a\"],[0.8888888888888888,\"#fdca26\"],[1.0,\"#f0f921\"]]}],\"heatmapgl\":[{\"type\":\"heatmapgl\",\"colorbar\":{\"outlinewidth\":0,\"ticks\":\"\"},\"colorscale\":[[0.0,\"#0d0887\"],[0.1111111111111111,\"#46039f\"],[0.2222222222222222,\"#7201a8\"],[0.3333333333333333,\"#9c179e\"],[0.4444444444444444,\"#bd3786\"],[0.5555555555555556,\"#d8576b\"],[0.6666666666666666,\"#ed7953\"],[0.7777777777777778,\"#fb9f3a\"],[0.8888888888888888,\"#fdca26\"],[1.0,\"#f0f921\"]]}],\"contourcarpet\":[{\"type\":\"contourcarpet\",\"colorbar\":{\"outlinewidth\":0,\"ticks\":\"\"}}],\"contour\":[{\"type\":\"contour\",\"colorbar\":{\"outlinewidth\":0,\"ticks\":\"\"},\"colorscale\":[[0.0,\"#0d0887\"],[0.1111111111111111,\"#46039f\"],[0.2222222222222222,\"#7201a8\"],[0.3333333333333333,\"#9c179e\"],[0.4444444444444444,\"#bd3786\"],[0.5555555555555556,\"#d8576b\"],[0.6666666666666666,\"#ed7953\"],[0.7777777777777778,\"#fb9f3a\"],[0.8888888888888888,\"#fdca26\"],[1.0,\"#f0f921\"]]}],\"surface\":[{\"type\":\"surface\",\"colorbar\":{\"outlinewidth\":0,\"ticks\":\"\"},\"colorscale\":[[0.0,\"#0d0887\"],[0.1111111111111111,\"#46039f\"],[0.2222222222222222,\"#7201a8\"],[0.3333333333333333,\"#9c179e\"],[0.4444444444444444,\"#bd3786\"],[0.5555555555555556,\"#d8576b\"],[0.6666666666666666,\"#ed7953\"],[0.7777777777777778,\"#fb9f3a\"],[0.8888888888888888,\"#fdca26\"],[1.0,\"#f0f921\"]]}],\"mesh3d\":[{\"type\":\"mesh3d\",\"colorbar\":{\"outlinewidth\":0,\"ticks\":\"\"}}],\"scatter\":[{\"fillpattern\":{\"fillmode\":\"overlay\",\"size\":10,\"solidity\":0.2},\"type\":\"scatter\"}],\"parcoords\":[{\"type\":\"parcoords\",\"line\":{\"colorbar\":{\"outlinewidth\":0,\"ticks\":\"\"}}}],\"scatterpolargl\":[{\"type\":\"scatterpolargl\",\"marker\":{\"colorbar\":{\"outlinewidth\":0,\"ticks\":\"\"}}}],\"bar\":[{\"error_x\":{\"color\":\"#2a3f5f\"},\"error_y\":{\"color\":\"#2a3f5f\"},\"marker\":{\"line\":{\"color\":\"#E5ECF6\",\"width\":0.5},\"pattern\":{\"fillmode\":\"overlay\",\"size\":10,\"solidity\":0.2}},\"type\":\"bar\"}],\"scattergeo\":[{\"type\":\"scattergeo\",\"marker\":{\"colorbar\":{\"outlinewidth\":0,\"ticks\":\"\"}}}],\"scatterpolar\":[{\"type\":\"scatterpolar\",\"marker\":{\"colorbar\":{\"outlinewidth\":0,\"ticks\":\"\"}}}],\"histogram\":[{\"marker\":{\"pattern\":{\"fillmode\":\"overlay\",\"size\":10,\"solidity\":0.2}},\"type\":\"histogram\"}],\"scattergl\":[{\"type\":\"scattergl\",\"marker\":{\"colorbar\":{\"outlinewidth\":0,\"ticks\":\"\"}}}],\"scatter3d\":[{\"type\":\"scatter3d\",\"line\":{\"colorbar\":{\"outlinewidth\":0,\"ticks\":\"\"}},\"marker\":{\"colorbar\":{\"outlinewidth\":0,\"ticks\":\"\"}}}],\"scattermapbox\":[{\"type\":\"scattermapbox\",\"marker\":{\"colorbar\":{\"outlinewidth\":0,\"ticks\":\"\"}}}],\"scatterternary\":[{\"type\":\"scatterternary\",\"marker\":{\"colorbar\":{\"outlinewidth\":0,\"ticks\":\"\"}}}],\"scattercarpet\":[{\"type\":\"scattercarpet\",\"marker\":{\"colorbar\":{\"outlinewidth\":0,\"ticks\":\"\"}}}],\"carpet\":[{\"aaxis\":{\"endlinecolor\":\"#2a3f5f\",\"gridcolor\":\"white\",\"linecolor\":\"white\",\"minorgridcolor\":\"white\",\"startlinecolor\":\"#2a3f5f\"},\"baxis\":{\"endlinecolor\":\"#2a3f5f\",\"gridcolor\":\"white\",\"linecolor\":\"white\",\"minorgridcolor\":\"white\",\"startlinecolor\":\"#2a3f5f\"},\"type\":\"carpet\"}],\"table\":[{\"cells\":{\"fill\":{\"color\":\"#EBF0F8\"},\"line\":{\"color\":\"white\"}},\"header\":{\"fill\":{\"color\":\"#C8D4E3\"},\"line\":{\"color\":\"white\"}},\"type\":\"table\"}],\"barpolar\":[{\"marker\":{\"line\":{\"color\":\"#E5ECF6\",\"width\":0.5},\"pattern\":{\"fillmode\":\"overlay\",\"size\":10,\"solidity\":0.2}},\"type\":\"barpolar\"}],\"pie\":[{\"automargin\":true,\"type\":\"pie\"}]},\"layout\":{\"autotypenumbers\":\"strict\",\"colorway\":[\"#636efa\",\"#EF553B\",\"#00cc96\",\"#ab63fa\",\"#FFA15A\",\"#19d3f3\",\"#FF6692\",\"#B6E880\",\"#FF97FF\",\"#FECB52\"],\"font\":{\"color\":\"#2a3f5f\"},\"hovermode\":\"closest\",\"hoverlabel\":{\"align\":\"left\"},\"paper_bgcolor\":\"white\",\"plot_bgcolor\":\"#E5ECF6\",\"polar\":{\"bgcolor\":\"#E5ECF6\",\"angularaxis\":{\"gridcolor\":\"white\",\"linecolor\":\"white\",\"ticks\":\"\"},\"radialaxis\":{\"gridcolor\":\"white\",\"linecolor\":\"white\",\"ticks\":\"\"}},\"ternary\":{\"bgcolor\":\"#E5ECF6\",\"aaxis\":{\"gridcolor\":\"white\",\"linecolor\":\"white\",\"ticks\":\"\"},\"baxis\":{\"gridcolor\":\"white\",\"linecolor\":\"white\",\"ticks\":\"\"},\"caxis\":{\"gridcolor\":\"white\",\"linecolor\":\"white\",\"ticks\":\"\"}},\"coloraxis\":{\"colorbar\":{\"outlinewidth\":0,\"ticks\":\"\"}},\"colorscale\":{\"sequential\":[[0.0,\"#0d0887\"],[0.1111111111111111,\"#46039f\"],[0.2222222222222222,\"#7201a8\"],[0.3333333333333333,\"#9c179e\"],[0.4444444444444444,\"#bd3786\"],[0.5555555555555556,\"#d8576b\"],[0.6666666666666666,\"#ed7953\"],[0.7777777777777778,\"#fb9f3a\"],[0.8888888888888888,\"#fdca26\"],[1.0,\"#f0f921\"]],\"sequentialminus\":[[0.0,\"#0d0887\"],[0.1111111111111111,\"#46039f\"],[0.2222222222222222,\"#7201a8\"],[0.3333333333333333,\"#9c179e\"],[0.4444444444444444,\"#bd3786\"],[0.5555555555555556,\"#d8576b\"],[0.6666666666666666,\"#ed7953\"],[0.7777777777777778,\"#fb9f3a\"],[0.8888888888888888,\"#fdca26\"],[1.0,\"#f0f921\"]],\"diverging\":[[0,\"#8e0152\"],[0.1,\"#c51b7d\"],[0.2,\"#de77ae\"],[0.3,\"#f1b6da\"],[0.4,\"#fde0ef\"],[0.5,\"#f7f7f7\"],[0.6,\"#e6f5d0\"],[0.7,\"#b8e186\"],[0.8,\"#7fbc41\"],[0.9,\"#4d9221\"],[1,\"#276419\"]]},\"xaxis\":{\"gridcolor\":\"white\",\"linecolor\":\"white\",\"ticks\":\"\",\"title\":{\"standoff\":15},\"zerolinecolor\":\"white\",\"automargin\":true,\"zerolinewidth\":2},\"yaxis\":{\"gridcolor\":\"white\",\"linecolor\":\"white\",\"ticks\":\"\",\"title\":{\"standoff\":15},\"zerolinecolor\":\"white\",\"automargin\":true,\"zerolinewidth\":2},\"scene\":{\"xaxis\":{\"backgroundcolor\":\"#E5ECF6\",\"gridcolor\":\"white\",\"linecolor\":\"white\",\"showbackground\":true,\"ticks\":\"\",\"zerolinecolor\":\"white\",\"gridwidth\":2},\"yaxis\":{\"backgroundcolor\":\"#E5ECF6\",\"gridcolor\":\"white\",\"linecolor\":\"white\",\"showbackground\":true,\"ticks\":\"\",\"zerolinecolor\":\"white\",\"gridwidth\":2},\"zaxis\":{\"backgroundcolor\":\"#E5ECF6\",\"gridcolor\":\"white\",\"linecolor\":\"white\",\"showbackground\":true,\"ticks\":\"\",\"zerolinecolor\":\"white\",\"gridwidth\":2}},\"shapedefaults\":{\"line\":{\"color\":\"#2a3f5f\"}},\"annotationdefaults\":{\"arrowcolor\":\"#2a3f5f\",\"arrowhead\":0,\"arrowwidth\":1},\"geo\":{\"bgcolor\":\"white\",\"landcolor\":\"#E5ECF6\",\"subunitcolor\":\"white\",\"showland\":true,\"showlakes\":true,\"lakecolor\":\"white\"},\"title\":{\"x\":0.05},\"mapbox\":{\"style\":\"light\"}}},\"xaxis\":{\"anchor\":\"y\",\"domain\":[0.0,1.0]},\"yaxis\":{\"anchor\":\"x\",\"domain\":[0.0,1.0],\"autorange\":\"reversed\"},\"coloraxis\":{\"colorscale\":[[0.0,\"rgb(247,251,255)\"],[0.125,\"rgb(222,235,247)\"],[0.25,\"rgb(198,219,239)\"],[0.375,\"rgb(158,202,225)\"],[0.5,\"rgb(107,174,214)\"],[0.625,\"rgb(66,146,198)\"],[0.75,\"rgb(33,113,181)\"],[0.875,\"rgb(8,81,156)\"],[1.0,\"rgb(8,48,107)\"]]},\"margin\":{\"t\":60}},                        {\"responsive\": true}                    ).then(function(){\n",
       "                            \n",
       "var gd = document.getElementById('0f336934-a833-4f0e-8636-84c79dc5faa9');\n",
       "var x = new MutationObserver(function (mutations, observer) {{\n",
       "        var display = window.getComputedStyle(gd).display;\n",
       "        if (!display || display === 'none') {{\n",
       "            console.log([gd, 'removed!']);\n",
       "            Plotly.purge(gd);\n",
       "            observer.disconnect();\n",
       "        }}\n",
       "}});\n",
       "\n",
       "// Listen for the removal of the full notebook cells\n",
       "var notebookContainer = gd.closest('#notebook-container');\n",
       "if (notebookContainer) {{\n",
       "    x.observe(notebookContainer, {childList: true});\n",
       "}}\n",
       "\n",
       "// Listen for the clearing of the current output cell\n",
       "var outputEl = gd.closest('.output');\n",
       "if (outputEl) {{\n",
       "    x.observe(outputEl, {childList: true});\n",
       "}}\n",
       "\n",
       "                        })                };                });            </script>        </div>"
      ]
     },
     "metadata": {},
     "output_type": "display_data"
    }
   ],
   "source": [
    "px.imshow(houses.corr(numeric_only=True),aspect=True,text_auto=True,color_continuous_scale='Blues')"
   ]
  },
  {
   "cell_type": "markdown",
   "id": "2ad95341",
   "metadata": {
    "papermill": {
     "duration": 0.027437,
     "end_time": "2023-08-07T13:28:01.597073",
     "exception": false,
     "start_time": "2023-08-07T13:28:01.569636",
     "status": "completed"
    },
    "tags": []
   },
   "source": [
    "# relation between area and price"
   ]
  },
  {
   "cell_type": "code",
   "execution_count": 13,
   "id": "06875759",
   "metadata": {
    "execution": {
     "iopub.execute_input": "2023-08-07T13:28:01.653960Z",
     "iopub.status.busy": "2023-08-07T13:28:01.653531Z",
     "iopub.status.idle": "2023-08-07T13:28:01.836925Z",
     "shell.execute_reply": "2023-08-07T13:28:01.835980Z"
    },
    "papermill": {
     "duration": 0.210764,
     "end_time": "2023-08-07T13:28:01.839281",
     "exception": false,
     "start_time": "2023-08-07T13:28:01.628517",
     "status": "completed"
    },
    "tags": []
   },
   "outputs": [
    {
     "data": {
      "text/html": [
       "<div>                            <div id=\"bc211e54-25e4-4836-a714-1f5c7e0cbcd1\" class=\"plotly-graph-div\" style=\"height:400px; width:100%;\"></div>            <script type=\"text/javascript\">                require([\"plotly\"], function(Plotly) {                    window.PLOTLYENV=window.PLOTLYENV || {};                                    if (document.getElementById(\"bc211e54-25e4-4836-a714-1f5c7e0cbcd1\")) {                    Plotly.newPlot(                        \"bc211e54-25e4-4836-a714-1f5c7e0cbcd1\",                        [{\"alignmentgroup\":\"True\",\"bingroup\":\"x\",\"histfunc\":\"sum\",\"hovertemplate\":\"area=%{x}\\u003cbr\\u003esum of price=%{y}\\u003cextra\\u003e\\u003c\\u002fextra\\u003e\",\"legendgroup\":\"\",\"marker\":{\"color\":\"#636efa\",\"pattern\":{\"shape\":\"\"}},\"name\":\"\",\"offsetgroup\":\"\",\"orientation\":\"v\",\"showlegend\":false,\"x\":[7420.0,8960.0,9960.0,7500.0,7420.0,7500.0,8580.0,16200.0,8100.0,5750.0,13200.0,6000.0,6550.0,3500.0,7800.0,6000.0,6600.0,8500.0,4600.0,6420.0,4320.0,7155.0,8050.0,4560.0,8800.0,6540.0,6000.0,8875.0,7950.0,5500.0,7475.0,7000.0,4880.0,5960.0,6840.0,7000.0,7482.0,9000.0,6000.0,6000.0,6550.0,6360.0,6480.0,6000.0,6000.0,6000.0,6000.0,6600.0,4300.0,7440.0,7440.0,6325.0,6000.0,5150.0,6000.0,6000.0,11440.0,9000.0,7680.0,6000.0,6000.0,8880.0,6240.0,6360.0,11175.0,8880.0,13200.0,7700.0,6000.0,12090.0,4000.0,6000.0,5020.0,6600.0,4040.0,4260.0,6420.0,6500.0,5700.0,6000.0,6000.0,4000.0,10500.0,6000.0,3760.0,8250.0,6670.0,3960.0,7410.0,8580.0,5000.0,6750.0,4800.0,7200.0,6000.0,4100.0,9000.0,6400.0,6600.0,6000.0,6600.0,5500.0,5500.0,6350.0,5500.0,4500.0,5450.0,6420.0,3240.0,6615.0,6600.0,8372.0,4300.0,9620.0,6800.0,8000.0,6900.0,3700.0,6420.0,7020.0,6540.0,7231.0,6254.0,7320.0,6525.0,15600.0,7160.0,6500.0,5500.0,11460.0,4800.0,5828.0,5200.0,4800.0,7000.0,6000.0,5400.0,4640.0,5000.0,6360.0,5800.0,6660.0,10500.0,4800.0,4700.0,5000.0,10500.0,5500.0,6360.0,6600.0,5136.0,4400.0,5400.0,3300.0,3650.0,6100.0,6900.0,2817.0,7980.0,3150.0,6210.0,6100.0,6600.0,6825.0,6710.0,6450.0,7800.0,4600.0,4260.0,6540.0,5500.0,10269.0,8400.0,5300.0,3800.0,9800.0,8520.0,6050.0,7085.0,3180.0,4500.0,7200.0,3410.0,7980.0,3000.0,3000.0,11410.0,6100.0,5720.0,3540.0,7600.0,10700.0,6600.0,4800.0,8150.0,4410.0,7686.0,2800.0,5948.0,4200.0,4520.0,4095.0,4120.0,5400.0,4770.0,6300.0,5800.0,3000.0,2970.0,6720.0,4646.0,12900.0,3420.0,4995.0,4350.0,4160.0,6040.0,6862.0,4815.0,7000.0,8100.0,3420.0,9166.0,6321.0,10240.0,6440.0,5170.0,6000.0,3630.0,9667.0,5400.0,4320.0,3745.0,4160.0,3880.0,5680.0,2870.0,5010.0,4510.0,4000.0,3840.0,3760.0,3640.0,2550.0,5320.0,5360.0,3520.0,8400.0,4100.0,4990.0,3510.0,3450.0,9860.0,3520.0,4510.0,5885.0,4000.0,8250.0,4040.0,6360.0,3162.0,3510.0,3750.0,3968.0,4900.0,2880.0,4880.0,4920.0,4950.0,3900.0,4500.0,1905.0,4075.0,3500.0,6450.0,4032.0,4400.0,10360.0,3400.0,6360.0,6360.0,4500.0,2175.0,4360.0,7770.0,6650.0,2787.0,5500.0,5040.0,5850.0,2610.0,2953.0,2747.0,4410.0,4000.0,2325.0,4600.0,3640.0,5800.0,7000.0,4079.0,3520.0,2145.0,4500.0,8250.0,3450.0,4840.0,4080.0,4046.0,4632.0,5985.0,6060.0,3600.0,3680.0,4040.0,5600.0,5900.0,4992.0,4340.0,3000.0,4320.0,3630.0,3460.0,5400.0,4500.0,3460.0,4100.0,6480.0,4500.0,3960.0,4050.0,7260.0,5500.0,3000.0,3290.0,3816.0,8080.0,2145.0,3780.0,3180.0,5300.0,3180.0,7152.0,4080.0,3850.0,2015.0,2176.0,3350.0,3150.0,4820.0,3420.0,3600.0,5830.0,2856.0,8400.0,8250.0,2520.0,6930.0,3480.0,3600.0,4040.0,6020.0,4050.0,3584.0,3120.0,5450.0,3630.0,3630.0,5640.0,3600.0,4280.0,3570.0,3180.0,3000.0,3520.0,5960.0,4130.0,2850.0,2275.0,3520.0,4500.0,4000.0,3150.0,4500.0,4500.0,3640.0,3850.0,4240.0,3650.0,4600.0,2135.0,3036.0,3990.0,7424.0,3480.0,3600.0,3640.0,5900.0,3120.0,7350.0,3512.0,9500.0,5880.0,12944.0,4900.0,3060.0,5320.0,2145.0,4000.0,3185.0,3850.0,2145.0,2610.0,1950.0,4040.0,4785.0,3450.0,3640.0,3500.0,4960.0,4120.0,4750.0,3720.0,3750.0,3100.0,3185.0,2700.0,2145.0,4040.0,4775.0,2500.0,3180.0,6060.0,3480.0,3792.0,4040.0,2145.0,5880.0,4500.0,3930.0,3640.0,4370.0,2684.0,4320.0,3120.0,3450.0,3986.0,3500.0,4095.0,1650.0,3450.0,6750.0,9000.0,3069.0,4500.0,5495.0,2398.0,3000.0,3850.0,3500.0,8100.0,4960.0,2160.0,3090.0,4500.0,3800.0,3090.0,3240.0,2835.0,4600.0,5076.0,3750.0,3630.0,8050.0,4352.0,3000.0,5850.0,4960.0,3600.0,3660.0,3480.0,2700.0,3150.0,6615.0,3040.0,3630.0,6000.0,5400.0,5200.0,3300.0,4350.0,2640.0,2650.0,3960.0,6800.0,4000.0,4000.0,3934.0,2000.0,3630.0,2800.0,2430.0,3480.0,4000.0,3185.0,4000.0,2910.0,3600.0,4400.0,3600.0,2880.0,3180.0,3000.0,4400.0,3000.0,3210.0,3240.0,3000.0,3500.0,4840.0,7700.0,3635.0,2475.0,2787.0,3264.0,3640.0,3180.0,1836.0,3970.0,3970.0,1950.0,5300.0,3000.0,2400.0,3000.0,3360.0,3420.0,1700.0,3649.0,2990.0,3000.0,2400.0,3620.0,2910.0,3850.0],\"xaxis\":\"x\",\"y\":[13300000.0,12250000.0,12250000.0,12215000.0,11410000.0,10850000.0,10150000.0,10150000.0,9870000.0,9800000.0,9800000.0,9681000.0,9310000.0,9240000.0,9240000.0,9100000.0,9100000.0,8960000.0,8890000.0,8855000.0,8750000.0,8680000.0,8645000.0,8645000.0,8575000.0,8540000.0,8463000.0,8400000.0,8400000.0,8400000.0,8400000.0,8400000.0,8295000.0,8190000.0,8120000.0,8080940.0,8043000.0,7980000.0,7962500.0,7910000.0,7875000.0,7840000.0,7700000.0,7700000.0,7560000.0,7560000.0,7525000.0,7490000.0,7455000.0,7420000.0,7420000.0,7420000.0,7350000.0,7350000.0,7350000.0,7350000.0,7343000.0,7245000.0,7210000.0,7210000.0,7140000.0,7070000.0,7070000.0,7035000.0,7000000.0,6930000.0,6930000.0,6895000.0,6860000.0,6790000.0,6790000.0,6755000.0,6720000.0,6685000.0,6650000.0,6650000.0,6650000.0,6650000.0,6650000.0,6650000.0,6629000.0,6615000.0,6615000.0,6580000.0,6510000.0,6510000.0,6510000.0,6475000.0,6475000.0,6440000.0,6440000.0,6419000.0,6405000.0,6300000.0,6300000.0,6300000.0,6300000.0,6300000.0,6293000.0,6265000.0,6230000.0,6230000.0,6195000.0,6195000.0,6195000.0,6160000.0,6160000.0,6125000.0,6107500.0,6090000.0,6090000.0,6090000.0,6083000.0,6083000.0,6020000.0,6020000.0,6020000.0,5950000.0,5950000.0,5950000.0,5950000.0,5950000.0,5950000.0,5950000.0,5950000.0,5943000.0,5880000.0,5880000.0,5873000.0,5873000.0,5866000.0,5810000.0,5810000.0,5810000.0,5803000.0,5775000.0,5740000.0,5740000.0,5740000.0,5740000.0,5740000.0,5652500.0,5600000.0,5600000.0,5600000.0,5600000.0,5600000.0,5600000.0,5600000.0,5600000.0,5600000.0,5565000.0,5565000.0,5530000.0,5530000.0,5530000.0,5523000.0,5495000.0,5495000.0,5460000.0,5460000.0,5460000.0,5460000.0,5425000.0,5390000.0,5383000.0,5320000.0,5285000.0,5250000.0,5250000.0,5250000.0,5250000.0,5250000.0,5250000.0,5250000.0,5250000.0,5250000.0,5243000.0,5229000.0,5215000.0,5215000.0,5215000.0,5145000.0,5145000.0,5110000.0,5110000.0,5110000.0,5110000.0,5075000.0,5040000.0,5040000.0,5040000.0,5040000.0,5033000.0,5005000.0,4970000.0,4970000.0,4956000.0,4935000.0,4907000.0,4900000.0,4900000.0,4900000.0,4900000.0,4900000.0,4900000.0,4900000.0,4900000.0,4900000.0,4900000.0,4900000.0,4900000.0,4893000.0,4893000.0,4865000.0,4830000.0,4830000.0,4830000.0,4830000.0,4795000.0,4795000.0,4767000.0,4760000.0,4760000.0,4760000.0,4753000.0,4690000.0,4690000.0,4690000.0,4690000.0,4690000.0,4690000.0,4655000.0,4620000.0,4620000.0,4620000.0,4620000.0,4620000.0,4613000.0,4585000.0,4585000.0,4550000.0,4550000.0,4550000.0,4550000.0,4550000.0,4550000.0,4550000.0,4543000.0,4543000.0,4515000.0,4515000.0,4515000.0,4515000.0,4480000.0,4480000.0,4480000.0,4480000.0,4480000.0,4473000.0,4473000.0,4473000.0,4445000.0,4410000.0,4410000.0,4403000.0,4403000.0,4403000.0,4382000.0,4375000.0,4340000.0,4340000.0,4340000.0,4340000.0,4340000.0,4319000.0,4305000.0,4305000.0,4277000.0,4270000.0,4270000.0,4270000.0,4270000.0,4270000.0,4270000.0,4235000.0,4235000.0,4200000.0,4200000.0,4200000.0,4200000.0,4200000.0,4200000.0,4200000.0,4200000.0,4200000.0,4200000.0,4200000.0,4200000.0,4200000.0,4200000.0,4200000.0,4200000.0,4200000.0,4193000.0,4193000.0,4165000.0,4165000.0,4165000.0,4130000.0,4130000.0,4123000.0,4098500.0,4095000.0,4095000.0,4095000.0,4060000.0,4060000.0,4060000.0,4060000.0,4060000.0,4025000.0,4025000.0,4025000.0,4007500.0,4007500.0,3990000.0,3990000.0,3990000.0,3990000.0,3990000.0,3920000.0,3920000.0,3920000.0,3920000.0,3920000.0,3920000.0,3920000.0,3885000.0,3885000.0,3850000.0,3850000.0,3850000.0,3850000.0,3850000.0,3850000.0,3850000.0,3836000.0,3815000.0,3780000.0,3780000.0,3780000.0,3780000.0,3780000.0,3780000.0,3773000.0,3773000.0,3773000.0,3745000.0,3710000.0,3710000.0,3710000.0,3710000.0,3710000.0,3703000.0,3703000.0,3675000.0,3675000.0,3675000.0,3675000.0,3640000.0,3640000.0,3640000.0,3640000.0,3640000.0,3640000.0,3640000.0,3640000.0,3640000.0,3633000.0,3605000.0,3605000.0,3570000.0,3570000.0,3570000.0,3570000.0,3535000.0,3500000.0,3500000.0,3500000.0,3500000.0,3500000.0,3500000.0,3500000.0,3500000.0,3500000.0,3500000.0,3500000.0,3500000.0,3500000.0,3500000.0,3500000.0,3500000.0,3500000.0,3493000.0,3465000.0,3465000.0,3465000.0,3430000.0,3430000.0,3430000.0,3430000.0,3430000.0,3430000.0,3423000.0,3395000.0,3395000.0,3395000.0,3360000.0,3360000.0,3360000.0,3360000.0,3360000.0,3360000.0,3360000.0,3360000.0,3353000.0,3332000.0,3325000.0,3325000.0,3290000.0,3290000.0,3290000.0,3290000.0,3290000.0,3290000.0,3290000.0,3290000.0,3255000.0,3255000.0,3234000.0,3220000.0,3220000.0,3220000.0,3220000.0,3150000.0,3150000.0,3150000.0,3150000.0,3150000.0,3150000.0,3150000.0,3150000.0,3150000.0,3143000.0,3129000.0,3118850.0,3115000.0,3115000.0,3115000.0,3087000.0,3080000.0,3080000.0,3080000.0,3080000.0,3045000.0,3010000.0,3010000.0,3010000.0,3010000.0,3010000.0,3010000.0,3010000.0,3003000.0,2975000.0,2961000.0,2940000.0,2940000.0,2940000.0,2940000.0,2940000.0,2940000.0,2940000.0,2940000.0,2870000.0,2870000.0,2870000.0,2870000.0,2852500.0,2835000.0,2835000.0,2835000.0,2800000.0,2800000.0,2730000.0,2730000.0,2695000.0,2660000.0,2660000.0,2660000.0,2660000.0,2660000.0,2660000.0,2660000.0,2653000.0,2653000.0,2604000.0,2590000.0,2590000.0,2590000.0,2520000.0,2520000.0,2520000.0,2485000.0,2485000.0,2450000.0,2450000.0,2450000.0,2450000.0,2450000.0,2450000.0,2408000.0,2380000.0,2380000.0,2380000.0,2345000.0,2310000.0,2275000.0,2275000.0,2275000.0,2240000.0,2233000.0,2135000.0,2100000.0,2100000.0,2100000.0,1960000.0,1890000.0,1890000.0,1855000.0,1820000.0,1767150.0,1750000.0,1750000.0,1750000.0],\"yaxis\":\"y\",\"type\":\"histogram\"}],                        {\"template\":{\"data\":{\"histogram2dcontour\":[{\"type\":\"histogram2dcontour\",\"colorbar\":{\"outlinewidth\":0,\"ticks\":\"\"},\"colorscale\":[[0.0,\"#0d0887\"],[0.1111111111111111,\"#46039f\"],[0.2222222222222222,\"#7201a8\"],[0.3333333333333333,\"#9c179e\"],[0.4444444444444444,\"#bd3786\"],[0.5555555555555556,\"#d8576b\"],[0.6666666666666666,\"#ed7953\"],[0.7777777777777778,\"#fb9f3a\"],[0.8888888888888888,\"#fdca26\"],[1.0,\"#f0f921\"]]}],\"choropleth\":[{\"type\":\"choropleth\",\"colorbar\":{\"outlinewidth\":0,\"ticks\":\"\"}}],\"histogram2d\":[{\"type\":\"histogram2d\",\"colorbar\":{\"outlinewidth\":0,\"ticks\":\"\"},\"colorscale\":[[0.0,\"#0d0887\"],[0.1111111111111111,\"#46039f\"],[0.2222222222222222,\"#7201a8\"],[0.3333333333333333,\"#9c179e\"],[0.4444444444444444,\"#bd3786\"],[0.5555555555555556,\"#d8576b\"],[0.6666666666666666,\"#ed7953\"],[0.7777777777777778,\"#fb9f3a\"],[0.8888888888888888,\"#fdca26\"],[1.0,\"#f0f921\"]]}],\"heatmap\":[{\"type\":\"heatmap\",\"colorbar\":{\"outlinewidth\":0,\"ticks\":\"\"},\"colorscale\":[[0.0,\"#0d0887\"],[0.1111111111111111,\"#46039f\"],[0.2222222222222222,\"#7201a8\"],[0.3333333333333333,\"#9c179e\"],[0.4444444444444444,\"#bd3786\"],[0.5555555555555556,\"#d8576b\"],[0.6666666666666666,\"#ed7953\"],[0.7777777777777778,\"#fb9f3a\"],[0.8888888888888888,\"#fdca26\"],[1.0,\"#f0f921\"]]}],\"heatmapgl\":[{\"type\":\"heatmapgl\",\"colorbar\":{\"outlinewidth\":0,\"ticks\":\"\"},\"colorscale\":[[0.0,\"#0d0887\"],[0.1111111111111111,\"#46039f\"],[0.2222222222222222,\"#7201a8\"],[0.3333333333333333,\"#9c179e\"],[0.4444444444444444,\"#bd3786\"],[0.5555555555555556,\"#d8576b\"],[0.6666666666666666,\"#ed7953\"],[0.7777777777777778,\"#fb9f3a\"],[0.8888888888888888,\"#fdca26\"],[1.0,\"#f0f921\"]]}],\"contourcarpet\":[{\"type\":\"contourcarpet\",\"colorbar\":{\"outlinewidth\":0,\"ticks\":\"\"}}],\"contour\":[{\"type\":\"contour\",\"colorbar\":{\"outlinewidth\":0,\"ticks\":\"\"},\"colorscale\":[[0.0,\"#0d0887\"],[0.1111111111111111,\"#46039f\"],[0.2222222222222222,\"#7201a8\"],[0.3333333333333333,\"#9c179e\"],[0.4444444444444444,\"#bd3786\"],[0.5555555555555556,\"#d8576b\"],[0.6666666666666666,\"#ed7953\"],[0.7777777777777778,\"#fb9f3a\"],[0.8888888888888888,\"#fdca26\"],[1.0,\"#f0f921\"]]}],\"surface\":[{\"type\":\"surface\",\"colorbar\":{\"outlinewidth\":0,\"ticks\":\"\"},\"colorscale\":[[0.0,\"#0d0887\"],[0.1111111111111111,\"#46039f\"],[0.2222222222222222,\"#7201a8\"],[0.3333333333333333,\"#9c179e\"],[0.4444444444444444,\"#bd3786\"],[0.5555555555555556,\"#d8576b\"],[0.6666666666666666,\"#ed7953\"],[0.7777777777777778,\"#fb9f3a\"],[0.8888888888888888,\"#fdca26\"],[1.0,\"#f0f921\"]]}],\"mesh3d\":[{\"type\":\"mesh3d\",\"colorbar\":{\"outlinewidth\":0,\"ticks\":\"\"}}],\"scatter\":[{\"fillpattern\":{\"fillmode\":\"overlay\",\"size\":10,\"solidity\":0.2},\"type\":\"scatter\"}],\"parcoords\":[{\"type\":\"parcoords\",\"line\":{\"colorbar\":{\"outlinewidth\":0,\"ticks\":\"\"}}}],\"scatterpolargl\":[{\"type\":\"scatterpolargl\",\"marker\":{\"colorbar\":{\"outlinewidth\":0,\"ticks\":\"\"}}}],\"bar\":[{\"error_x\":{\"color\":\"#2a3f5f\"},\"error_y\":{\"color\":\"#2a3f5f\"},\"marker\":{\"line\":{\"color\":\"#E5ECF6\",\"width\":0.5},\"pattern\":{\"fillmode\":\"overlay\",\"size\":10,\"solidity\":0.2}},\"type\":\"bar\"}],\"scattergeo\":[{\"type\":\"scattergeo\",\"marker\":{\"colorbar\":{\"outlinewidth\":0,\"ticks\":\"\"}}}],\"scatterpolar\":[{\"type\":\"scatterpolar\",\"marker\":{\"colorbar\":{\"outlinewidth\":0,\"ticks\":\"\"}}}],\"histogram\":[{\"marker\":{\"pattern\":{\"fillmode\":\"overlay\",\"size\":10,\"solidity\":0.2}},\"type\":\"histogram\"}],\"scattergl\":[{\"type\":\"scattergl\",\"marker\":{\"colorbar\":{\"outlinewidth\":0,\"ticks\":\"\"}}}],\"scatter3d\":[{\"type\":\"scatter3d\",\"line\":{\"colorbar\":{\"outlinewidth\":0,\"ticks\":\"\"}},\"marker\":{\"colorbar\":{\"outlinewidth\":0,\"ticks\":\"\"}}}],\"scattermapbox\":[{\"type\":\"scattermapbox\",\"marker\":{\"colorbar\":{\"outlinewidth\":0,\"ticks\":\"\"}}}],\"scatterternary\":[{\"type\":\"scatterternary\",\"marker\":{\"colorbar\":{\"outlinewidth\":0,\"ticks\":\"\"}}}],\"scattercarpet\":[{\"type\":\"scattercarpet\",\"marker\":{\"colorbar\":{\"outlinewidth\":0,\"ticks\":\"\"}}}],\"carpet\":[{\"aaxis\":{\"endlinecolor\":\"#2a3f5f\",\"gridcolor\":\"white\",\"linecolor\":\"white\",\"minorgridcolor\":\"white\",\"startlinecolor\":\"#2a3f5f\"},\"baxis\":{\"endlinecolor\":\"#2a3f5f\",\"gridcolor\":\"white\",\"linecolor\":\"white\",\"minorgridcolor\":\"white\",\"startlinecolor\":\"#2a3f5f\"},\"type\":\"carpet\"}],\"table\":[{\"cells\":{\"fill\":{\"color\":\"#EBF0F8\"},\"line\":{\"color\":\"white\"}},\"header\":{\"fill\":{\"color\":\"#C8D4E3\"},\"line\":{\"color\":\"white\"}},\"type\":\"table\"}],\"barpolar\":[{\"marker\":{\"line\":{\"color\":\"#E5ECF6\",\"width\":0.5},\"pattern\":{\"fillmode\":\"overlay\",\"size\":10,\"solidity\":0.2}},\"type\":\"barpolar\"}],\"pie\":[{\"automargin\":true,\"type\":\"pie\"}]},\"layout\":{\"autotypenumbers\":\"strict\",\"colorway\":[\"#636efa\",\"#EF553B\",\"#00cc96\",\"#ab63fa\",\"#FFA15A\",\"#19d3f3\",\"#FF6692\",\"#B6E880\",\"#FF97FF\",\"#FECB52\"],\"font\":{\"color\":\"#2a3f5f\"},\"hovermode\":\"closest\",\"hoverlabel\":{\"align\":\"left\"},\"paper_bgcolor\":\"white\",\"plot_bgcolor\":\"#E5ECF6\",\"polar\":{\"bgcolor\":\"#E5ECF6\",\"angularaxis\":{\"gridcolor\":\"white\",\"linecolor\":\"white\",\"ticks\":\"\"},\"radialaxis\":{\"gridcolor\":\"white\",\"linecolor\":\"white\",\"ticks\":\"\"}},\"ternary\":{\"bgcolor\":\"#E5ECF6\",\"aaxis\":{\"gridcolor\":\"white\",\"linecolor\":\"white\",\"ticks\":\"\"},\"baxis\":{\"gridcolor\":\"white\",\"linecolor\":\"white\",\"ticks\":\"\"},\"caxis\":{\"gridcolor\":\"white\",\"linecolor\":\"white\",\"ticks\":\"\"}},\"coloraxis\":{\"colorbar\":{\"outlinewidth\":0,\"ticks\":\"\"}},\"colorscale\":{\"sequential\":[[0.0,\"#0d0887\"],[0.1111111111111111,\"#46039f\"],[0.2222222222222222,\"#7201a8\"],[0.3333333333333333,\"#9c179e\"],[0.4444444444444444,\"#bd3786\"],[0.5555555555555556,\"#d8576b\"],[0.6666666666666666,\"#ed7953\"],[0.7777777777777778,\"#fb9f3a\"],[0.8888888888888888,\"#fdca26\"],[1.0,\"#f0f921\"]],\"sequentialminus\":[[0.0,\"#0d0887\"],[0.1111111111111111,\"#46039f\"],[0.2222222222222222,\"#7201a8\"],[0.3333333333333333,\"#9c179e\"],[0.4444444444444444,\"#bd3786\"],[0.5555555555555556,\"#d8576b\"],[0.6666666666666666,\"#ed7953\"],[0.7777777777777778,\"#fb9f3a\"],[0.8888888888888888,\"#fdca26\"],[1.0,\"#f0f921\"]],\"diverging\":[[0,\"#8e0152\"],[0.1,\"#c51b7d\"],[0.2,\"#de77ae\"],[0.3,\"#f1b6da\"],[0.4,\"#fde0ef\"],[0.5,\"#f7f7f7\"],[0.6,\"#e6f5d0\"],[0.7,\"#b8e186\"],[0.8,\"#7fbc41\"],[0.9,\"#4d9221\"],[1,\"#276419\"]]},\"xaxis\":{\"gridcolor\":\"white\",\"linecolor\":\"white\",\"ticks\":\"\",\"title\":{\"standoff\":15},\"zerolinecolor\":\"white\",\"automargin\":true,\"zerolinewidth\":2},\"yaxis\":{\"gridcolor\":\"white\",\"linecolor\":\"white\",\"ticks\":\"\",\"title\":{\"standoff\":15},\"zerolinecolor\":\"white\",\"automargin\":true,\"zerolinewidth\":2},\"scene\":{\"xaxis\":{\"backgroundcolor\":\"#E5ECF6\",\"gridcolor\":\"white\",\"linecolor\":\"white\",\"showbackground\":true,\"ticks\":\"\",\"zerolinecolor\":\"white\",\"gridwidth\":2},\"yaxis\":{\"backgroundcolor\":\"#E5ECF6\",\"gridcolor\":\"white\",\"linecolor\":\"white\",\"showbackground\":true,\"ticks\":\"\",\"zerolinecolor\":\"white\",\"gridwidth\":2},\"zaxis\":{\"backgroundcolor\":\"#E5ECF6\",\"gridcolor\":\"white\",\"linecolor\":\"white\",\"showbackground\":true,\"ticks\":\"\",\"zerolinecolor\":\"white\",\"gridwidth\":2}},\"shapedefaults\":{\"line\":{\"color\":\"#2a3f5f\"}},\"annotationdefaults\":{\"arrowcolor\":\"#2a3f5f\",\"arrowhead\":0,\"arrowwidth\":1},\"geo\":{\"bgcolor\":\"white\",\"landcolor\":\"#E5ECF6\",\"subunitcolor\":\"white\",\"showland\":true,\"showlakes\":true,\"lakecolor\":\"white\"},\"title\":{\"x\":0.05},\"mapbox\":{\"style\":\"light\"}}},\"xaxis\":{\"anchor\":\"y\",\"domain\":[0.0,1.0],\"title\":{\"text\":\"area\"}},\"yaxis\":{\"anchor\":\"x\",\"domain\":[0.0,1.0],\"title\":{\"text\":\"sum of price\"}},\"legend\":{\"tracegroupgap\":0},\"margin\":{\"t\":60},\"barmode\":\"relative\",\"height\":400},                        {\"responsive\": true}                    ).then(function(){\n",
       "                            \n",
       "var gd = document.getElementById('bc211e54-25e4-4836-a714-1f5c7e0cbcd1');\n",
       "var x = new MutationObserver(function (mutations, observer) {{\n",
       "        var display = window.getComputedStyle(gd).display;\n",
       "        if (!display || display === 'none') {{\n",
       "            console.log([gd, 'removed!']);\n",
       "            Plotly.purge(gd);\n",
       "            observer.disconnect();\n",
       "        }}\n",
       "}});\n",
       "\n",
       "// Listen for the removal of the full notebook cells\n",
       "var notebookContainer = gd.closest('#notebook-container');\n",
       "if (notebookContainer) {{\n",
       "    x.observe(notebookContainer, {childList: true});\n",
       "}}\n",
       "\n",
       "// Listen for the clearing of the current output cell\n",
       "var outputEl = gd.closest('.output');\n",
       "if (outputEl) {{\n",
       "    x.observe(outputEl, {childList: true});\n",
       "}}\n",
       "\n",
       "                        })                };                });            </script>        </div>"
      ]
     },
     "metadata": {},
     "output_type": "display_data"
    }
   ],
   "source": [
    "px.histogram(data_frame=houses,x='area',y='price',height=400)"
   ]
  },
  {
   "cell_type": "code",
   "execution_count": 14,
   "id": "5a284caa",
   "metadata": {
    "execution": {
     "iopub.execute_input": "2023-08-07T13:28:01.889836Z",
     "iopub.status.busy": "2023-08-07T13:28:01.888752Z",
     "iopub.status.idle": "2023-08-07T13:28:04.230658Z",
     "shell.execute_reply": "2023-08-07T13:28:04.229435Z"
    },
    "papermill": {
     "duration": 2.370932,
     "end_time": "2023-08-07T13:28:04.234842",
     "exception": false,
     "start_time": "2023-08-07T13:28:01.863910",
     "status": "completed"
    },
    "tags": []
   },
   "outputs": [
    {
     "data": {
      "text/html": [
       "<div>                            <div id=\"672d7b55-98fc-4a9e-872b-ced9c5e2d637\" class=\"plotly-graph-div\" style=\"height:400px; width:100%;\"></div>            <script type=\"text/javascript\">                require([\"plotly\"], function(Plotly) {                    window.PLOTLYENV=window.PLOTLYENV || {};                                    if (document.getElementById(\"672d7b55-98fc-4a9e-872b-ced9c5e2d637\")) {                    Plotly.newPlot(                        \"672d7b55-98fc-4a9e-872b-ced9c5e2d637\",                        [{\"hovertemplate\":\"area=%{x}\\u003cbr\\u003eprice=%{y}\\u003cextra\\u003e\\u003c\\u002fextra\\u003e\",\"legendgroup\":\"\",\"marker\":{\"color\":\"#636efa\",\"symbol\":\"circle\"},\"mode\":\"markers\",\"name\":\"\",\"orientation\":\"v\",\"showlegend\":false,\"x\":[7420.0,8960.0,9960.0,7500.0,7420.0,7500.0,8580.0,16200.0,8100.0,5750.0,13200.0,6000.0,6550.0,3500.0,7800.0,6000.0,6600.0,8500.0,4600.0,6420.0,4320.0,7155.0,8050.0,4560.0,8800.0,6540.0,6000.0,8875.0,7950.0,5500.0,7475.0,7000.0,4880.0,5960.0,6840.0,7000.0,7482.0,9000.0,6000.0,6000.0,6550.0,6360.0,6480.0,6000.0,6000.0,6000.0,6000.0,6600.0,4300.0,7440.0,7440.0,6325.0,6000.0,5150.0,6000.0,6000.0,11440.0,9000.0,7680.0,6000.0,6000.0,8880.0,6240.0,6360.0,11175.0,8880.0,13200.0,7700.0,6000.0,12090.0,4000.0,6000.0,5020.0,6600.0,4040.0,4260.0,6420.0,6500.0,5700.0,6000.0,6000.0,4000.0,10500.0,6000.0,3760.0,8250.0,6670.0,3960.0,7410.0,8580.0,5000.0,6750.0,4800.0,7200.0,6000.0,4100.0,9000.0,6400.0,6600.0,6000.0,6600.0,5500.0,5500.0,6350.0,5500.0,4500.0,5450.0,6420.0,3240.0,6615.0,6600.0,8372.0,4300.0,9620.0,6800.0,8000.0,6900.0,3700.0,6420.0,7020.0,6540.0,7231.0,6254.0,7320.0,6525.0,15600.0,7160.0,6500.0,5500.0,11460.0,4800.0,5828.0,5200.0,4800.0,7000.0,6000.0,5400.0,4640.0,5000.0,6360.0,5800.0,6660.0,10500.0,4800.0,4700.0,5000.0,10500.0,5500.0,6360.0,6600.0,5136.0,4400.0,5400.0,3300.0,3650.0,6100.0,6900.0,2817.0,7980.0,3150.0,6210.0,6100.0,6600.0,6825.0,6710.0,6450.0,7800.0,4600.0,4260.0,6540.0,5500.0,10269.0,8400.0,5300.0,3800.0,9800.0,8520.0,6050.0,7085.0,3180.0,4500.0,7200.0,3410.0,7980.0,3000.0,3000.0,11410.0,6100.0,5720.0,3540.0,7600.0,10700.0,6600.0,4800.0,8150.0,4410.0,7686.0,2800.0,5948.0,4200.0,4520.0,4095.0,4120.0,5400.0,4770.0,6300.0,5800.0,3000.0,2970.0,6720.0,4646.0,12900.0,3420.0,4995.0,4350.0,4160.0,6040.0,6862.0,4815.0,7000.0,8100.0,3420.0,9166.0,6321.0,10240.0,6440.0,5170.0,6000.0,3630.0,9667.0,5400.0,4320.0,3745.0,4160.0,3880.0,5680.0,2870.0,5010.0,4510.0,4000.0,3840.0,3760.0,3640.0,2550.0,5320.0,5360.0,3520.0,8400.0,4100.0,4990.0,3510.0,3450.0,9860.0,3520.0,4510.0,5885.0,4000.0,8250.0,4040.0,6360.0,3162.0,3510.0,3750.0,3968.0,4900.0,2880.0,4880.0,4920.0,4950.0,3900.0,4500.0,1905.0,4075.0,3500.0,6450.0,4032.0,4400.0,10360.0,3400.0,6360.0,6360.0,4500.0,2175.0,4360.0,7770.0,6650.0,2787.0,5500.0,5040.0,5850.0,2610.0,2953.0,2747.0,4410.0,4000.0,2325.0,4600.0,3640.0,5800.0,7000.0,4079.0,3520.0,2145.0,4500.0,8250.0,3450.0,4840.0,4080.0,4046.0,4632.0,5985.0,6060.0,3600.0,3680.0,4040.0,5600.0,5900.0,4992.0,4340.0,3000.0,4320.0,3630.0,3460.0,5400.0,4500.0,3460.0,4100.0,6480.0,4500.0,3960.0,4050.0,7260.0,5500.0,3000.0,3290.0,3816.0,8080.0,2145.0,3780.0,3180.0,5300.0,3180.0,7152.0,4080.0,3850.0,2015.0,2176.0,3350.0,3150.0,4820.0,3420.0,3600.0,5830.0,2856.0,8400.0,8250.0,2520.0,6930.0,3480.0,3600.0,4040.0,6020.0,4050.0,3584.0,3120.0,5450.0,3630.0,3630.0,5640.0,3600.0,4280.0,3570.0,3180.0,3000.0,3520.0,5960.0,4130.0,2850.0,2275.0,3520.0,4500.0,4000.0,3150.0,4500.0,4500.0,3640.0,3850.0,4240.0,3650.0,4600.0,2135.0,3036.0,3990.0,7424.0,3480.0,3600.0,3640.0,5900.0,3120.0,7350.0,3512.0,9500.0,5880.0,12944.0,4900.0,3060.0,5320.0,2145.0,4000.0,3185.0,3850.0,2145.0,2610.0,1950.0,4040.0,4785.0,3450.0,3640.0,3500.0,4960.0,4120.0,4750.0,3720.0,3750.0,3100.0,3185.0,2700.0,2145.0,4040.0,4775.0,2500.0,3180.0,6060.0,3480.0,3792.0,4040.0,2145.0,5880.0,4500.0,3930.0,3640.0,4370.0,2684.0,4320.0,3120.0,3450.0,3986.0,3500.0,4095.0,1650.0,3450.0,6750.0,9000.0,3069.0,4500.0,5495.0,2398.0,3000.0,3850.0,3500.0,8100.0,4960.0,2160.0,3090.0,4500.0,3800.0,3090.0,3240.0,2835.0,4600.0,5076.0,3750.0,3630.0,8050.0,4352.0,3000.0,5850.0,4960.0,3600.0,3660.0,3480.0,2700.0,3150.0,6615.0,3040.0,3630.0,6000.0,5400.0,5200.0,3300.0,4350.0,2640.0,2650.0,3960.0,6800.0,4000.0,4000.0,3934.0,2000.0,3630.0,2800.0,2430.0,3480.0,4000.0,3185.0,4000.0,2910.0,3600.0,4400.0,3600.0,2880.0,3180.0,3000.0,4400.0,3000.0,3210.0,3240.0,3000.0,3500.0,4840.0,7700.0,3635.0,2475.0,2787.0,3264.0,3640.0,3180.0,1836.0,3970.0,3970.0,1950.0,5300.0,3000.0,2400.0,3000.0,3360.0,3420.0,1700.0,3649.0,2990.0,3000.0,2400.0,3620.0,2910.0,3850.0],\"xaxis\":\"x\",\"y\":[13300000.0,12250000.0,12250000.0,12215000.0,11410000.0,10850000.0,10150000.0,10150000.0,9870000.0,9800000.0,9800000.0,9681000.0,9310000.0,9240000.0,9240000.0,9100000.0,9100000.0,8960000.0,8890000.0,8855000.0,8750000.0,8680000.0,8645000.0,8645000.0,8575000.0,8540000.0,8463000.0,8400000.0,8400000.0,8400000.0,8400000.0,8400000.0,8295000.0,8190000.0,8120000.0,8080940.0,8043000.0,7980000.0,7962500.0,7910000.0,7875000.0,7840000.0,7700000.0,7700000.0,7560000.0,7560000.0,7525000.0,7490000.0,7455000.0,7420000.0,7420000.0,7420000.0,7350000.0,7350000.0,7350000.0,7350000.0,7343000.0,7245000.0,7210000.0,7210000.0,7140000.0,7070000.0,7070000.0,7035000.0,7000000.0,6930000.0,6930000.0,6895000.0,6860000.0,6790000.0,6790000.0,6755000.0,6720000.0,6685000.0,6650000.0,6650000.0,6650000.0,6650000.0,6650000.0,6650000.0,6629000.0,6615000.0,6615000.0,6580000.0,6510000.0,6510000.0,6510000.0,6475000.0,6475000.0,6440000.0,6440000.0,6419000.0,6405000.0,6300000.0,6300000.0,6300000.0,6300000.0,6300000.0,6293000.0,6265000.0,6230000.0,6230000.0,6195000.0,6195000.0,6195000.0,6160000.0,6160000.0,6125000.0,6107500.0,6090000.0,6090000.0,6090000.0,6083000.0,6083000.0,6020000.0,6020000.0,6020000.0,5950000.0,5950000.0,5950000.0,5950000.0,5950000.0,5950000.0,5950000.0,5950000.0,5943000.0,5880000.0,5880000.0,5873000.0,5873000.0,5866000.0,5810000.0,5810000.0,5810000.0,5803000.0,5775000.0,5740000.0,5740000.0,5740000.0,5740000.0,5740000.0,5652500.0,5600000.0,5600000.0,5600000.0,5600000.0,5600000.0,5600000.0,5600000.0,5600000.0,5600000.0,5565000.0,5565000.0,5530000.0,5530000.0,5530000.0,5523000.0,5495000.0,5495000.0,5460000.0,5460000.0,5460000.0,5460000.0,5425000.0,5390000.0,5383000.0,5320000.0,5285000.0,5250000.0,5250000.0,5250000.0,5250000.0,5250000.0,5250000.0,5250000.0,5250000.0,5250000.0,5243000.0,5229000.0,5215000.0,5215000.0,5215000.0,5145000.0,5145000.0,5110000.0,5110000.0,5110000.0,5110000.0,5075000.0,5040000.0,5040000.0,5040000.0,5040000.0,5033000.0,5005000.0,4970000.0,4970000.0,4956000.0,4935000.0,4907000.0,4900000.0,4900000.0,4900000.0,4900000.0,4900000.0,4900000.0,4900000.0,4900000.0,4900000.0,4900000.0,4900000.0,4900000.0,4893000.0,4893000.0,4865000.0,4830000.0,4830000.0,4830000.0,4830000.0,4795000.0,4795000.0,4767000.0,4760000.0,4760000.0,4760000.0,4753000.0,4690000.0,4690000.0,4690000.0,4690000.0,4690000.0,4690000.0,4655000.0,4620000.0,4620000.0,4620000.0,4620000.0,4620000.0,4613000.0,4585000.0,4585000.0,4550000.0,4550000.0,4550000.0,4550000.0,4550000.0,4550000.0,4550000.0,4543000.0,4543000.0,4515000.0,4515000.0,4515000.0,4515000.0,4480000.0,4480000.0,4480000.0,4480000.0,4480000.0,4473000.0,4473000.0,4473000.0,4445000.0,4410000.0,4410000.0,4403000.0,4403000.0,4403000.0,4382000.0,4375000.0,4340000.0,4340000.0,4340000.0,4340000.0,4340000.0,4319000.0,4305000.0,4305000.0,4277000.0,4270000.0,4270000.0,4270000.0,4270000.0,4270000.0,4270000.0,4235000.0,4235000.0,4200000.0,4200000.0,4200000.0,4200000.0,4200000.0,4200000.0,4200000.0,4200000.0,4200000.0,4200000.0,4200000.0,4200000.0,4200000.0,4200000.0,4200000.0,4200000.0,4200000.0,4193000.0,4193000.0,4165000.0,4165000.0,4165000.0,4130000.0,4130000.0,4123000.0,4098500.0,4095000.0,4095000.0,4095000.0,4060000.0,4060000.0,4060000.0,4060000.0,4060000.0,4025000.0,4025000.0,4025000.0,4007500.0,4007500.0,3990000.0,3990000.0,3990000.0,3990000.0,3990000.0,3920000.0,3920000.0,3920000.0,3920000.0,3920000.0,3920000.0,3920000.0,3885000.0,3885000.0,3850000.0,3850000.0,3850000.0,3850000.0,3850000.0,3850000.0,3850000.0,3836000.0,3815000.0,3780000.0,3780000.0,3780000.0,3780000.0,3780000.0,3780000.0,3773000.0,3773000.0,3773000.0,3745000.0,3710000.0,3710000.0,3710000.0,3710000.0,3710000.0,3703000.0,3703000.0,3675000.0,3675000.0,3675000.0,3675000.0,3640000.0,3640000.0,3640000.0,3640000.0,3640000.0,3640000.0,3640000.0,3640000.0,3640000.0,3633000.0,3605000.0,3605000.0,3570000.0,3570000.0,3570000.0,3570000.0,3535000.0,3500000.0,3500000.0,3500000.0,3500000.0,3500000.0,3500000.0,3500000.0,3500000.0,3500000.0,3500000.0,3500000.0,3500000.0,3500000.0,3500000.0,3500000.0,3500000.0,3500000.0,3493000.0,3465000.0,3465000.0,3465000.0,3430000.0,3430000.0,3430000.0,3430000.0,3430000.0,3430000.0,3423000.0,3395000.0,3395000.0,3395000.0,3360000.0,3360000.0,3360000.0,3360000.0,3360000.0,3360000.0,3360000.0,3360000.0,3353000.0,3332000.0,3325000.0,3325000.0,3290000.0,3290000.0,3290000.0,3290000.0,3290000.0,3290000.0,3290000.0,3290000.0,3255000.0,3255000.0,3234000.0,3220000.0,3220000.0,3220000.0,3220000.0,3150000.0,3150000.0,3150000.0,3150000.0,3150000.0,3150000.0,3150000.0,3150000.0,3150000.0,3143000.0,3129000.0,3118850.0,3115000.0,3115000.0,3115000.0,3087000.0,3080000.0,3080000.0,3080000.0,3080000.0,3045000.0,3010000.0,3010000.0,3010000.0,3010000.0,3010000.0,3010000.0,3010000.0,3003000.0,2975000.0,2961000.0,2940000.0,2940000.0,2940000.0,2940000.0,2940000.0,2940000.0,2940000.0,2940000.0,2870000.0,2870000.0,2870000.0,2870000.0,2852500.0,2835000.0,2835000.0,2835000.0,2800000.0,2800000.0,2730000.0,2730000.0,2695000.0,2660000.0,2660000.0,2660000.0,2660000.0,2660000.0,2660000.0,2660000.0,2653000.0,2653000.0,2604000.0,2590000.0,2590000.0,2590000.0,2520000.0,2520000.0,2520000.0,2485000.0,2485000.0,2450000.0,2450000.0,2450000.0,2450000.0,2450000.0,2450000.0,2408000.0,2380000.0,2380000.0,2380000.0,2345000.0,2310000.0,2275000.0,2275000.0,2275000.0,2240000.0,2233000.0,2135000.0,2100000.0,2100000.0,2100000.0,1960000.0,1890000.0,1890000.0,1855000.0,1820000.0,1767150.0,1750000.0,1750000.0,1750000.0],\"yaxis\":\"y\",\"type\":\"scatter\"},{\"hovertemplate\":\"\\u003cb\\u003eOLS trendline\\u003c\\u002fb\\u003e\\u003cbr\\u003eprice = 461.975 * area + 2.38731e+06\\u003cbr\\u003eR\\u003csup\\u003e2\\u003c\\u002fsup\\u003e=0.287293\\u003cbr\\u003e\\u003cbr\\u003earea=%{x}\\u003cbr\\u003eprice=%{y} \\u003cb\\u003e(trend)\\u003c\\u002fb\\u003e\\u003cextra\\u003e\\u003c\\u002fextra\\u003e\",\"legendgroup\":\"\",\"marker\":{\"color\":\"#636efa\",\"symbol\":\"circle\"},\"mode\":\"lines\",\"name\":\"\",\"showlegend\":false,\"x\":[1650.0,1700.0,1836.0,1905.0,1950.0,1950.0,2000.0,2015.0,2135.0,2145.0,2145.0,2145.0,2145.0,2145.0,2145.0,2160.0,2175.0,2176.0,2275.0,2325.0,2398.0,2400.0,2400.0,2430.0,2475.0,2500.0,2520.0,2550.0,2610.0,2610.0,2640.0,2650.0,2684.0,2700.0,2700.0,2747.0,2787.0,2787.0,2800.0,2800.0,2817.0,2835.0,2850.0,2856.0,2870.0,2880.0,2880.0,2910.0,2910.0,2953.0,2970.0,2990.0,3000.0,3000.0,3000.0,3000.0,3000.0,3000.0,3000.0,3000.0,3000.0,3000.0,3000.0,3000.0,3000.0,3000.0,3036.0,3040.0,3060.0,3069.0,3090.0,3090.0,3100.0,3120.0,3120.0,3120.0,3150.0,3150.0,3150.0,3150.0,3162.0,3180.0,3180.0,3180.0,3180.0,3180.0,3180.0,3180.0,3185.0,3185.0,3185.0,3210.0,3240.0,3240.0,3240.0,3264.0,3290.0,3300.0,3300.0,3350.0,3360.0,3400.0,3410.0,3420.0,3420.0,3420.0,3420.0,3450.0,3450.0,3450.0,3450.0,3450.0,3460.0,3460.0,3480.0,3480.0,3480.0,3480.0,3480.0,3500.0,3500.0,3500.0,3500.0,3500.0,3500.0,3510.0,3510.0,3512.0,3520.0,3520.0,3520.0,3520.0,3520.0,3540.0,3570.0,3584.0,3600.0,3600.0,3600.0,3600.0,3600.0,3600.0,3600.0,3600.0,3620.0,3630.0,3630.0,3630.0,3630.0,3630.0,3630.0,3630.0,3635.0,3640.0,3640.0,3640.0,3640.0,3640.0,3640.0,3640.0,3649.0,3650.0,3650.0,3660.0,3680.0,3700.0,3720.0,3745.0,3750.0,3750.0,3750.0,3760.0,3760.0,3780.0,3792.0,3800.0,3800.0,3816.0,3840.0,3850.0,3850.0,3850.0,3850.0,3850.0,3880.0,3900.0,3930.0,3934.0,3960.0,3960.0,3960.0,3968.0,3970.0,3970.0,3986.0,3990.0,4000.0,4000.0,4000.0,4000.0,4000.0,4000.0,4000.0,4000.0,4000.0,4000.0,4000.0,4032.0,4040.0,4040.0,4040.0,4040.0,4040.0,4040.0,4040.0,4046.0,4050.0,4050.0,4075.0,4079.0,4080.0,4080.0,4095.0,4095.0,4100.0,4100.0,4100.0,4120.0,4120.0,4130.0,4160.0,4160.0,4200.0,4240.0,4260.0,4260.0,4280.0,4300.0,4300.0,4320.0,4320.0,4320.0,4320.0,4340.0,4350.0,4350.0,4352.0,4360.0,4370.0,4400.0,4400.0,4400.0,4400.0,4410.0,4410.0,4500.0,4500.0,4500.0,4500.0,4500.0,4500.0,4500.0,4500.0,4500.0,4500.0,4500.0,4500.0,4500.0,4510.0,4510.0,4520.0,4560.0,4600.0,4600.0,4600.0,4600.0,4600.0,4632.0,4640.0,4646.0,4700.0,4750.0,4770.0,4775.0,4785.0,4800.0,4800.0,4800.0,4800.0,4800.0,4815.0,4820.0,4840.0,4840.0,4880.0,4880.0,4900.0,4900.0,4920.0,4950.0,4960.0,4960.0,4960.0,4990.0,4992.0,4995.0,5000.0,5000.0,5000.0,5010.0,5020.0,5040.0,5076.0,5136.0,5150.0,5170.0,5200.0,5200.0,5300.0,5300.0,5300.0,5320.0,5320.0,5360.0,5400.0,5400.0,5400.0,5400.0,5400.0,5400.0,5450.0,5450.0,5495.0,5500.0,5500.0,5500.0,5500.0,5500.0,5500.0,5500.0,5500.0,5500.0,5600.0,5640.0,5680.0,5700.0,5720.0,5750.0,5800.0,5800.0,5800.0,5828.0,5830.0,5850.0,5850.0,5880.0,5880.0,5885.0,5900.0,5900.0,5948.0,5960.0,5960.0,5985.0,6000.0,6000.0,6000.0,6000.0,6000.0,6000.0,6000.0,6000.0,6000.0,6000.0,6000.0,6000.0,6000.0,6000.0,6000.0,6000.0,6000.0,6000.0,6000.0,6000.0,6000.0,6000.0,6000.0,6000.0,6020.0,6040.0,6050.0,6060.0,6060.0,6100.0,6100.0,6100.0,6210.0,6240.0,6254.0,6300.0,6321.0,6325.0,6350.0,6360.0,6360.0,6360.0,6360.0,6360.0,6360.0,6360.0,6400.0,6420.0,6420.0,6420.0,6420.0,6440.0,6450.0,6450.0,6480.0,6480.0,6500.0,6500.0,6525.0,6540.0,6540.0,6540.0,6550.0,6550.0,6600.0,6600.0,6600.0,6600.0,6600.0,6600.0,6600.0,6600.0,6600.0,6615.0,6615.0,6650.0,6660.0,6670.0,6710.0,6720.0,6750.0,6750.0,6800.0,6800.0,6825.0,6840.0,6862.0,6900.0,6900.0,6930.0,7000.0,7000.0,7000.0,7000.0,7000.0,7020.0,7085.0,7152.0,7155.0,7160.0,7200.0,7200.0,7231.0,7260.0,7320.0,7350.0,7410.0,7420.0,7420.0,7424.0,7440.0,7440.0,7475.0,7482.0,7500.0,7500.0,7600.0,7680.0,7686.0,7700.0,7700.0,7770.0,7800.0,7800.0,7950.0,7980.0,7980.0,8000.0,8050.0,8050.0,8080.0,8100.0,8100.0,8100.0,8150.0,8250.0,8250.0,8250.0,8250.0,8372.0,8400.0,8400.0,8400.0,8500.0,8520.0,8580.0,8580.0,8800.0,8875.0,8880.0,8880.0,8960.0,9000.0,9000.0,9000.0,9000.0,9166.0,9500.0,9620.0,9667.0,9800.0,9860.0,9960.0,10240.0,10269.0,10360.0,10500.0,10500.0,10500.0,10700.0,11175.0,11410.0,11440.0,11460.0,12090.0,12900.0,12944.0,13200.0,13200.0,15600.0,16200.0],\"xaxis\":\"x\",\"y\":[3149567.057946522,3172665.8026601607,3235494.3882812597,3267370.6559860813,3288159.5262283566,3288159.5262283566,3311258.270941996,3318187.894356088,3373624.881668822,3378244.6306115496,3378244.6306115496,3378244.6306115496,3378244.6306115496,3378244.6306115496,3378244.6306115496,3385174.2540256414,3392103.877439733,3392565.8523340058,3438301.3668670114,3461400.1115806503,3495124.278862564,3496048.228651109,3496048.228651109,3509907.4754792927,3530696.345721568,3542245.718078388,3551485.2159638433,3565344.462792027,3593062.956448394,3593062.956448394,3606922.2032765774,3611541.9522193056,3627249.09862458,3634640.6969329445,3634640.6969329445,3656353.5169637655,3674832.5127346767,3674832.5127346767,3680838.186360223,3680838.186360223,3688691.7595628602,3697007.3076597704,3703936.931073862,3706708.780439499,3713176.4289593175,3717796.1779020457,3717796.1779020457,3731655.424730229,3731655.424730229,3751520.3451839588,3759373.9183865963,3768613.4162720516,3773233.16521478,3773233.16521478,3773233.16521478,3773233.16521478,3773233.16521478,3773233.16521478,3773233.16521478,3773233.16521478,3773233.16521478,3773233.16521478,3773233.16521478,3773233.16521478,3773233.16521478,3773233.16521478,3789864.2614086,3791712.160985691,3800951.658871147,3805109.432919602,3814810.9056993304,3814810.9056993304,3819430.654642058,3828670.152527514,3828670.152527514,3828670.152527514,3842529.3993556974,3842529.3993556974,3842529.3993556974,3842529.3993556974,3848073.098086971,3856388.646183881,3856388.646183881,3856388.646183881,3856388.646183881,3856388.646183881,3856388.646183881,3856388.646183881,3858698.5206552446,3858698.5206552446,3858698.5206552446,3870247.8930120645,3884107.139840248,3884107.139840248,3884107.139840248,3895194.537302795,3907205.884553887,3911825.633496615,3911825.633496615,3934924.378210254,3939544.1271529817,3958023.122923893,3962642.871866621,3967262.6208093488,3967262.6208093488,3967262.6208093488,3967262.6208093488,3981121.8676375323,3981121.8676375323,3981121.8676375323,3981121.8676375323,3981121.8676375323,3985741.61658026,3985741.61658026,3994981.114465716,3994981.114465716,3994981.114465716,3994981.114465716,3994981.114465716,4004220.6123511717,4004220.6123511717,4004220.6123511717,4004220.6123511717,4004220.6123511717,4004220.6123511717,4008840.3612938994,4008840.3612938994,4009764.311082445,4013460.110236627,4013460.110236627,4013460.110236627,4013460.110236627,4013460.110236627,4022699.608122083,4036558.8549502664,4043026.5034700856,4050418.10177845,4050418.10177845,4050418.10177845,4050418.10177845,4050418.10177845,4050418.10177845,4050418.10177845,4050418.10177845,4059657.599663906,4064277.3486066335,4064277.3486066335,4064277.3486066335,4064277.3486066335,4064277.3486066335,4064277.3486066335,4064277.3486066335,4066587.2230779976,4068897.097549361,4068897.097549361,4068897.097549361,4068897.097549361,4068897.097549361,4068897.097549361,4068897.097549361,4073054.8715978162,4073516.8464920893,4073516.8464920893,4078136.595434817,4087376.093320273,4096615.5912057282,4105855.0890911836,4117404.4614480035,4119714.335919367,4119714.335919367,4119714.335919367,4124334.0848620953,4124334.0848620953,4133573.5827475507,4139117.281478824,4142813.080633007,4142813.080633007,4150204.678941371,4161292.0764039177,4165911.825346646,4165911.825346646,4165911.825346646,4165911.825346646,4165911.825346646,4179771.0721748294,4189010.570060285,4202869.816888468,4204717.71646556,4216729.063716652,4216729.063716652,4216729.063716652,4220424.862870835,4221348.81265938,4221348.81265938,4228740.410967745,4230588.310544835,4235208.059487564,4235208.059487564,4235208.059487564,4235208.059487564,4235208.059487564,4235208.059487564,4235208.059487564,4235208.059487564,4235208.059487564,4235208.059487564,4235208.059487564,4249991.256104292,4253687.055258475,4253687.055258475,4253687.055258475,4253687.055258475,4253687.055258475,4253687.055258475,4253687.055258475,4256458.904624112,4258306.8042012025,4258306.8042012025,4269856.176558022,4271704.076135114,4272166.051029386,4272166.051029386,4279095.674443478,4279095.674443478,4281405.548914842,4281405.548914842,4281405.548914842,4290645.046800298,4290645.046800298,4295264.795743026,4309124.042571208,4309124.042571208,4327603.03834212,4346082.034113032,4355321.531998487,4355321.531998487,4364561.029883943,4373800.527769398,4373800.527769398,4383040.025654854,4383040.025654854,4383040.025654854,4383040.025654854,4392279.52354031,4396899.272483038,4396899.272483038,4397823.222271583,4401519.021425765,4406138.770368493,4419998.017196677,4419998.017196677,4419998.017196677,4419998.017196677,4424617.766139405,4424617.766139405,4466195.506623955,4466195.506623955,4466195.506623955,4466195.506623955,4466195.506623955,4466195.506623955,4466195.506623955,4466195.506623955,4466195.506623955,4466195.506623955,4466195.506623955,4466195.506623955,4466195.506623955,4470815.255566683,4470815.255566683,4475435.004509411,4493914.0002803225,4512392.996051233,4512392.996051233,4512392.996051233,4512392.996051233,4512392.996051233,4527176.192667963,4530871.991822145,4533643.841187782,4558590.485478512,4581689.230192151,4590928.728077607,4593238.602548971,4597858.351491699,4604787.974905791,4604787.974905791,4604787.974905791,4604787.974905791,4604787.974905791,4611717.5983198825,4614027.472791246,4623266.9706767015,4623266.9706767015,4641745.966447613,4641745.966447613,4650985.464333069,4650985.464333069,4660224.962218525,4674084.209046708,4678703.957989436,4678703.957989436,4678703.957989436,4692563.204817619,4693487.154606165,4694873.079288984,4697182.953760347,4697182.953760347,4697182.953760347,4701802.7027030755,4706422.451645803,4715661.949531259,4732293.045725079,4760011.539381446,4766479.187901264,4775718.68578672,4789577.932614904,4789577.932614904,4835775.422042182,4835775.422042182,4835775.422042182,4845014.919927638,4845014.919927638,4863493.915698549,4881972.91146946,4881972.91146946,4881972.91146946,4881972.91146946,4881972.91146946,4881972.91146946,4905071.656183099,4905071.656183099,4925860.526425375,4928170.400896739,4928170.400896739,4928170.400896739,4928170.400896739,4928170.400896739,4928170.400896739,4928170.400896739,4928170.400896739,4928170.400896739,4974367.890324017,4992846.886094929,5011325.88186584,5020565.379751296,5029804.877636751,5043664.124464935,5066762.8691785745,5066762.8691785745,5066762.8691785745,5079698.166218212,5080622.116006758,5089861.613892213,5089861.613892213,5103720.860720397,5103720.860720397,5106030.735191761,5112960.358605852,5112960.358605852,5135135.153530946,5140678.852262219,5140678.852262219,5152228.224619038,5159157.84803313,5159157.84803313,5159157.84803313,5159157.84803313,5159157.84803313,5159157.84803313,5159157.84803313,5159157.84803313,5159157.84803313,5159157.84803313,5159157.84803313,5159157.84803313,5159157.84803313,5159157.84803313,5159157.84803313,5159157.84803313,5159157.84803313,5159157.84803313,5159157.84803313,5159157.84803313,5159157.84803313,5159157.84803313,5159157.84803313,5159157.84803313,5168397.3459185865,5177636.843804043,5182256.59274677,5186876.341689497,5186876.341689497,5205355.33746041,5205355.33746041,5205355.33746041,5256172.575830415,5270031.822658598,5276499.471178418,5297750.3163149655,5307451.789094694,5309299.688671785,5320849.061028605,5325468.809971333,5325468.809971333,5325468.809971333,5325468.809971333,5325468.809971333,5325468.809971333,5325468.809971333,5343947.805742244,5353187.3036277,5353187.3036277,5353187.3036277,5353187.3036277,5362426.801513156,5367046.550455883,5367046.550455883,5380905.797284067,5380905.797284067,5390145.295169523,5390145.295169523,5401694.667526342,5408624.290940434,5408624.290940434,5408624.290940434,5413244.039883162,5413244.039883162,5436342.784596801,5436342.784596801,5436342.784596801,5436342.784596801,5436342.784596801,5436342.784596801,5436342.784596801,5436342.784596801,5436342.784596801,5443272.408010893,5443272.408010893,5459441.529310441,5464061.278253168,5468681.027195896,5487160.022966808,5491779.771909535,5505639.018737718,5505639.018737718,5528737.763451358,5528737.763451358,5540287.135808177,5547216.759222269,5557380.206896271,5574935.252878636,5574935.252878636,5588794.49970682,5621132.742305914,5621132.742305914,5621132.742305914,5621132.742305914,5621132.742305914,5630372.24019137,5660400.608319102,5691352.926235378,5692738.850918196,5695048.72538956,5713527.721160471,5713527.721160471,5727848.942882927,5741246.2148168385,5768964.708473206,5782823.955301389,5810542.448957756,5815162.197900483,5815162.197900483,5817010.097477575,5824401.69578594,5824401.69578594,5840570.817085487,5843804.641345397,5852120.189442307,5852120.189442307,5898317.678869585,5935275.670411408,5938047.519777045,5944515.168296863,5944515.168296863,5976853.410895959,5990712.657724142,5990712.657724142,6060008.89186506,6073868.138693243,6073868.138693243,6083107.636578698,6106206.381292338,6106206.381292338,6120065.628120521,6129305.126005976,6129305.126005976,6129305.126005976,6152403.870719615,6198601.360146894,6198601.360146894,6198601.360146894,6198601.360146894,6254962.2972481735,6267897.594287812,6267897.594287812,6267897.594287812,6314095.0837150905,6323334.581600546,6351053.075256913,6351053.075256913,6452687.551996926,6487335.669067385,6489645.543538747,6489645.543538747,6526603.535080571,6545082.5308514815,6545082.5308514815,6545082.5308514815,6545082.5308514815,6621770.363300764,6776069.977987874,6831506.9653006075,6853219.785331429,6914662.446269709,6942380.939926076,6988578.4293533545,7117931.3997497335,7131328.671683645,7173368.387062468,7238044.872260658,7238044.872260658,7238044.872260658,7330439.851115215,7549877.925894787,7658442.026048891,7672301.272877075,7681540.77076253,7972584.954154383,8346784.618515339,8367111.513863341,8485377.086797174,8485377.086797174,9594116.833051855,9871301.769615524],\"yaxis\":\"y\",\"type\":\"scatter\"}],                        {\"template\":{\"data\":{\"histogram2dcontour\":[{\"type\":\"histogram2dcontour\",\"colorbar\":{\"outlinewidth\":0,\"ticks\":\"\"},\"colorscale\":[[0.0,\"#0d0887\"],[0.1111111111111111,\"#46039f\"],[0.2222222222222222,\"#7201a8\"],[0.3333333333333333,\"#9c179e\"],[0.4444444444444444,\"#bd3786\"],[0.5555555555555556,\"#d8576b\"],[0.6666666666666666,\"#ed7953\"],[0.7777777777777778,\"#fb9f3a\"],[0.8888888888888888,\"#fdca26\"],[1.0,\"#f0f921\"]]}],\"choropleth\":[{\"type\":\"choropleth\",\"colorbar\":{\"outlinewidth\":0,\"ticks\":\"\"}}],\"histogram2d\":[{\"type\":\"histogram2d\",\"colorbar\":{\"outlinewidth\":0,\"ticks\":\"\"},\"colorscale\":[[0.0,\"#0d0887\"],[0.1111111111111111,\"#46039f\"],[0.2222222222222222,\"#7201a8\"],[0.3333333333333333,\"#9c179e\"],[0.4444444444444444,\"#bd3786\"],[0.5555555555555556,\"#d8576b\"],[0.6666666666666666,\"#ed7953\"],[0.7777777777777778,\"#fb9f3a\"],[0.8888888888888888,\"#fdca26\"],[1.0,\"#f0f921\"]]}],\"heatmap\":[{\"type\":\"heatmap\",\"colorbar\":{\"outlinewidth\":0,\"ticks\":\"\"},\"colorscale\":[[0.0,\"#0d0887\"],[0.1111111111111111,\"#46039f\"],[0.2222222222222222,\"#7201a8\"],[0.3333333333333333,\"#9c179e\"],[0.4444444444444444,\"#bd3786\"],[0.5555555555555556,\"#d8576b\"],[0.6666666666666666,\"#ed7953\"],[0.7777777777777778,\"#fb9f3a\"],[0.8888888888888888,\"#fdca26\"],[1.0,\"#f0f921\"]]}],\"heatmapgl\":[{\"type\":\"heatmapgl\",\"colorbar\":{\"outlinewidth\":0,\"ticks\":\"\"},\"colorscale\":[[0.0,\"#0d0887\"],[0.1111111111111111,\"#46039f\"],[0.2222222222222222,\"#7201a8\"],[0.3333333333333333,\"#9c179e\"],[0.4444444444444444,\"#bd3786\"],[0.5555555555555556,\"#d8576b\"],[0.6666666666666666,\"#ed7953\"],[0.7777777777777778,\"#fb9f3a\"],[0.8888888888888888,\"#fdca26\"],[1.0,\"#f0f921\"]]}],\"contourcarpet\":[{\"type\":\"contourcarpet\",\"colorbar\":{\"outlinewidth\":0,\"ticks\":\"\"}}],\"contour\":[{\"type\":\"contour\",\"colorbar\":{\"outlinewidth\":0,\"ticks\":\"\"},\"colorscale\":[[0.0,\"#0d0887\"],[0.1111111111111111,\"#46039f\"],[0.2222222222222222,\"#7201a8\"],[0.3333333333333333,\"#9c179e\"],[0.4444444444444444,\"#bd3786\"],[0.5555555555555556,\"#d8576b\"],[0.6666666666666666,\"#ed7953\"],[0.7777777777777778,\"#fb9f3a\"],[0.8888888888888888,\"#fdca26\"],[1.0,\"#f0f921\"]]}],\"surface\":[{\"type\":\"surface\",\"colorbar\":{\"outlinewidth\":0,\"ticks\":\"\"},\"colorscale\":[[0.0,\"#0d0887\"],[0.1111111111111111,\"#46039f\"],[0.2222222222222222,\"#7201a8\"],[0.3333333333333333,\"#9c179e\"],[0.4444444444444444,\"#bd3786\"],[0.5555555555555556,\"#d8576b\"],[0.6666666666666666,\"#ed7953\"],[0.7777777777777778,\"#fb9f3a\"],[0.8888888888888888,\"#fdca26\"],[1.0,\"#f0f921\"]]}],\"mesh3d\":[{\"type\":\"mesh3d\",\"colorbar\":{\"outlinewidth\":0,\"ticks\":\"\"}}],\"scatter\":[{\"fillpattern\":{\"fillmode\":\"overlay\",\"size\":10,\"solidity\":0.2},\"type\":\"scatter\"}],\"parcoords\":[{\"type\":\"parcoords\",\"line\":{\"colorbar\":{\"outlinewidth\":0,\"ticks\":\"\"}}}],\"scatterpolargl\":[{\"type\":\"scatterpolargl\",\"marker\":{\"colorbar\":{\"outlinewidth\":0,\"ticks\":\"\"}}}],\"bar\":[{\"error_x\":{\"color\":\"#2a3f5f\"},\"error_y\":{\"color\":\"#2a3f5f\"},\"marker\":{\"line\":{\"color\":\"#E5ECF6\",\"width\":0.5},\"pattern\":{\"fillmode\":\"overlay\",\"size\":10,\"solidity\":0.2}},\"type\":\"bar\"}],\"scattergeo\":[{\"type\":\"scattergeo\",\"marker\":{\"colorbar\":{\"outlinewidth\":0,\"ticks\":\"\"}}}],\"scatterpolar\":[{\"type\":\"scatterpolar\",\"marker\":{\"colorbar\":{\"outlinewidth\":0,\"ticks\":\"\"}}}],\"histogram\":[{\"marker\":{\"pattern\":{\"fillmode\":\"overlay\",\"size\":10,\"solidity\":0.2}},\"type\":\"histogram\"}],\"scattergl\":[{\"type\":\"scattergl\",\"marker\":{\"colorbar\":{\"outlinewidth\":0,\"ticks\":\"\"}}}],\"scatter3d\":[{\"type\":\"scatter3d\",\"line\":{\"colorbar\":{\"outlinewidth\":0,\"ticks\":\"\"}},\"marker\":{\"colorbar\":{\"outlinewidth\":0,\"ticks\":\"\"}}}],\"scattermapbox\":[{\"type\":\"scattermapbox\",\"marker\":{\"colorbar\":{\"outlinewidth\":0,\"ticks\":\"\"}}}],\"scatterternary\":[{\"type\":\"scatterternary\",\"marker\":{\"colorbar\":{\"outlinewidth\":0,\"ticks\":\"\"}}}],\"scattercarpet\":[{\"type\":\"scattercarpet\",\"marker\":{\"colorbar\":{\"outlinewidth\":0,\"ticks\":\"\"}}}],\"carpet\":[{\"aaxis\":{\"endlinecolor\":\"#2a3f5f\",\"gridcolor\":\"white\",\"linecolor\":\"white\",\"minorgridcolor\":\"white\",\"startlinecolor\":\"#2a3f5f\"},\"baxis\":{\"endlinecolor\":\"#2a3f5f\",\"gridcolor\":\"white\",\"linecolor\":\"white\",\"minorgridcolor\":\"white\",\"startlinecolor\":\"#2a3f5f\"},\"type\":\"carpet\"}],\"table\":[{\"cells\":{\"fill\":{\"color\":\"#EBF0F8\"},\"line\":{\"color\":\"white\"}},\"header\":{\"fill\":{\"color\":\"#C8D4E3\"},\"line\":{\"color\":\"white\"}},\"type\":\"table\"}],\"barpolar\":[{\"marker\":{\"line\":{\"color\":\"#E5ECF6\",\"width\":0.5},\"pattern\":{\"fillmode\":\"overlay\",\"size\":10,\"solidity\":0.2}},\"type\":\"barpolar\"}],\"pie\":[{\"automargin\":true,\"type\":\"pie\"}]},\"layout\":{\"autotypenumbers\":\"strict\",\"colorway\":[\"#636efa\",\"#EF553B\",\"#00cc96\",\"#ab63fa\",\"#FFA15A\",\"#19d3f3\",\"#FF6692\",\"#B6E880\",\"#FF97FF\",\"#FECB52\"],\"font\":{\"color\":\"#2a3f5f\"},\"hovermode\":\"closest\",\"hoverlabel\":{\"align\":\"left\"},\"paper_bgcolor\":\"white\",\"plot_bgcolor\":\"#E5ECF6\",\"polar\":{\"bgcolor\":\"#E5ECF6\",\"angularaxis\":{\"gridcolor\":\"white\",\"linecolor\":\"white\",\"ticks\":\"\"},\"radialaxis\":{\"gridcolor\":\"white\",\"linecolor\":\"white\",\"ticks\":\"\"}},\"ternary\":{\"bgcolor\":\"#E5ECF6\",\"aaxis\":{\"gridcolor\":\"white\",\"linecolor\":\"white\",\"ticks\":\"\"},\"baxis\":{\"gridcolor\":\"white\",\"linecolor\":\"white\",\"ticks\":\"\"},\"caxis\":{\"gridcolor\":\"white\",\"linecolor\":\"white\",\"ticks\":\"\"}},\"coloraxis\":{\"colorbar\":{\"outlinewidth\":0,\"ticks\":\"\"}},\"colorscale\":{\"sequential\":[[0.0,\"#0d0887\"],[0.1111111111111111,\"#46039f\"],[0.2222222222222222,\"#7201a8\"],[0.3333333333333333,\"#9c179e\"],[0.4444444444444444,\"#bd3786\"],[0.5555555555555556,\"#d8576b\"],[0.6666666666666666,\"#ed7953\"],[0.7777777777777778,\"#fb9f3a\"],[0.8888888888888888,\"#fdca26\"],[1.0,\"#f0f921\"]],\"sequentialminus\":[[0.0,\"#0d0887\"],[0.1111111111111111,\"#46039f\"],[0.2222222222222222,\"#7201a8\"],[0.3333333333333333,\"#9c179e\"],[0.4444444444444444,\"#bd3786\"],[0.5555555555555556,\"#d8576b\"],[0.6666666666666666,\"#ed7953\"],[0.7777777777777778,\"#fb9f3a\"],[0.8888888888888888,\"#fdca26\"],[1.0,\"#f0f921\"]],\"diverging\":[[0,\"#8e0152\"],[0.1,\"#c51b7d\"],[0.2,\"#de77ae\"],[0.3,\"#f1b6da\"],[0.4,\"#fde0ef\"],[0.5,\"#f7f7f7\"],[0.6,\"#e6f5d0\"],[0.7,\"#b8e186\"],[0.8,\"#7fbc41\"],[0.9,\"#4d9221\"],[1,\"#276419\"]]},\"xaxis\":{\"gridcolor\":\"white\",\"linecolor\":\"white\",\"ticks\":\"\",\"title\":{\"standoff\":15},\"zerolinecolor\":\"white\",\"automargin\":true,\"zerolinewidth\":2},\"yaxis\":{\"gridcolor\":\"white\",\"linecolor\":\"white\",\"ticks\":\"\",\"title\":{\"standoff\":15},\"zerolinecolor\":\"white\",\"automargin\":true,\"zerolinewidth\":2},\"scene\":{\"xaxis\":{\"backgroundcolor\":\"#E5ECF6\",\"gridcolor\":\"white\",\"linecolor\":\"white\",\"showbackground\":true,\"ticks\":\"\",\"zerolinecolor\":\"white\",\"gridwidth\":2},\"yaxis\":{\"backgroundcolor\":\"#E5ECF6\",\"gridcolor\":\"white\",\"linecolor\":\"white\",\"showbackground\":true,\"ticks\":\"\",\"zerolinecolor\":\"white\",\"gridwidth\":2},\"zaxis\":{\"backgroundcolor\":\"#E5ECF6\",\"gridcolor\":\"white\",\"linecolor\":\"white\",\"showbackground\":true,\"ticks\":\"\",\"zerolinecolor\":\"white\",\"gridwidth\":2}},\"shapedefaults\":{\"line\":{\"color\":\"#2a3f5f\"}},\"annotationdefaults\":{\"arrowcolor\":\"#2a3f5f\",\"arrowhead\":0,\"arrowwidth\":1},\"geo\":{\"bgcolor\":\"white\",\"landcolor\":\"#E5ECF6\",\"subunitcolor\":\"white\",\"showland\":true,\"showlakes\":true,\"lakecolor\":\"white\"},\"title\":{\"x\":0.05},\"mapbox\":{\"style\":\"light\"}}},\"xaxis\":{\"anchor\":\"y\",\"domain\":[0.0,1.0],\"title\":{\"text\":\"area\"}},\"yaxis\":{\"anchor\":\"x\",\"domain\":[0.0,1.0],\"title\":{\"text\":\"price\"}},\"legend\":{\"tracegroupgap\":0},\"margin\":{\"t\":60},\"height\":400},                        {\"responsive\": true}                    ).then(function(){\n",
       "                            \n",
       "var gd = document.getElementById('672d7b55-98fc-4a9e-872b-ced9c5e2d637');\n",
       "var x = new MutationObserver(function (mutations, observer) {{\n",
       "        var display = window.getComputedStyle(gd).display;\n",
       "        if (!display || display === 'none') {{\n",
       "            console.log([gd, 'removed!']);\n",
       "            Plotly.purge(gd);\n",
       "            observer.disconnect();\n",
       "        }}\n",
       "}});\n",
       "\n",
       "// Listen for the removal of the full notebook cells\n",
       "var notebookContainer = gd.closest('#notebook-container');\n",
       "if (notebookContainer) {{\n",
       "    x.observe(notebookContainer, {childList: true});\n",
       "}}\n",
       "\n",
       "// Listen for the clearing of the current output cell\n",
       "var outputEl = gd.closest('.output');\n",
       "if (outputEl) {{\n",
       "    x.observe(outputEl, {childList: true});\n",
       "}}\n",
       "\n",
       "                        })                };                });            </script>        </div>"
      ]
     },
     "metadata": {},
     "output_type": "display_data"
    }
   ],
   "source": [
    "px.scatter(data_frame=houses,x='area',y='price',trendline='ols',height=400)"
   ]
  },
  {
   "cell_type": "markdown",
   "id": "7d00350b",
   "metadata": {
    "papermill": {
     "duration": 0.026469,
     "end_time": "2023-08-07T13:28:04.286590",
     "exception": false,
     "start_time": "2023-08-07T13:28:04.260121",
     "status": "completed"
    },
    "tags": []
   },
   "source": [
    "# relation between price and num of bathrooms"
   ]
  },
  {
   "cell_type": "code",
   "execution_count": 15,
   "id": "8943b4e8",
   "metadata": {
    "execution": {
     "iopub.execute_input": "2023-08-07T13:28:04.338375Z",
     "iopub.status.busy": "2023-08-07T13:28:04.337939Z",
     "iopub.status.idle": "2023-08-07T13:28:04.415490Z",
     "shell.execute_reply": "2023-08-07T13:28:04.414016Z"
    },
    "papermill": {
     "duration": 0.106447,
     "end_time": "2023-08-07T13:28:04.418194",
     "exception": false,
     "start_time": "2023-08-07T13:28:04.311747",
     "status": "completed"
    },
    "tags": []
   },
   "outputs": [
    {
     "data": {
      "text/html": [
       "<div>                            <div id=\"6d781fd0-de59-4e38-bdea-535fb92b1175\" class=\"plotly-graph-div\" style=\"height:400px; width:100%;\"></div>            <script type=\"text/javascript\">                require([\"plotly\"], function(Plotly) {                    window.PLOTLYENV=window.PLOTLYENV || {};                                    if (document.getElementById(\"6d781fd0-de59-4e38-bdea-535fb92b1175\")) {                    Plotly.newPlot(                        \"6d781fd0-de59-4e38-bdea-535fb92b1175\",                        [{\"alignmentgroup\":\"True\",\"bingroup\":\"x\",\"histfunc\":\"sum\",\"hovertemplate\":\"bathrooms=%{x}\\u003cbr\\u003esum of price=%{y}\\u003cextra\\u003e\\u003c\\u002fextra\\u003e\",\"legendgroup\":\"\",\"marker\":{\"color\":\"#636efa\",\"pattern\":{\"shape\":\"\"}},\"name\":\"\",\"nbinsx\":6,\"offsetgroup\":\"\",\"orientation\":\"v\",\"showlegend\":false,\"x\":[2,4,2,2,1,3,3,3,1,2,1,3,2,2,2,1,2,2,2,2,1,2,1,2,2,2,2,1,2,2,2,1,2,3,1,2,2,2,1,2,1,2,2,2,2,2,2,1,2,2,2,1,2,2,2,1,1,2,2,2,2,1,2,2,1,2,1,2,1,2,2,2,1,2,1,2,2,2,1,2,1,2,2,2,1,2,1,1,1,3,1,1,2,2,2,2,1,1,2,1,2,1,2,2,2,1,2,1,1,2,1,1,2,1,1,1,2,1,1,1,1,1,2,2,2,1,1,2,1,1,1,1,1,1,1,2,2,1,1,1,2,2,2,2,1,1,1,2,1,2,1,1,1,3,2,2,1,2,1,2,1,1,2,1,2,2,1,2,1,2,2,1,1,2,1,2,1,1,1,2,2,1,1,1,2,1,1,1,1,1,1,1,1,1,2,3,1,2,1,1,1,1,1,1,1,1,1,1,1,1,1,1,2,2,1,1,1,1,1,1,1,2,1,1,1,1,1,1,1,2,1,1,1,1,2,1,1,1,2,1,1,1,1,1,1,1,1,1,2,2,1,1,1,1,1,1,1,1,1,1,1,1,1,1,1,1,1,1,1,1,2,1,1,1,1,1,1,1,1,1,1,1,1,1,1,1,1,1,1,1,3,1,2,1,2,1,2,2,1,1,1,1,1,1,1,1,1,1,1,1,1,1,1,2,1,1,2,2,1,1,1,2,2,1,1,1,1,1,2,1,1,2,1,1,1,1,1,2,1,2,2,2,1,1,1,1,1,1,2,1,1,1,1,1,1,1,2,1,1,1,1,1,1,1,1,1,1,1,1,1,1,1,1,1,2,1,2,2,1,1,1,1,1,2,1,1,1,1,1,1,2,1,1,1,1,1,1,1,1,1,1,1,1,1,1,1,1,1,1,1,1,1,1,2,1,1,1,1,1,1,1,1,1,1,1,1,1,1,1,1,1,1,1,1,1,1,1,1,1,1,1,1,1,1,1,1,2,1,1,1,1,1,1,1,1,1,1,1,1,1,1,1,1,1,1,1,1,1,1,1,1,1,1,1,1,1,1,1,1,1,1,1,1,1,1,1,1,1,1,1,1,1,1,1,1,1,1,1,1,3,1,1,1,1,1,1,1,1,1,2,1,1,1,1,1,1,1,1,1,1,1,1,1,2,1,1,1,1,1,1,1,1,1,1,1,1,1,1,1,1,1,1,1,1,1],\"xaxis\":\"x\",\"y\":[13300000.0,12250000.0,12250000.0,12215000.0,11410000.0,10850000.0,10150000.0,10150000.0,9870000.0,9800000.0,9800000.0,9681000.0,9310000.0,9240000.0,9240000.0,9100000.0,9100000.0,8960000.0,8890000.0,8855000.0,8750000.0,8680000.0,8645000.0,8645000.0,8575000.0,8540000.0,8463000.0,8400000.0,8400000.0,8400000.0,8400000.0,8400000.0,8295000.0,8190000.0,8120000.0,8080940.0,8043000.0,7980000.0,7962500.0,7910000.0,7875000.0,7840000.0,7700000.0,7700000.0,7560000.0,7560000.0,7525000.0,7490000.0,7455000.0,7420000.0,7420000.0,7420000.0,7350000.0,7350000.0,7350000.0,7350000.0,7343000.0,7245000.0,7210000.0,7210000.0,7140000.0,7070000.0,7070000.0,7035000.0,7000000.0,6930000.0,6930000.0,6895000.0,6860000.0,6790000.0,6790000.0,6755000.0,6720000.0,6685000.0,6650000.0,6650000.0,6650000.0,6650000.0,6650000.0,6650000.0,6629000.0,6615000.0,6615000.0,6580000.0,6510000.0,6510000.0,6510000.0,6475000.0,6475000.0,6440000.0,6440000.0,6419000.0,6405000.0,6300000.0,6300000.0,6300000.0,6300000.0,6300000.0,6293000.0,6265000.0,6230000.0,6230000.0,6195000.0,6195000.0,6195000.0,6160000.0,6160000.0,6125000.0,6107500.0,6090000.0,6090000.0,6090000.0,6083000.0,6083000.0,6020000.0,6020000.0,6020000.0,5950000.0,5950000.0,5950000.0,5950000.0,5950000.0,5950000.0,5950000.0,5950000.0,5943000.0,5880000.0,5880000.0,5873000.0,5873000.0,5866000.0,5810000.0,5810000.0,5810000.0,5803000.0,5775000.0,5740000.0,5740000.0,5740000.0,5740000.0,5740000.0,5652500.0,5600000.0,5600000.0,5600000.0,5600000.0,5600000.0,5600000.0,5600000.0,5600000.0,5600000.0,5565000.0,5565000.0,5530000.0,5530000.0,5530000.0,5523000.0,5495000.0,5495000.0,5460000.0,5460000.0,5460000.0,5460000.0,5425000.0,5390000.0,5383000.0,5320000.0,5285000.0,5250000.0,5250000.0,5250000.0,5250000.0,5250000.0,5250000.0,5250000.0,5250000.0,5250000.0,5243000.0,5229000.0,5215000.0,5215000.0,5215000.0,5145000.0,5145000.0,5110000.0,5110000.0,5110000.0,5110000.0,5075000.0,5040000.0,5040000.0,5040000.0,5040000.0,5033000.0,5005000.0,4970000.0,4970000.0,4956000.0,4935000.0,4907000.0,4900000.0,4900000.0,4900000.0,4900000.0,4900000.0,4900000.0,4900000.0,4900000.0,4900000.0,4900000.0,4900000.0,4900000.0,4893000.0,4893000.0,4865000.0,4830000.0,4830000.0,4830000.0,4830000.0,4795000.0,4795000.0,4767000.0,4760000.0,4760000.0,4760000.0,4753000.0,4690000.0,4690000.0,4690000.0,4690000.0,4690000.0,4690000.0,4655000.0,4620000.0,4620000.0,4620000.0,4620000.0,4620000.0,4613000.0,4585000.0,4585000.0,4550000.0,4550000.0,4550000.0,4550000.0,4550000.0,4550000.0,4550000.0,4543000.0,4543000.0,4515000.0,4515000.0,4515000.0,4515000.0,4480000.0,4480000.0,4480000.0,4480000.0,4480000.0,4473000.0,4473000.0,4473000.0,4445000.0,4410000.0,4410000.0,4403000.0,4403000.0,4403000.0,4382000.0,4375000.0,4340000.0,4340000.0,4340000.0,4340000.0,4340000.0,4319000.0,4305000.0,4305000.0,4277000.0,4270000.0,4270000.0,4270000.0,4270000.0,4270000.0,4270000.0,4235000.0,4235000.0,4200000.0,4200000.0,4200000.0,4200000.0,4200000.0,4200000.0,4200000.0,4200000.0,4200000.0,4200000.0,4200000.0,4200000.0,4200000.0,4200000.0,4200000.0,4200000.0,4200000.0,4193000.0,4193000.0,4165000.0,4165000.0,4165000.0,4130000.0,4130000.0,4123000.0,4098500.0,4095000.0,4095000.0,4095000.0,4060000.0,4060000.0,4060000.0,4060000.0,4060000.0,4025000.0,4025000.0,4025000.0,4007500.0,4007500.0,3990000.0,3990000.0,3990000.0,3990000.0,3990000.0,3920000.0,3920000.0,3920000.0,3920000.0,3920000.0,3920000.0,3920000.0,3885000.0,3885000.0,3850000.0,3850000.0,3850000.0,3850000.0,3850000.0,3850000.0,3850000.0,3836000.0,3815000.0,3780000.0,3780000.0,3780000.0,3780000.0,3780000.0,3780000.0,3773000.0,3773000.0,3773000.0,3745000.0,3710000.0,3710000.0,3710000.0,3710000.0,3710000.0,3703000.0,3703000.0,3675000.0,3675000.0,3675000.0,3675000.0,3640000.0,3640000.0,3640000.0,3640000.0,3640000.0,3640000.0,3640000.0,3640000.0,3640000.0,3633000.0,3605000.0,3605000.0,3570000.0,3570000.0,3570000.0,3570000.0,3535000.0,3500000.0,3500000.0,3500000.0,3500000.0,3500000.0,3500000.0,3500000.0,3500000.0,3500000.0,3500000.0,3500000.0,3500000.0,3500000.0,3500000.0,3500000.0,3500000.0,3500000.0,3493000.0,3465000.0,3465000.0,3465000.0,3430000.0,3430000.0,3430000.0,3430000.0,3430000.0,3430000.0,3423000.0,3395000.0,3395000.0,3395000.0,3360000.0,3360000.0,3360000.0,3360000.0,3360000.0,3360000.0,3360000.0,3360000.0,3353000.0,3332000.0,3325000.0,3325000.0,3290000.0,3290000.0,3290000.0,3290000.0,3290000.0,3290000.0,3290000.0,3290000.0,3255000.0,3255000.0,3234000.0,3220000.0,3220000.0,3220000.0,3220000.0,3150000.0,3150000.0,3150000.0,3150000.0,3150000.0,3150000.0,3150000.0,3150000.0,3150000.0,3143000.0,3129000.0,3118850.0,3115000.0,3115000.0,3115000.0,3087000.0,3080000.0,3080000.0,3080000.0,3080000.0,3045000.0,3010000.0,3010000.0,3010000.0,3010000.0,3010000.0,3010000.0,3010000.0,3003000.0,2975000.0,2961000.0,2940000.0,2940000.0,2940000.0,2940000.0,2940000.0,2940000.0,2940000.0,2940000.0,2870000.0,2870000.0,2870000.0,2870000.0,2852500.0,2835000.0,2835000.0,2835000.0,2800000.0,2800000.0,2730000.0,2730000.0,2695000.0,2660000.0,2660000.0,2660000.0,2660000.0,2660000.0,2660000.0,2660000.0,2653000.0,2653000.0,2604000.0,2590000.0,2590000.0,2590000.0,2520000.0,2520000.0,2520000.0,2485000.0,2485000.0,2450000.0,2450000.0,2450000.0,2450000.0,2450000.0,2450000.0,2408000.0,2380000.0,2380000.0,2380000.0,2345000.0,2310000.0,2275000.0,2275000.0,2275000.0,2240000.0,2233000.0,2135000.0,2100000.0,2100000.0,2100000.0,1960000.0,1890000.0,1890000.0,1855000.0,1820000.0,1767150.0,1750000.0,1750000.0,1750000.0],\"yaxis\":\"y\",\"type\":\"histogram\"}],                        {\"template\":{\"data\":{\"histogram2dcontour\":[{\"type\":\"histogram2dcontour\",\"colorbar\":{\"outlinewidth\":0,\"ticks\":\"\"},\"colorscale\":[[0.0,\"#0d0887\"],[0.1111111111111111,\"#46039f\"],[0.2222222222222222,\"#7201a8\"],[0.3333333333333333,\"#9c179e\"],[0.4444444444444444,\"#bd3786\"],[0.5555555555555556,\"#d8576b\"],[0.6666666666666666,\"#ed7953\"],[0.7777777777777778,\"#fb9f3a\"],[0.8888888888888888,\"#fdca26\"],[1.0,\"#f0f921\"]]}],\"choropleth\":[{\"type\":\"choropleth\",\"colorbar\":{\"outlinewidth\":0,\"ticks\":\"\"}}],\"histogram2d\":[{\"type\":\"histogram2d\",\"colorbar\":{\"outlinewidth\":0,\"ticks\":\"\"},\"colorscale\":[[0.0,\"#0d0887\"],[0.1111111111111111,\"#46039f\"],[0.2222222222222222,\"#7201a8\"],[0.3333333333333333,\"#9c179e\"],[0.4444444444444444,\"#bd3786\"],[0.5555555555555556,\"#d8576b\"],[0.6666666666666666,\"#ed7953\"],[0.7777777777777778,\"#fb9f3a\"],[0.8888888888888888,\"#fdca26\"],[1.0,\"#f0f921\"]]}],\"heatmap\":[{\"type\":\"heatmap\",\"colorbar\":{\"outlinewidth\":0,\"ticks\":\"\"},\"colorscale\":[[0.0,\"#0d0887\"],[0.1111111111111111,\"#46039f\"],[0.2222222222222222,\"#7201a8\"],[0.3333333333333333,\"#9c179e\"],[0.4444444444444444,\"#bd3786\"],[0.5555555555555556,\"#d8576b\"],[0.6666666666666666,\"#ed7953\"],[0.7777777777777778,\"#fb9f3a\"],[0.8888888888888888,\"#fdca26\"],[1.0,\"#f0f921\"]]}],\"heatmapgl\":[{\"type\":\"heatmapgl\",\"colorbar\":{\"outlinewidth\":0,\"ticks\":\"\"},\"colorscale\":[[0.0,\"#0d0887\"],[0.1111111111111111,\"#46039f\"],[0.2222222222222222,\"#7201a8\"],[0.3333333333333333,\"#9c179e\"],[0.4444444444444444,\"#bd3786\"],[0.5555555555555556,\"#d8576b\"],[0.6666666666666666,\"#ed7953\"],[0.7777777777777778,\"#fb9f3a\"],[0.8888888888888888,\"#fdca26\"],[1.0,\"#f0f921\"]]}],\"contourcarpet\":[{\"type\":\"contourcarpet\",\"colorbar\":{\"outlinewidth\":0,\"ticks\":\"\"}}],\"contour\":[{\"type\":\"contour\",\"colorbar\":{\"outlinewidth\":0,\"ticks\":\"\"},\"colorscale\":[[0.0,\"#0d0887\"],[0.1111111111111111,\"#46039f\"],[0.2222222222222222,\"#7201a8\"],[0.3333333333333333,\"#9c179e\"],[0.4444444444444444,\"#bd3786\"],[0.5555555555555556,\"#d8576b\"],[0.6666666666666666,\"#ed7953\"],[0.7777777777777778,\"#fb9f3a\"],[0.8888888888888888,\"#fdca26\"],[1.0,\"#f0f921\"]]}],\"surface\":[{\"type\":\"surface\",\"colorbar\":{\"outlinewidth\":0,\"ticks\":\"\"},\"colorscale\":[[0.0,\"#0d0887\"],[0.1111111111111111,\"#46039f\"],[0.2222222222222222,\"#7201a8\"],[0.3333333333333333,\"#9c179e\"],[0.4444444444444444,\"#bd3786\"],[0.5555555555555556,\"#d8576b\"],[0.6666666666666666,\"#ed7953\"],[0.7777777777777778,\"#fb9f3a\"],[0.8888888888888888,\"#fdca26\"],[1.0,\"#f0f921\"]]}],\"mesh3d\":[{\"type\":\"mesh3d\",\"colorbar\":{\"outlinewidth\":0,\"ticks\":\"\"}}],\"scatter\":[{\"fillpattern\":{\"fillmode\":\"overlay\",\"size\":10,\"solidity\":0.2},\"type\":\"scatter\"}],\"parcoords\":[{\"type\":\"parcoords\",\"line\":{\"colorbar\":{\"outlinewidth\":0,\"ticks\":\"\"}}}],\"scatterpolargl\":[{\"type\":\"scatterpolargl\",\"marker\":{\"colorbar\":{\"outlinewidth\":0,\"ticks\":\"\"}}}],\"bar\":[{\"error_x\":{\"color\":\"#2a3f5f\"},\"error_y\":{\"color\":\"#2a3f5f\"},\"marker\":{\"line\":{\"color\":\"#E5ECF6\",\"width\":0.5},\"pattern\":{\"fillmode\":\"overlay\",\"size\":10,\"solidity\":0.2}},\"type\":\"bar\"}],\"scattergeo\":[{\"type\":\"scattergeo\",\"marker\":{\"colorbar\":{\"outlinewidth\":0,\"ticks\":\"\"}}}],\"scatterpolar\":[{\"type\":\"scatterpolar\",\"marker\":{\"colorbar\":{\"outlinewidth\":0,\"ticks\":\"\"}}}],\"histogram\":[{\"marker\":{\"pattern\":{\"fillmode\":\"overlay\",\"size\":10,\"solidity\":0.2}},\"type\":\"histogram\"}],\"scattergl\":[{\"type\":\"scattergl\",\"marker\":{\"colorbar\":{\"outlinewidth\":0,\"ticks\":\"\"}}}],\"scatter3d\":[{\"type\":\"scatter3d\",\"line\":{\"colorbar\":{\"outlinewidth\":0,\"ticks\":\"\"}},\"marker\":{\"colorbar\":{\"outlinewidth\":0,\"ticks\":\"\"}}}],\"scattermapbox\":[{\"type\":\"scattermapbox\",\"marker\":{\"colorbar\":{\"outlinewidth\":0,\"ticks\":\"\"}}}],\"scatterternary\":[{\"type\":\"scatterternary\",\"marker\":{\"colorbar\":{\"outlinewidth\":0,\"ticks\":\"\"}}}],\"scattercarpet\":[{\"type\":\"scattercarpet\",\"marker\":{\"colorbar\":{\"outlinewidth\":0,\"ticks\":\"\"}}}],\"carpet\":[{\"aaxis\":{\"endlinecolor\":\"#2a3f5f\",\"gridcolor\":\"white\",\"linecolor\":\"white\",\"minorgridcolor\":\"white\",\"startlinecolor\":\"#2a3f5f\"},\"baxis\":{\"endlinecolor\":\"#2a3f5f\",\"gridcolor\":\"white\",\"linecolor\":\"white\",\"minorgridcolor\":\"white\",\"startlinecolor\":\"#2a3f5f\"},\"type\":\"carpet\"}],\"table\":[{\"cells\":{\"fill\":{\"color\":\"#EBF0F8\"},\"line\":{\"color\":\"white\"}},\"header\":{\"fill\":{\"color\":\"#C8D4E3\"},\"line\":{\"color\":\"white\"}},\"type\":\"table\"}],\"barpolar\":[{\"marker\":{\"line\":{\"color\":\"#E5ECF6\",\"width\":0.5},\"pattern\":{\"fillmode\":\"overlay\",\"size\":10,\"solidity\":0.2}},\"type\":\"barpolar\"}],\"pie\":[{\"automargin\":true,\"type\":\"pie\"}]},\"layout\":{\"autotypenumbers\":\"strict\",\"colorway\":[\"#636efa\",\"#EF553B\",\"#00cc96\",\"#ab63fa\",\"#FFA15A\",\"#19d3f3\",\"#FF6692\",\"#B6E880\",\"#FF97FF\",\"#FECB52\"],\"font\":{\"color\":\"#2a3f5f\"},\"hovermode\":\"closest\",\"hoverlabel\":{\"align\":\"left\"},\"paper_bgcolor\":\"white\",\"plot_bgcolor\":\"#E5ECF6\",\"polar\":{\"bgcolor\":\"#E5ECF6\",\"angularaxis\":{\"gridcolor\":\"white\",\"linecolor\":\"white\",\"ticks\":\"\"},\"radialaxis\":{\"gridcolor\":\"white\",\"linecolor\":\"white\",\"ticks\":\"\"}},\"ternary\":{\"bgcolor\":\"#E5ECF6\",\"aaxis\":{\"gridcolor\":\"white\",\"linecolor\":\"white\",\"ticks\":\"\"},\"baxis\":{\"gridcolor\":\"white\",\"linecolor\":\"white\",\"ticks\":\"\"},\"caxis\":{\"gridcolor\":\"white\",\"linecolor\":\"white\",\"ticks\":\"\"}},\"coloraxis\":{\"colorbar\":{\"outlinewidth\":0,\"ticks\":\"\"}},\"colorscale\":{\"sequential\":[[0.0,\"#0d0887\"],[0.1111111111111111,\"#46039f\"],[0.2222222222222222,\"#7201a8\"],[0.3333333333333333,\"#9c179e\"],[0.4444444444444444,\"#bd3786\"],[0.5555555555555556,\"#d8576b\"],[0.6666666666666666,\"#ed7953\"],[0.7777777777777778,\"#fb9f3a\"],[0.8888888888888888,\"#fdca26\"],[1.0,\"#f0f921\"]],\"sequentialminus\":[[0.0,\"#0d0887\"],[0.1111111111111111,\"#46039f\"],[0.2222222222222222,\"#7201a8\"],[0.3333333333333333,\"#9c179e\"],[0.4444444444444444,\"#bd3786\"],[0.5555555555555556,\"#d8576b\"],[0.6666666666666666,\"#ed7953\"],[0.7777777777777778,\"#fb9f3a\"],[0.8888888888888888,\"#fdca26\"],[1.0,\"#f0f921\"]],\"diverging\":[[0,\"#8e0152\"],[0.1,\"#c51b7d\"],[0.2,\"#de77ae\"],[0.3,\"#f1b6da\"],[0.4,\"#fde0ef\"],[0.5,\"#f7f7f7\"],[0.6,\"#e6f5d0\"],[0.7,\"#b8e186\"],[0.8,\"#7fbc41\"],[0.9,\"#4d9221\"],[1,\"#276419\"]]},\"xaxis\":{\"gridcolor\":\"white\",\"linecolor\":\"white\",\"ticks\":\"\",\"title\":{\"standoff\":15},\"zerolinecolor\":\"white\",\"automargin\":true,\"zerolinewidth\":2},\"yaxis\":{\"gridcolor\":\"white\",\"linecolor\":\"white\",\"ticks\":\"\",\"title\":{\"standoff\":15},\"zerolinecolor\":\"white\",\"automargin\":true,\"zerolinewidth\":2},\"scene\":{\"xaxis\":{\"backgroundcolor\":\"#E5ECF6\",\"gridcolor\":\"white\",\"linecolor\":\"white\",\"showbackground\":true,\"ticks\":\"\",\"zerolinecolor\":\"white\",\"gridwidth\":2},\"yaxis\":{\"backgroundcolor\":\"#E5ECF6\",\"gridcolor\":\"white\",\"linecolor\":\"white\",\"showbackground\":true,\"ticks\":\"\",\"zerolinecolor\":\"white\",\"gridwidth\":2},\"zaxis\":{\"backgroundcolor\":\"#E5ECF6\",\"gridcolor\":\"white\",\"linecolor\":\"white\",\"showbackground\":true,\"ticks\":\"\",\"zerolinecolor\":\"white\",\"gridwidth\":2}},\"shapedefaults\":{\"line\":{\"color\":\"#2a3f5f\"}},\"annotationdefaults\":{\"arrowcolor\":\"#2a3f5f\",\"arrowhead\":0,\"arrowwidth\":1},\"geo\":{\"bgcolor\":\"white\",\"landcolor\":\"#E5ECF6\",\"subunitcolor\":\"white\",\"showland\":true,\"showlakes\":true,\"lakecolor\":\"white\"},\"title\":{\"x\":0.05},\"mapbox\":{\"style\":\"light\"}}},\"xaxis\":{\"anchor\":\"y\",\"domain\":[0.0,1.0],\"title\":{\"text\":\"bathrooms\"}},\"yaxis\":{\"anchor\":\"x\",\"domain\":[0.0,1.0],\"title\":{\"text\":\"sum of price\"}},\"legend\":{\"tracegroupgap\":0},\"margin\":{\"t\":60},\"barmode\":\"relative\",\"height\":400},                        {\"responsive\": true}                    ).then(function(){\n",
       "                            \n",
       "var gd = document.getElementById('6d781fd0-de59-4e38-bdea-535fb92b1175');\n",
       "var x = new MutationObserver(function (mutations, observer) {{\n",
       "        var display = window.getComputedStyle(gd).display;\n",
       "        if (!display || display === 'none') {{\n",
       "            console.log([gd, 'removed!']);\n",
       "            Plotly.purge(gd);\n",
       "            observer.disconnect();\n",
       "        }}\n",
       "}});\n",
       "\n",
       "// Listen for the removal of the full notebook cells\n",
       "var notebookContainer = gd.closest('#notebook-container');\n",
       "if (notebookContainer) {{\n",
       "    x.observe(notebookContainer, {childList: true});\n",
       "}}\n",
       "\n",
       "// Listen for the clearing of the current output cell\n",
       "var outputEl = gd.closest('.output');\n",
       "if (outputEl) {{\n",
       "    x.observe(outputEl, {childList: true});\n",
       "}}\n",
       "\n",
       "                        })                };                });            </script>        </div>"
      ]
     },
     "metadata": {},
     "output_type": "display_data"
    }
   ],
   "source": [
    "px.histogram(data_frame=houses,x='bathrooms',y='price',nbins=6,height=400)"
   ]
  },
  {
   "cell_type": "markdown",
   "id": "30af3203",
   "metadata": {
    "papermill": {
     "duration": 0.024156,
     "end_time": "2023-08-07T13:28:04.467314",
     "exception": false,
     "start_time": "2023-08-07T13:28:04.443158",
     "status": "completed"
    },
    "tags": []
   },
   "source": [
    "# convert categorical data"
   ]
  },
  {
   "cell_type": "code",
   "execution_count": 16,
   "id": "773b986b",
   "metadata": {
    "execution": {
     "iopub.execute_input": "2023-08-07T13:28:04.518144Z",
     "iopub.status.busy": "2023-08-07T13:28:04.517749Z",
     "iopub.status.idle": "2023-08-07T13:28:04.539533Z",
     "shell.execute_reply": "2023-08-07T13:28:04.538344Z"
    },
    "papermill": {
     "duration": 0.049863,
     "end_time": "2023-08-07T13:28:04.541952",
     "exception": false,
     "start_time": "2023-08-07T13:28:04.492089",
     "status": "completed"
    },
    "tags": []
   },
   "outputs": [
    {
     "data": {
      "text/html": [
       "<div>\n",
       "<style scoped>\n",
       "    .dataframe tbody tr th:only-of-type {\n",
       "        vertical-align: middle;\n",
       "    }\n",
       "\n",
       "    .dataframe tbody tr th {\n",
       "        vertical-align: top;\n",
       "    }\n",
       "\n",
       "    .dataframe thead th {\n",
       "        text-align: right;\n",
       "    }\n",
       "</style>\n",
       "<table border=\"1\" class=\"dataframe\">\n",
       "  <thead>\n",
       "    <tr style=\"text-align: right;\">\n",
       "      <th></th>\n",
       "      <th>price</th>\n",
       "      <th>area</th>\n",
       "      <th>bedrooms</th>\n",
       "      <th>bathrooms</th>\n",
       "      <th>stories</th>\n",
       "      <th>mainroad</th>\n",
       "      <th>guestroom</th>\n",
       "      <th>basement</th>\n",
       "      <th>hotwaterheating</th>\n",
       "      <th>airconditioning</th>\n",
       "      <th>parking</th>\n",
       "      <th>prefarea</th>\n",
       "      <th>furnishingstatus</th>\n",
       "    </tr>\n",
       "  </thead>\n",
       "  <tbody>\n",
       "    <tr>\n",
       "      <th>0</th>\n",
       "      <td>13300000.0</td>\n",
       "      <td>7420.0</td>\n",
       "      <td>4</td>\n",
       "      <td>2</td>\n",
       "      <td>3</td>\n",
       "      <td>yes</td>\n",
       "      <td>no</td>\n",
       "      <td>no</td>\n",
       "      <td>no</td>\n",
       "      <td>yes</td>\n",
       "      <td>2</td>\n",
       "      <td>yes</td>\n",
       "      <td>furnished</td>\n",
       "    </tr>\n",
       "    <tr>\n",
       "      <th>1</th>\n",
       "      <td>12250000.0</td>\n",
       "      <td>8960.0</td>\n",
       "      <td>4</td>\n",
       "      <td>4</td>\n",
       "      <td>4</td>\n",
       "      <td>yes</td>\n",
       "      <td>no</td>\n",
       "      <td>no</td>\n",
       "      <td>no</td>\n",
       "      <td>yes</td>\n",
       "      <td>3</td>\n",
       "      <td>no</td>\n",
       "      <td>furnished</td>\n",
       "    </tr>\n",
       "    <tr>\n",
       "      <th>2</th>\n",
       "      <td>12250000.0</td>\n",
       "      <td>9960.0</td>\n",
       "      <td>3</td>\n",
       "      <td>2</td>\n",
       "      <td>2</td>\n",
       "      <td>yes</td>\n",
       "      <td>no</td>\n",
       "      <td>yes</td>\n",
       "      <td>no</td>\n",
       "      <td>no</td>\n",
       "      <td>2</td>\n",
       "      <td>yes</td>\n",
       "      <td>semi-furnished</td>\n",
       "    </tr>\n",
       "    <tr>\n",
       "      <th>3</th>\n",
       "      <td>12215000.0</td>\n",
       "      <td>7500.0</td>\n",
       "      <td>4</td>\n",
       "      <td>2</td>\n",
       "      <td>2</td>\n",
       "      <td>yes</td>\n",
       "      <td>no</td>\n",
       "      <td>yes</td>\n",
       "      <td>no</td>\n",
       "      <td>yes</td>\n",
       "      <td>3</td>\n",
       "      <td>yes</td>\n",
       "      <td>furnished</td>\n",
       "    </tr>\n",
       "    <tr>\n",
       "      <th>4</th>\n",
       "      <td>11410000.0</td>\n",
       "      <td>7420.0</td>\n",
       "      <td>4</td>\n",
       "      <td>1</td>\n",
       "      <td>2</td>\n",
       "      <td>yes</td>\n",
       "      <td>yes</td>\n",
       "      <td>yes</td>\n",
       "      <td>no</td>\n",
       "      <td>yes</td>\n",
       "      <td>2</td>\n",
       "      <td>no</td>\n",
       "      <td>furnished</td>\n",
       "    </tr>\n",
       "  </tbody>\n",
       "</table>\n",
       "</div>"
      ],
      "text/plain": [
       "        price    area  bedrooms  bathrooms  stories mainroad guestroom  \\\n",
       "0  13300000.0  7420.0         4          2        3      yes        no   \n",
       "1  12250000.0  8960.0         4          4        4      yes        no   \n",
       "2  12250000.0  9960.0         3          2        2      yes        no   \n",
       "3  12215000.0  7500.0         4          2        2      yes        no   \n",
       "4  11410000.0  7420.0         4          1        2      yes       yes   \n",
       "\n",
       "  basement hotwaterheating airconditioning  parking prefarea furnishingstatus  \n",
       "0       no              no             yes        2      yes        furnished  \n",
       "1       no              no             yes        3       no        furnished  \n",
       "2      yes              no              no        2      yes   semi-furnished  \n",
       "3      yes              no             yes        3      yes        furnished  \n",
       "4      yes              no             yes        2       no        furnished  "
      ]
     },
     "execution_count": 16,
     "metadata": {},
     "output_type": "execute_result"
    }
   ],
   "source": [
    "houses.head()"
   ]
  },
  {
   "cell_type": "code",
   "execution_count": 17,
   "id": "ea83b1e5",
   "metadata": {
    "execution": {
     "iopub.execute_input": "2023-08-07T13:28:04.598295Z",
     "iopub.status.busy": "2023-08-07T13:28:04.597893Z",
     "iopub.status.idle": "2023-08-07T13:28:04.612088Z",
     "shell.execute_reply": "2023-08-07T13:28:04.610743Z"
    },
    "papermill": {
     "duration": 0.044599,
     "end_time": "2023-08-07T13:28:04.615240",
     "exception": false,
     "start_time": "2023-08-07T13:28:04.570641",
     "status": "completed"
    },
    "tags": []
   },
   "outputs": [
    {
     "data": {
      "text/html": [
       "<div>\n",
       "<style scoped>\n",
       "    .dataframe tbody tr th:only-of-type {\n",
       "        vertical-align: middle;\n",
       "    }\n",
       "\n",
       "    .dataframe tbody tr th {\n",
       "        vertical-align: top;\n",
       "    }\n",
       "\n",
       "    .dataframe thead th {\n",
       "        text-align: right;\n",
       "    }\n",
       "</style>\n",
       "<table border=\"1\" class=\"dataframe\">\n",
       "  <thead>\n",
       "    <tr style=\"text-align: right;\">\n",
       "      <th></th>\n",
       "      <th>yes</th>\n",
       "    </tr>\n",
       "  </thead>\n",
       "  <tbody>\n",
       "    <tr>\n",
       "      <th>0</th>\n",
       "      <td>0</td>\n",
       "    </tr>\n",
       "    <tr>\n",
       "      <th>1</th>\n",
       "      <td>0</td>\n",
       "    </tr>\n",
       "    <tr>\n",
       "      <th>2</th>\n",
       "      <td>1</td>\n",
       "    </tr>\n",
       "    <tr>\n",
       "      <th>3</th>\n",
       "      <td>1</td>\n",
       "    </tr>\n",
       "    <tr>\n",
       "      <th>4</th>\n",
       "      <td>1</td>\n",
       "    </tr>\n",
       "    <tr>\n",
       "      <th>...</th>\n",
       "      <td>...</td>\n",
       "    </tr>\n",
       "    <tr>\n",
       "      <th>540</th>\n",
       "      <td>1</td>\n",
       "    </tr>\n",
       "    <tr>\n",
       "      <th>541</th>\n",
       "      <td>0</td>\n",
       "    </tr>\n",
       "    <tr>\n",
       "      <th>542</th>\n",
       "      <td>0</td>\n",
       "    </tr>\n",
       "    <tr>\n",
       "      <th>543</th>\n",
       "      <td>0</td>\n",
       "    </tr>\n",
       "    <tr>\n",
       "      <th>544</th>\n",
       "      <td>0</td>\n",
       "    </tr>\n",
       "  </tbody>\n",
       "</table>\n",
       "<p>545 rows × 1 columns</p>\n",
       "</div>"
      ],
      "text/plain": [
       "     yes\n",
       "0      0\n",
       "1      0\n",
       "2      1\n",
       "3      1\n",
       "4      1\n",
       "..   ...\n",
       "540    1\n",
       "541    0\n",
       "542    0\n",
       "543    0\n",
       "544    0\n",
       "\n",
       "[545 rows x 1 columns]"
      ]
     },
     "execution_count": 17,
     "metadata": {},
     "output_type": "execute_result"
    }
   ],
   "source": [
    "dum_basement = pd.get_dummies(houses['basement'],drop_first=True)\n",
    "dum_basement"
   ]
  },
  {
   "cell_type": "code",
   "execution_count": 18,
   "id": "4569998b",
   "metadata": {
    "execution": {
     "iopub.execute_input": "2023-08-07T13:28:04.668702Z",
     "iopub.status.busy": "2023-08-07T13:28:04.668298Z",
     "iopub.status.idle": "2023-08-07T13:28:04.683020Z",
     "shell.execute_reply": "2023-08-07T13:28:04.680078Z"
    },
    "papermill": {
     "duration": 0.045773,
     "end_time": "2023-08-07T13:28:04.686246",
     "exception": false,
     "start_time": "2023-08-07T13:28:04.640473",
     "status": "completed"
    },
    "tags": []
   },
   "outputs": [
    {
     "data": {
      "text/html": [
       "<div>\n",
       "<style scoped>\n",
       "    .dataframe tbody tr th:only-of-type {\n",
       "        vertical-align: middle;\n",
       "    }\n",
       "\n",
       "    .dataframe tbody tr th {\n",
       "        vertical-align: top;\n",
       "    }\n",
       "\n",
       "    .dataframe thead th {\n",
       "        text-align: right;\n",
       "    }\n",
       "</style>\n",
       "<table border=\"1\" class=\"dataframe\">\n",
       "  <thead>\n",
       "    <tr style=\"text-align: right;\">\n",
       "      <th></th>\n",
       "      <th>Basement</th>\n",
       "    </tr>\n",
       "  </thead>\n",
       "  <tbody>\n",
       "    <tr>\n",
       "      <th>0</th>\n",
       "      <td>0</td>\n",
       "    </tr>\n",
       "    <tr>\n",
       "      <th>1</th>\n",
       "      <td>0</td>\n",
       "    </tr>\n",
       "    <tr>\n",
       "      <th>2</th>\n",
       "      <td>1</td>\n",
       "    </tr>\n",
       "    <tr>\n",
       "      <th>3</th>\n",
       "      <td>1</td>\n",
       "    </tr>\n",
       "    <tr>\n",
       "      <th>4</th>\n",
       "      <td>1</td>\n",
       "    </tr>\n",
       "    <tr>\n",
       "      <th>...</th>\n",
       "      <td>...</td>\n",
       "    </tr>\n",
       "    <tr>\n",
       "      <th>540</th>\n",
       "      <td>1</td>\n",
       "    </tr>\n",
       "    <tr>\n",
       "      <th>541</th>\n",
       "      <td>0</td>\n",
       "    </tr>\n",
       "    <tr>\n",
       "      <th>542</th>\n",
       "      <td>0</td>\n",
       "    </tr>\n",
       "    <tr>\n",
       "      <th>543</th>\n",
       "      <td>0</td>\n",
       "    </tr>\n",
       "    <tr>\n",
       "      <th>544</th>\n",
       "      <td>0</td>\n",
       "    </tr>\n",
       "  </tbody>\n",
       "</table>\n",
       "<p>545 rows × 1 columns</p>\n",
       "</div>"
      ],
      "text/plain": [
       "     Basement\n",
       "0           0\n",
       "1           0\n",
       "2           1\n",
       "3           1\n",
       "4           1\n",
       "..        ...\n",
       "540         1\n",
       "541         0\n",
       "542         0\n",
       "543         0\n",
       "544         0\n",
       "\n",
       "[545 rows x 1 columns]"
      ]
     },
     "execution_count": 18,
     "metadata": {},
     "output_type": "execute_result"
    }
   ],
   "source": [
    "dum_basement.rename(columns={'yes':'Basement'},inplace=True)\n",
    "dum_basement"
   ]
  },
  {
   "cell_type": "code",
   "execution_count": 19,
   "id": "e87fc7c8",
   "metadata": {
    "execution": {
     "iopub.execute_input": "2023-08-07T13:28:04.742528Z",
     "iopub.status.busy": "2023-08-07T13:28:04.742092Z",
     "iopub.status.idle": "2023-08-07T13:28:04.757773Z",
     "shell.execute_reply": "2023-08-07T13:28:04.756507Z"
    },
    "papermill": {
     "duration": 0.047485,
     "end_time": "2023-08-07T13:28:04.760328",
     "exception": false,
     "start_time": "2023-08-07T13:28:04.712843",
     "status": "completed"
    },
    "tags": []
   },
   "outputs": [
    {
     "data": {
      "text/html": [
       "<div>\n",
       "<style scoped>\n",
       "    .dataframe tbody tr th:only-of-type {\n",
       "        vertical-align: middle;\n",
       "    }\n",
       "\n",
       "    .dataframe tbody tr th {\n",
       "        vertical-align: top;\n",
       "    }\n",
       "\n",
       "    .dataframe thead th {\n",
       "        text-align: right;\n",
       "    }\n",
       "</style>\n",
       "<table border=\"1\" class=\"dataframe\">\n",
       "  <thead>\n",
       "    <tr style=\"text-align: right;\">\n",
       "      <th></th>\n",
       "      <th>furnished</th>\n",
       "      <th>semi-furnished</th>\n",
       "      <th>unfurnished</th>\n",
       "    </tr>\n",
       "  </thead>\n",
       "  <tbody>\n",
       "    <tr>\n",
       "      <th>0</th>\n",
       "      <td>1</td>\n",
       "      <td>0</td>\n",
       "      <td>0</td>\n",
       "    </tr>\n",
       "    <tr>\n",
       "      <th>1</th>\n",
       "      <td>1</td>\n",
       "      <td>0</td>\n",
       "      <td>0</td>\n",
       "    </tr>\n",
       "    <tr>\n",
       "      <th>2</th>\n",
       "      <td>0</td>\n",
       "      <td>1</td>\n",
       "      <td>0</td>\n",
       "    </tr>\n",
       "    <tr>\n",
       "      <th>3</th>\n",
       "      <td>1</td>\n",
       "      <td>0</td>\n",
       "      <td>0</td>\n",
       "    </tr>\n",
       "    <tr>\n",
       "      <th>4</th>\n",
       "      <td>1</td>\n",
       "      <td>0</td>\n",
       "      <td>0</td>\n",
       "    </tr>\n",
       "    <tr>\n",
       "      <th>...</th>\n",
       "      <td>...</td>\n",
       "      <td>...</td>\n",
       "      <td>...</td>\n",
       "    </tr>\n",
       "    <tr>\n",
       "      <th>540</th>\n",
       "      <td>0</td>\n",
       "      <td>0</td>\n",
       "      <td>1</td>\n",
       "    </tr>\n",
       "    <tr>\n",
       "      <th>541</th>\n",
       "      <td>0</td>\n",
       "      <td>1</td>\n",
       "      <td>0</td>\n",
       "    </tr>\n",
       "    <tr>\n",
       "      <th>542</th>\n",
       "      <td>0</td>\n",
       "      <td>0</td>\n",
       "      <td>1</td>\n",
       "    </tr>\n",
       "    <tr>\n",
       "      <th>543</th>\n",
       "      <td>1</td>\n",
       "      <td>0</td>\n",
       "      <td>0</td>\n",
       "    </tr>\n",
       "    <tr>\n",
       "      <th>544</th>\n",
       "      <td>0</td>\n",
       "      <td>0</td>\n",
       "      <td>1</td>\n",
       "    </tr>\n",
       "  </tbody>\n",
       "</table>\n",
       "<p>545 rows × 3 columns</p>\n",
       "</div>"
      ],
      "text/plain": [
       "     furnished  semi-furnished  unfurnished\n",
       "0            1               0            0\n",
       "1            1               0            0\n",
       "2            0               1            0\n",
       "3            1               0            0\n",
       "4            1               0            0\n",
       "..         ...             ...          ...\n",
       "540          0               0            1\n",
       "541          0               1            0\n",
       "542          0               0            1\n",
       "543          1               0            0\n",
       "544          0               0            1\n",
       "\n",
       "[545 rows x 3 columns]"
      ]
     },
     "execution_count": 19,
     "metadata": {},
     "output_type": "execute_result"
    }
   ],
   "source": [
    "dum_furnishingstatus = pd.get_dummies(houses['furnishingstatus'])\n",
    "dum_furnishingstatus"
   ]
  },
  {
   "cell_type": "code",
   "execution_count": 20,
   "id": "44fe8070",
   "metadata": {
    "execution": {
     "iopub.execute_input": "2023-08-07T13:28:04.815338Z",
     "iopub.status.busy": "2023-08-07T13:28:04.814951Z",
     "iopub.status.idle": "2023-08-07T13:28:04.829505Z",
     "shell.execute_reply": "2023-08-07T13:28:04.828150Z"
    },
    "papermill": {
     "duration": 0.044818,
     "end_time": "2023-08-07T13:28:04.832120",
     "exception": false,
     "start_time": "2023-08-07T13:28:04.787302",
     "status": "completed"
    },
    "tags": []
   },
   "outputs": [
    {
     "data": {
      "text/html": [
       "<div>\n",
       "<style scoped>\n",
       "    .dataframe tbody tr th:only-of-type {\n",
       "        vertical-align: middle;\n",
       "    }\n",
       "\n",
       "    .dataframe tbody tr th {\n",
       "        vertical-align: top;\n",
       "    }\n",
       "\n",
       "    .dataframe thead th {\n",
       "        text-align: right;\n",
       "    }\n",
       "</style>\n",
       "<table border=\"1\" class=\"dataframe\">\n",
       "  <thead>\n",
       "    <tr style=\"text-align: right;\">\n",
       "      <th></th>\n",
       "      <th>yes</th>\n",
       "    </tr>\n",
       "  </thead>\n",
       "  <tbody>\n",
       "    <tr>\n",
       "      <th>0</th>\n",
       "      <td>0</td>\n",
       "    </tr>\n",
       "    <tr>\n",
       "      <th>1</th>\n",
       "      <td>0</td>\n",
       "    </tr>\n",
       "    <tr>\n",
       "      <th>2</th>\n",
       "      <td>0</td>\n",
       "    </tr>\n",
       "    <tr>\n",
       "      <th>3</th>\n",
       "      <td>0</td>\n",
       "    </tr>\n",
       "    <tr>\n",
       "      <th>4</th>\n",
       "      <td>1</td>\n",
       "    </tr>\n",
       "    <tr>\n",
       "      <th>...</th>\n",
       "      <td>...</td>\n",
       "    </tr>\n",
       "    <tr>\n",
       "      <th>540</th>\n",
       "      <td>0</td>\n",
       "    </tr>\n",
       "    <tr>\n",
       "      <th>541</th>\n",
       "      <td>0</td>\n",
       "    </tr>\n",
       "    <tr>\n",
       "      <th>542</th>\n",
       "      <td>0</td>\n",
       "    </tr>\n",
       "    <tr>\n",
       "      <th>543</th>\n",
       "      <td>0</td>\n",
       "    </tr>\n",
       "    <tr>\n",
       "      <th>544</th>\n",
       "      <td>0</td>\n",
       "    </tr>\n",
       "  </tbody>\n",
       "</table>\n",
       "<p>545 rows × 1 columns</p>\n",
       "</div>"
      ],
      "text/plain": [
       "     yes\n",
       "0      0\n",
       "1      0\n",
       "2      0\n",
       "3      0\n",
       "4      1\n",
       "..   ...\n",
       "540    0\n",
       "541    0\n",
       "542    0\n",
       "543    0\n",
       "544    0\n",
       "\n",
       "[545 rows x 1 columns]"
      ]
     },
     "execution_count": 20,
     "metadata": {},
     "output_type": "execute_result"
    }
   ],
   "source": [
    "dum_guestroom = pd.get_dummies(houses['guestroom'],drop_first=True)\n",
    "dum_guestroom"
   ]
  },
  {
   "cell_type": "code",
   "execution_count": 21,
   "id": "c65bc7b9",
   "metadata": {
    "execution": {
     "iopub.execute_input": "2023-08-07T13:28:04.888065Z",
     "iopub.status.busy": "2023-08-07T13:28:04.887686Z",
     "iopub.status.idle": "2023-08-07T13:28:04.901487Z",
     "shell.execute_reply": "2023-08-07T13:28:04.899897Z"
    },
    "papermill": {
     "duration": 0.045609,
     "end_time": "2023-08-07T13:28:04.904291",
     "exception": false,
     "start_time": "2023-08-07T13:28:04.858682",
     "status": "completed"
    },
    "tags": []
   },
   "outputs": [
    {
     "data": {
      "text/html": [
       "<div>\n",
       "<style scoped>\n",
       "    .dataframe tbody tr th:only-of-type {\n",
       "        vertical-align: middle;\n",
       "    }\n",
       "\n",
       "    .dataframe tbody tr th {\n",
       "        vertical-align: top;\n",
       "    }\n",
       "\n",
       "    .dataframe thead th {\n",
       "        text-align: right;\n",
       "    }\n",
       "</style>\n",
       "<table border=\"1\" class=\"dataframe\">\n",
       "  <thead>\n",
       "    <tr style=\"text-align: right;\">\n",
       "      <th></th>\n",
       "      <th>Guestroom</th>\n",
       "    </tr>\n",
       "  </thead>\n",
       "  <tbody>\n",
       "    <tr>\n",
       "      <th>0</th>\n",
       "      <td>0</td>\n",
       "    </tr>\n",
       "    <tr>\n",
       "      <th>1</th>\n",
       "      <td>0</td>\n",
       "    </tr>\n",
       "    <tr>\n",
       "      <th>2</th>\n",
       "      <td>0</td>\n",
       "    </tr>\n",
       "    <tr>\n",
       "      <th>3</th>\n",
       "      <td>0</td>\n",
       "    </tr>\n",
       "    <tr>\n",
       "      <th>4</th>\n",
       "      <td>1</td>\n",
       "    </tr>\n",
       "    <tr>\n",
       "      <th>...</th>\n",
       "      <td>...</td>\n",
       "    </tr>\n",
       "    <tr>\n",
       "      <th>540</th>\n",
       "      <td>0</td>\n",
       "    </tr>\n",
       "    <tr>\n",
       "      <th>541</th>\n",
       "      <td>0</td>\n",
       "    </tr>\n",
       "    <tr>\n",
       "      <th>542</th>\n",
       "      <td>0</td>\n",
       "    </tr>\n",
       "    <tr>\n",
       "      <th>543</th>\n",
       "      <td>0</td>\n",
       "    </tr>\n",
       "    <tr>\n",
       "      <th>544</th>\n",
       "      <td>0</td>\n",
       "    </tr>\n",
       "  </tbody>\n",
       "</table>\n",
       "<p>545 rows × 1 columns</p>\n",
       "</div>"
      ],
      "text/plain": [
       "     Guestroom\n",
       "0            0\n",
       "1            0\n",
       "2            0\n",
       "3            0\n",
       "4            1\n",
       "..         ...\n",
       "540          0\n",
       "541          0\n",
       "542          0\n",
       "543          0\n",
       "544          0\n",
       "\n",
       "[545 rows x 1 columns]"
      ]
     },
     "execution_count": 21,
     "metadata": {},
     "output_type": "execute_result"
    }
   ],
   "source": [
    "dum_guestroom.rename(columns={'yes':'Guestroom'},inplace=True)\n",
    "dum_guestroom"
   ]
  },
  {
   "cell_type": "code",
   "execution_count": 22,
   "id": "29e8c598",
   "metadata": {
    "execution": {
     "iopub.execute_input": "2023-08-07T13:28:04.961985Z",
     "iopub.status.busy": "2023-08-07T13:28:04.961572Z",
     "iopub.status.idle": "2023-08-07T13:28:04.975847Z",
     "shell.execute_reply": "2023-08-07T13:28:04.974528Z"
    },
    "papermill": {
     "duration": 0.046638,
     "end_time": "2023-08-07T13:28:04.978426",
     "exception": false,
     "start_time": "2023-08-07T13:28:04.931788",
     "status": "completed"
    },
    "tags": []
   },
   "outputs": [
    {
     "data": {
      "text/html": [
       "<div>\n",
       "<style scoped>\n",
       "    .dataframe tbody tr th:only-of-type {\n",
       "        vertical-align: middle;\n",
       "    }\n",
       "\n",
       "    .dataframe tbody tr th {\n",
       "        vertical-align: top;\n",
       "    }\n",
       "\n",
       "    .dataframe thead th {\n",
       "        text-align: right;\n",
       "    }\n",
       "</style>\n",
       "<table border=\"1\" class=\"dataframe\">\n",
       "  <thead>\n",
       "    <tr style=\"text-align: right;\">\n",
       "      <th></th>\n",
       "      <th>yes</th>\n",
       "    </tr>\n",
       "  </thead>\n",
       "  <tbody>\n",
       "    <tr>\n",
       "      <th>0</th>\n",
       "      <td>0</td>\n",
       "    </tr>\n",
       "    <tr>\n",
       "      <th>1</th>\n",
       "      <td>0</td>\n",
       "    </tr>\n",
       "    <tr>\n",
       "      <th>2</th>\n",
       "      <td>0</td>\n",
       "    </tr>\n",
       "    <tr>\n",
       "      <th>3</th>\n",
       "      <td>0</td>\n",
       "    </tr>\n",
       "    <tr>\n",
       "      <th>4</th>\n",
       "      <td>0</td>\n",
       "    </tr>\n",
       "    <tr>\n",
       "      <th>...</th>\n",
       "      <td>...</td>\n",
       "    </tr>\n",
       "    <tr>\n",
       "      <th>540</th>\n",
       "      <td>0</td>\n",
       "    </tr>\n",
       "    <tr>\n",
       "      <th>541</th>\n",
       "      <td>0</td>\n",
       "    </tr>\n",
       "    <tr>\n",
       "      <th>542</th>\n",
       "      <td>0</td>\n",
       "    </tr>\n",
       "    <tr>\n",
       "      <th>543</th>\n",
       "      <td>0</td>\n",
       "    </tr>\n",
       "    <tr>\n",
       "      <th>544</th>\n",
       "      <td>0</td>\n",
       "    </tr>\n",
       "  </tbody>\n",
       "</table>\n",
       "<p>545 rows × 1 columns</p>\n",
       "</div>"
      ],
      "text/plain": [
       "     yes\n",
       "0      0\n",
       "1      0\n",
       "2      0\n",
       "3      0\n",
       "4      0\n",
       "..   ...\n",
       "540    0\n",
       "541    0\n",
       "542    0\n",
       "543    0\n",
       "544    0\n",
       "\n",
       "[545 rows x 1 columns]"
      ]
     },
     "execution_count": 22,
     "metadata": {},
     "output_type": "execute_result"
    }
   ],
   "source": [
    "dum_hotwaterheating = pd.get_dummies(houses['hotwaterheating'],drop_first=True)\n",
    "dum_hotwaterheating"
   ]
  },
  {
   "cell_type": "code",
   "execution_count": 23,
   "id": "0eeced48",
   "metadata": {
    "execution": {
     "iopub.execute_input": "2023-08-07T13:28:05.033242Z",
     "iopub.status.busy": "2023-08-07T13:28:05.032816Z",
     "iopub.status.idle": "2023-08-07T13:28:05.046775Z",
     "shell.execute_reply": "2023-08-07T13:28:05.045474Z"
    },
    "papermill": {
     "duration": 0.044583,
     "end_time": "2023-08-07T13:28:05.049651",
     "exception": false,
     "start_time": "2023-08-07T13:28:05.005068",
     "status": "completed"
    },
    "tags": []
   },
   "outputs": [
    {
     "data": {
      "text/html": [
       "<div>\n",
       "<style scoped>\n",
       "    .dataframe tbody tr th:only-of-type {\n",
       "        vertical-align: middle;\n",
       "    }\n",
       "\n",
       "    .dataframe tbody tr th {\n",
       "        vertical-align: top;\n",
       "    }\n",
       "\n",
       "    .dataframe thead th {\n",
       "        text-align: right;\n",
       "    }\n",
       "</style>\n",
       "<table border=\"1\" class=\"dataframe\">\n",
       "  <thead>\n",
       "    <tr style=\"text-align: right;\">\n",
       "      <th></th>\n",
       "      <th>Hotwaterheating</th>\n",
       "    </tr>\n",
       "  </thead>\n",
       "  <tbody>\n",
       "    <tr>\n",
       "      <th>0</th>\n",
       "      <td>0</td>\n",
       "    </tr>\n",
       "    <tr>\n",
       "      <th>1</th>\n",
       "      <td>0</td>\n",
       "    </tr>\n",
       "    <tr>\n",
       "      <th>2</th>\n",
       "      <td>0</td>\n",
       "    </tr>\n",
       "    <tr>\n",
       "      <th>3</th>\n",
       "      <td>0</td>\n",
       "    </tr>\n",
       "    <tr>\n",
       "      <th>4</th>\n",
       "      <td>0</td>\n",
       "    </tr>\n",
       "    <tr>\n",
       "      <th>...</th>\n",
       "      <td>...</td>\n",
       "    </tr>\n",
       "    <tr>\n",
       "      <th>540</th>\n",
       "      <td>0</td>\n",
       "    </tr>\n",
       "    <tr>\n",
       "      <th>541</th>\n",
       "      <td>0</td>\n",
       "    </tr>\n",
       "    <tr>\n",
       "      <th>542</th>\n",
       "      <td>0</td>\n",
       "    </tr>\n",
       "    <tr>\n",
       "      <th>543</th>\n",
       "      <td>0</td>\n",
       "    </tr>\n",
       "    <tr>\n",
       "      <th>544</th>\n",
       "      <td>0</td>\n",
       "    </tr>\n",
       "  </tbody>\n",
       "</table>\n",
       "<p>545 rows × 1 columns</p>\n",
       "</div>"
      ],
      "text/plain": [
       "     Hotwaterheating\n",
       "0                  0\n",
       "1                  0\n",
       "2                  0\n",
       "3                  0\n",
       "4                  0\n",
       "..               ...\n",
       "540                0\n",
       "541                0\n",
       "542                0\n",
       "543                0\n",
       "544                0\n",
       "\n",
       "[545 rows x 1 columns]"
      ]
     },
     "execution_count": 23,
     "metadata": {},
     "output_type": "execute_result"
    }
   ],
   "source": [
    "dum_hotwaterheating.rename(columns={'yes':'Hotwaterheating'},inplace=True)\n",
    "dum_hotwaterheating"
   ]
  },
  {
   "cell_type": "code",
   "execution_count": 24,
   "id": "dc8d6864",
   "metadata": {
    "execution": {
     "iopub.execute_input": "2023-08-07T13:28:05.108664Z",
     "iopub.status.busy": "2023-08-07T13:28:05.108231Z",
     "iopub.status.idle": "2023-08-07T13:28:05.125385Z",
     "shell.execute_reply": "2023-08-07T13:28:05.124103Z"
    },
    "papermill": {
     "duration": 0.049857,
     "end_time": "2023-08-07T13:28:05.128099",
     "exception": false,
     "start_time": "2023-08-07T13:28:05.078242",
     "status": "completed"
    },
    "tags": []
   },
   "outputs": [
    {
     "data": {
      "text/html": [
       "<div>\n",
       "<style scoped>\n",
       "    .dataframe tbody tr th:only-of-type {\n",
       "        vertical-align: middle;\n",
       "    }\n",
       "\n",
       "    .dataframe tbody tr th {\n",
       "        vertical-align: top;\n",
       "    }\n",
       "\n",
       "    .dataframe thead th {\n",
       "        text-align: right;\n",
       "    }\n",
       "</style>\n",
       "<table border=\"1\" class=\"dataframe\">\n",
       "  <thead>\n",
       "    <tr style=\"text-align: right;\">\n",
       "      <th></th>\n",
       "      <th>yes</th>\n",
       "    </tr>\n",
       "  </thead>\n",
       "  <tbody>\n",
       "    <tr>\n",
       "      <th>0</th>\n",
       "      <td>1</td>\n",
       "    </tr>\n",
       "    <tr>\n",
       "      <th>1</th>\n",
       "      <td>1</td>\n",
       "    </tr>\n",
       "    <tr>\n",
       "      <th>2</th>\n",
       "      <td>1</td>\n",
       "    </tr>\n",
       "    <tr>\n",
       "      <th>3</th>\n",
       "      <td>1</td>\n",
       "    </tr>\n",
       "    <tr>\n",
       "      <th>4</th>\n",
       "      <td>1</td>\n",
       "    </tr>\n",
       "    <tr>\n",
       "      <th>...</th>\n",
       "      <td>...</td>\n",
       "    </tr>\n",
       "    <tr>\n",
       "      <th>540</th>\n",
       "      <td>1</td>\n",
       "    </tr>\n",
       "    <tr>\n",
       "      <th>541</th>\n",
       "      <td>0</td>\n",
       "    </tr>\n",
       "    <tr>\n",
       "      <th>542</th>\n",
       "      <td>1</td>\n",
       "    </tr>\n",
       "    <tr>\n",
       "      <th>543</th>\n",
       "      <td>0</td>\n",
       "    </tr>\n",
       "    <tr>\n",
       "      <th>544</th>\n",
       "      <td>1</td>\n",
       "    </tr>\n",
       "  </tbody>\n",
       "</table>\n",
       "<p>545 rows × 1 columns</p>\n",
       "</div>"
      ],
      "text/plain": [
       "     yes\n",
       "0      1\n",
       "1      1\n",
       "2      1\n",
       "3      1\n",
       "4      1\n",
       "..   ...\n",
       "540    1\n",
       "541    0\n",
       "542    1\n",
       "543    0\n",
       "544    1\n",
       "\n",
       "[545 rows x 1 columns]"
      ]
     },
     "execution_count": 24,
     "metadata": {},
     "output_type": "execute_result"
    }
   ],
   "source": [
    "dum_mainroad = pd.get_dummies(houses['mainroad'],drop_first=True)\n",
    "dum_mainroad"
   ]
  },
  {
   "cell_type": "code",
   "execution_count": 25,
   "id": "2175f84b",
   "metadata": {
    "execution": {
     "iopub.execute_input": "2023-08-07T13:28:05.190782Z",
     "iopub.status.busy": "2023-08-07T13:28:05.190336Z",
     "iopub.status.idle": "2023-08-07T13:28:05.203639Z",
     "shell.execute_reply": "2023-08-07T13:28:05.202318Z"
    },
    "papermill": {
     "duration": 0.046289,
     "end_time": "2023-08-07T13:28:05.206207",
     "exception": false,
     "start_time": "2023-08-07T13:28:05.159918",
     "status": "completed"
    },
    "tags": []
   },
   "outputs": [
    {
     "data": {
      "text/html": [
       "<div>\n",
       "<style scoped>\n",
       "    .dataframe tbody tr th:only-of-type {\n",
       "        vertical-align: middle;\n",
       "    }\n",
       "\n",
       "    .dataframe tbody tr th {\n",
       "        vertical-align: top;\n",
       "    }\n",
       "\n",
       "    .dataframe thead th {\n",
       "        text-align: right;\n",
       "    }\n",
       "</style>\n",
       "<table border=\"1\" class=\"dataframe\">\n",
       "  <thead>\n",
       "    <tr style=\"text-align: right;\">\n",
       "      <th></th>\n",
       "      <th>Mainroad</th>\n",
       "    </tr>\n",
       "  </thead>\n",
       "  <tbody>\n",
       "    <tr>\n",
       "      <th>0</th>\n",
       "      <td>1</td>\n",
       "    </tr>\n",
       "    <tr>\n",
       "      <th>1</th>\n",
       "      <td>1</td>\n",
       "    </tr>\n",
       "    <tr>\n",
       "      <th>2</th>\n",
       "      <td>1</td>\n",
       "    </tr>\n",
       "    <tr>\n",
       "      <th>3</th>\n",
       "      <td>1</td>\n",
       "    </tr>\n",
       "    <tr>\n",
       "      <th>4</th>\n",
       "      <td>1</td>\n",
       "    </tr>\n",
       "    <tr>\n",
       "      <th>...</th>\n",
       "      <td>...</td>\n",
       "    </tr>\n",
       "    <tr>\n",
       "      <th>540</th>\n",
       "      <td>1</td>\n",
       "    </tr>\n",
       "    <tr>\n",
       "      <th>541</th>\n",
       "      <td>0</td>\n",
       "    </tr>\n",
       "    <tr>\n",
       "      <th>542</th>\n",
       "      <td>1</td>\n",
       "    </tr>\n",
       "    <tr>\n",
       "      <th>543</th>\n",
       "      <td>0</td>\n",
       "    </tr>\n",
       "    <tr>\n",
       "      <th>544</th>\n",
       "      <td>1</td>\n",
       "    </tr>\n",
       "  </tbody>\n",
       "</table>\n",
       "<p>545 rows × 1 columns</p>\n",
       "</div>"
      ],
      "text/plain": [
       "     Mainroad\n",
       "0           1\n",
       "1           1\n",
       "2           1\n",
       "3           1\n",
       "4           1\n",
       "..        ...\n",
       "540         1\n",
       "541         0\n",
       "542         1\n",
       "543         0\n",
       "544         1\n",
       "\n",
       "[545 rows x 1 columns]"
      ]
     },
     "execution_count": 25,
     "metadata": {},
     "output_type": "execute_result"
    }
   ],
   "source": [
    "dum_mainroad.rename(columns={'yes':'Mainroad'},inplace=True)\n",
    "dum_mainroad"
   ]
  },
  {
   "cell_type": "code",
   "execution_count": 26,
   "id": "126c80fc",
   "metadata": {
    "execution": {
     "iopub.execute_input": "2023-08-07T13:28:05.266486Z",
     "iopub.status.busy": "2023-08-07T13:28:05.266060Z",
     "iopub.status.idle": "2023-08-07T13:28:05.280253Z",
     "shell.execute_reply": "2023-08-07T13:28:05.279030Z"
    },
    "papermill": {
     "duration": 0.047128,
     "end_time": "2023-08-07T13:28:05.282818",
     "exception": false,
     "start_time": "2023-08-07T13:28:05.235690",
     "status": "completed"
    },
    "tags": []
   },
   "outputs": [
    {
     "data": {
      "text/html": [
       "<div>\n",
       "<style scoped>\n",
       "    .dataframe tbody tr th:only-of-type {\n",
       "        vertical-align: middle;\n",
       "    }\n",
       "\n",
       "    .dataframe tbody tr th {\n",
       "        vertical-align: top;\n",
       "    }\n",
       "\n",
       "    .dataframe thead th {\n",
       "        text-align: right;\n",
       "    }\n",
       "</style>\n",
       "<table border=\"1\" class=\"dataframe\">\n",
       "  <thead>\n",
       "    <tr style=\"text-align: right;\">\n",
       "      <th></th>\n",
       "      <th>yes</th>\n",
       "    </tr>\n",
       "  </thead>\n",
       "  <tbody>\n",
       "    <tr>\n",
       "      <th>0</th>\n",
       "      <td>1</td>\n",
       "    </tr>\n",
       "    <tr>\n",
       "      <th>1</th>\n",
       "      <td>0</td>\n",
       "    </tr>\n",
       "    <tr>\n",
       "      <th>2</th>\n",
       "      <td>1</td>\n",
       "    </tr>\n",
       "    <tr>\n",
       "      <th>3</th>\n",
       "      <td>1</td>\n",
       "    </tr>\n",
       "    <tr>\n",
       "      <th>4</th>\n",
       "      <td>0</td>\n",
       "    </tr>\n",
       "    <tr>\n",
       "      <th>...</th>\n",
       "      <td>...</td>\n",
       "    </tr>\n",
       "    <tr>\n",
       "      <th>540</th>\n",
       "      <td>0</td>\n",
       "    </tr>\n",
       "    <tr>\n",
       "      <th>541</th>\n",
       "      <td>0</td>\n",
       "    </tr>\n",
       "    <tr>\n",
       "      <th>542</th>\n",
       "      <td>0</td>\n",
       "    </tr>\n",
       "    <tr>\n",
       "      <th>543</th>\n",
       "      <td>0</td>\n",
       "    </tr>\n",
       "    <tr>\n",
       "      <th>544</th>\n",
       "      <td>0</td>\n",
       "    </tr>\n",
       "  </tbody>\n",
       "</table>\n",
       "<p>545 rows × 1 columns</p>\n",
       "</div>"
      ],
      "text/plain": [
       "     yes\n",
       "0      1\n",
       "1      0\n",
       "2      1\n",
       "3      1\n",
       "4      0\n",
       "..   ...\n",
       "540    0\n",
       "541    0\n",
       "542    0\n",
       "543    0\n",
       "544    0\n",
       "\n",
       "[545 rows x 1 columns]"
      ]
     },
     "execution_count": 26,
     "metadata": {},
     "output_type": "execute_result"
    }
   ],
   "source": [
    "dum_prefarea = pd.get_dummies(houses['prefarea'],drop_first=True)\n",
    "dum_prefarea"
   ]
  },
  {
   "cell_type": "code",
   "execution_count": 27,
   "id": "ee79a161",
   "metadata": {
    "execution": {
     "iopub.execute_input": "2023-08-07T13:28:05.342448Z",
     "iopub.status.busy": "2023-08-07T13:28:05.341874Z",
     "iopub.status.idle": "2023-08-07T13:28:05.355084Z",
     "shell.execute_reply": "2023-08-07T13:28:05.354169Z"
    },
    "papermill": {
     "duration": 0.045404,
     "end_time": "2023-08-07T13:28:05.357597",
     "exception": false,
     "start_time": "2023-08-07T13:28:05.312193",
     "status": "completed"
    },
    "tags": []
   },
   "outputs": [
    {
     "data": {
      "text/html": [
       "<div>\n",
       "<style scoped>\n",
       "    .dataframe tbody tr th:only-of-type {\n",
       "        vertical-align: middle;\n",
       "    }\n",
       "\n",
       "    .dataframe tbody tr th {\n",
       "        vertical-align: top;\n",
       "    }\n",
       "\n",
       "    .dataframe thead th {\n",
       "        text-align: right;\n",
       "    }\n",
       "</style>\n",
       "<table border=\"1\" class=\"dataframe\">\n",
       "  <thead>\n",
       "    <tr style=\"text-align: right;\">\n",
       "      <th></th>\n",
       "      <th>Prefarea</th>\n",
       "    </tr>\n",
       "  </thead>\n",
       "  <tbody>\n",
       "    <tr>\n",
       "      <th>0</th>\n",
       "      <td>1</td>\n",
       "    </tr>\n",
       "    <tr>\n",
       "      <th>1</th>\n",
       "      <td>0</td>\n",
       "    </tr>\n",
       "    <tr>\n",
       "      <th>2</th>\n",
       "      <td>1</td>\n",
       "    </tr>\n",
       "    <tr>\n",
       "      <th>3</th>\n",
       "      <td>1</td>\n",
       "    </tr>\n",
       "    <tr>\n",
       "      <th>4</th>\n",
       "      <td>0</td>\n",
       "    </tr>\n",
       "    <tr>\n",
       "      <th>...</th>\n",
       "      <td>...</td>\n",
       "    </tr>\n",
       "    <tr>\n",
       "      <th>540</th>\n",
       "      <td>0</td>\n",
       "    </tr>\n",
       "    <tr>\n",
       "      <th>541</th>\n",
       "      <td>0</td>\n",
       "    </tr>\n",
       "    <tr>\n",
       "      <th>542</th>\n",
       "      <td>0</td>\n",
       "    </tr>\n",
       "    <tr>\n",
       "      <th>543</th>\n",
       "      <td>0</td>\n",
       "    </tr>\n",
       "    <tr>\n",
       "      <th>544</th>\n",
       "      <td>0</td>\n",
       "    </tr>\n",
       "  </tbody>\n",
       "</table>\n",
       "<p>545 rows × 1 columns</p>\n",
       "</div>"
      ],
      "text/plain": [
       "     Prefarea\n",
       "0           1\n",
       "1           0\n",
       "2           1\n",
       "3           1\n",
       "4           0\n",
       "..        ...\n",
       "540         0\n",
       "541         0\n",
       "542         0\n",
       "543         0\n",
       "544         0\n",
       "\n",
       "[545 rows x 1 columns]"
      ]
     },
     "execution_count": 27,
     "metadata": {},
     "output_type": "execute_result"
    }
   ],
   "source": [
    "dum_prefarea.rename(columns={'yes':'Prefarea'},inplace=True)\n",
    "dum_prefarea"
   ]
  },
  {
   "cell_type": "code",
   "execution_count": 28,
   "id": "5e39ff96",
   "metadata": {
    "execution": {
     "iopub.execute_input": "2023-08-07T13:28:05.418641Z",
     "iopub.status.busy": "2023-08-07T13:28:05.418209Z",
     "iopub.status.idle": "2023-08-07T13:28:05.432687Z",
     "shell.execute_reply": "2023-08-07T13:28:05.431463Z"
    },
    "papermill": {
     "duration": 0.048474,
     "end_time": "2023-08-07T13:28:05.435116",
     "exception": false,
     "start_time": "2023-08-07T13:28:05.386642",
     "status": "completed"
    },
    "tags": []
   },
   "outputs": [
    {
     "data": {
      "text/html": [
       "<div>\n",
       "<style scoped>\n",
       "    .dataframe tbody tr th:only-of-type {\n",
       "        vertical-align: middle;\n",
       "    }\n",
       "\n",
       "    .dataframe tbody tr th {\n",
       "        vertical-align: top;\n",
       "    }\n",
       "\n",
       "    .dataframe thead th {\n",
       "        text-align: right;\n",
       "    }\n",
       "</style>\n",
       "<table border=\"1\" class=\"dataframe\">\n",
       "  <thead>\n",
       "    <tr style=\"text-align: right;\">\n",
       "      <th></th>\n",
       "      <th>yes</th>\n",
       "    </tr>\n",
       "  </thead>\n",
       "  <tbody>\n",
       "    <tr>\n",
       "      <th>0</th>\n",
       "      <td>1</td>\n",
       "    </tr>\n",
       "    <tr>\n",
       "      <th>1</th>\n",
       "      <td>1</td>\n",
       "    </tr>\n",
       "    <tr>\n",
       "      <th>2</th>\n",
       "      <td>0</td>\n",
       "    </tr>\n",
       "    <tr>\n",
       "      <th>3</th>\n",
       "      <td>1</td>\n",
       "    </tr>\n",
       "    <tr>\n",
       "      <th>4</th>\n",
       "      <td>1</td>\n",
       "    </tr>\n",
       "    <tr>\n",
       "      <th>...</th>\n",
       "      <td>...</td>\n",
       "    </tr>\n",
       "    <tr>\n",
       "      <th>540</th>\n",
       "      <td>0</td>\n",
       "    </tr>\n",
       "    <tr>\n",
       "      <th>541</th>\n",
       "      <td>0</td>\n",
       "    </tr>\n",
       "    <tr>\n",
       "      <th>542</th>\n",
       "      <td>0</td>\n",
       "    </tr>\n",
       "    <tr>\n",
       "      <th>543</th>\n",
       "      <td>0</td>\n",
       "    </tr>\n",
       "    <tr>\n",
       "      <th>544</th>\n",
       "      <td>0</td>\n",
       "    </tr>\n",
       "  </tbody>\n",
       "</table>\n",
       "<p>545 rows × 1 columns</p>\n",
       "</div>"
      ],
      "text/plain": [
       "     yes\n",
       "0      1\n",
       "1      1\n",
       "2      0\n",
       "3      1\n",
       "4      1\n",
       "..   ...\n",
       "540    0\n",
       "541    0\n",
       "542    0\n",
       "543    0\n",
       "544    0\n",
       "\n",
       "[545 rows x 1 columns]"
      ]
     },
     "execution_count": 28,
     "metadata": {},
     "output_type": "execute_result"
    }
   ],
   "source": [
    "dum_airconditioning = pd.get_dummies(houses['airconditioning'],drop_first=True)\n",
    "dum_airconditioning"
   ]
  },
  {
   "cell_type": "code",
   "execution_count": 29,
   "id": "35bcf73e",
   "metadata": {
    "execution": {
     "iopub.execute_input": "2023-08-07T13:28:05.495797Z",
     "iopub.status.busy": "2023-08-07T13:28:05.495205Z",
     "iopub.status.idle": "2023-08-07T13:28:05.510174Z",
     "shell.execute_reply": "2023-08-07T13:28:05.508784Z"
    },
    "papermill": {
     "duration": 0.049247,
     "end_time": "2023-08-07T13:28:05.512532",
     "exception": false,
     "start_time": "2023-08-07T13:28:05.463285",
     "status": "completed"
    },
    "tags": []
   },
   "outputs": [
    {
     "data": {
      "text/html": [
       "<div>\n",
       "<style scoped>\n",
       "    .dataframe tbody tr th:only-of-type {\n",
       "        vertical-align: middle;\n",
       "    }\n",
       "\n",
       "    .dataframe tbody tr th {\n",
       "        vertical-align: top;\n",
       "    }\n",
       "\n",
       "    .dataframe thead th {\n",
       "        text-align: right;\n",
       "    }\n",
       "</style>\n",
       "<table border=\"1\" class=\"dataframe\">\n",
       "  <thead>\n",
       "    <tr style=\"text-align: right;\">\n",
       "      <th></th>\n",
       "      <th>Airconditioning</th>\n",
       "    </tr>\n",
       "  </thead>\n",
       "  <tbody>\n",
       "    <tr>\n",
       "      <th>0</th>\n",
       "      <td>1</td>\n",
       "    </tr>\n",
       "    <tr>\n",
       "      <th>1</th>\n",
       "      <td>1</td>\n",
       "    </tr>\n",
       "    <tr>\n",
       "      <th>2</th>\n",
       "      <td>0</td>\n",
       "    </tr>\n",
       "    <tr>\n",
       "      <th>3</th>\n",
       "      <td>1</td>\n",
       "    </tr>\n",
       "    <tr>\n",
       "      <th>4</th>\n",
       "      <td>1</td>\n",
       "    </tr>\n",
       "    <tr>\n",
       "      <th>...</th>\n",
       "      <td>...</td>\n",
       "    </tr>\n",
       "    <tr>\n",
       "      <th>540</th>\n",
       "      <td>0</td>\n",
       "    </tr>\n",
       "    <tr>\n",
       "      <th>541</th>\n",
       "      <td>0</td>\n",
       "    </tr>\n",
       "    <tr>\n",
       "      <th>542</th>\n",
       "      <td>0</td>\n",
       "    </tr>\n",
       "    <tr>\n",
       "      <th>543</th>\n",
       "      <td>0</td>\n",
       "    </tr>\n",
       "    <tr>\n",
       "      <th>544</th>\n",
       "      <td>0</td>\n",
       "    </tr>\n",
       "  </tbody>\n",
       "</table>\n",
       "<p>545 rows × 1 columns</p>\n",
       "</div>"
      ],
      "text/plain": [
       "     Airconditioning\n",
       "0                  1\n",
       "1                  1\n",
       "2                  0\n",
       "3                  1\n",
       "4                  1\n",
       "..               ...\n",
       "540                0\n",
       "541                0\n",
       "542                0\n",
       "543                0\n",
       "544                0\n",
       "\n",
       "[545 rows x 1 columns]"
      ]
     },
     "execution_count": 29,
     "metadata": {},
     "output_type": "execute_result"
    }
   ],
   "source": [
    "dum_airconditioning.rename(columns={'yes':'Airconditioning'},inplace=True)\n",
    "dum_airconditioning"
   ]
  },
  {
   "cell_type": "code",
   "execution_count": 30,
   "id": "a13f2306",
   "metadata": {
    "execution": {
     "iopub.execute_input": "2023-08-07T13:28:05.578346Z",
     "iopub.status.busy": "2023-08-07T13:28:05.576693Z",
     "iopub.status.idle": "2023-08-07T13:28:05.602869Z",
     "shell.execute_reply": "2023-08-07T13:28:05.601618Z"
    },
    "papermill": {
     "duration": 0.063978,
     "end_time": "2023-08-07T13:28:05.605807",
     "exception": false,
     "start_time": "2023-08-07T13:28:05.541829",
     "status": "completed"
    },
    "tags": []
   },
   "outputs": [
    {
     "data": {
      "text/html": [
       "<div>\n",
       "<style scoped>\n",
       "    .dataframe tbody tr th:only-of-type {\n",
       "        vertical-align: middle;\n",
       "    }\n",
       "\n",
       "    .dataframe tbody tr th {\n",
       "        vertical-align: top;\n",
       "    }\n",
       "\n",
       "    .dataframe thead th {\n",
       "        text-align: right;\n",
       "    }\n",
       "</style>\n",
       "<table border=\"1\" class=\"dataframe\">\n",
       "  <thead>\n",
       "    <tr style=\"text-align: right;\">\n",
       "      <th></th>\n",
       "      <th>price</th>\n",
       "      <th>area</th>\n",
       "      <th>bedrooms</th>\n",
       "      <th>bathrooms</th>\n",
       "      <th>stories</th>\n",
       "      <th>mainroad</th>\n",
       "      <th>guestroom</th>\n",
       "      <th>basement</th>\n",
       "      <th>hotwaterheating</th>\n",
       "      <th>airconditioning</th>\n",
       "      <th>...</th>\n",
       "      <th>furnishingstatus</th>\n",
       "      <th>Basement</th>\n",
       "      <th>Airconditioning</th>\n",
       "      <th>furnished</th>\n",
       "      <th>semi-furnished</th>\n",
       "      <th>unfurnished</th>\n",
       "      <th>Guestroom</th>\n",
       "      <th>Hotwaterheating</th>\n",
       "      <th>Mainroad</th>\n",
       "      <th>Prefarea</th>\n",
       "    </tr>\n",
       "  </thead>\n",
       "  <tbody>\n",
       "    <tr>\n",
       "      <th>0</th>\n",
       "      <td>13300000.0</td>\n",
       "      <td>7420.0</td>\n",
       "      <td>4</td>\n",
       "      <td>2</td>\n",
       "      <td>3</td>\n",
       "      <td>yes</td>\n",
       "      <td>no</td>\n",
       "      <td>no</td>\n",
       "      <td>no</td>\n",
       "      <td>yes</td>\n",
       "      <td>...</td>\n",
       "      <td>furnished</td>\n",
       "      <td>0</td>\n",
       "      <td>1</td>\n",
       "      <td>1</td>\n",
       "      <td>0</td>\n",
       "      <td>0</td>\n",
       "      <td>0</td>\n",
       "      <td>0</td>\n",
       "      <td>1</td>\n",
       "      <td>1</td>\n",
       "    </tr>\n",
       "    <tr>\n",
       "      <th>1</th>\n",
       "      <td>12250000.0</td>\n",
       "      <td>8960.0</td>\n",
       "      <td>4</td>\n",
       "      <td>4</td>\n",
       "      <td>4</td>\n",
       "      <td>yes</td>\n",
       "      <td>no</td>\n",
       "      <td>no</td>\n",
       "      <td>no</td>\n",
       "      <td>yes</td>\n",
       "      <td>...</td>\n",
       "      <td>furnished</td>\n",
       "      <td>0</td>\n",
       "      <td>1</td>\n",
       "      <td>1</td>\n",
       "      <td>0</td>\n",
       "      <td>0</td>\n",
       "      <td>0</td>\n",
       "      <td>0</td>\n",
       "      <td>1</td>\n",
       "      <td>0</td>\n",
       "    </tr>\n",
       "  </tbody>\n",
       "</table>\n",
       "<p>2 rows × 22 columns</p>\n",
       "</div>"
      ],
      "text/plain": [
       "        price    area  bedrooms  bathrooms  stories mainroad guestroom  \\\n",
       "0  13300000.0  7420.0         4          2        3      yes        no   \n",
       "1  12250000.0  8960.0         4          4        4      yes        no   \n",
       "\n",
       "  basement hotwaterheating airconditioning  ...  furnishingstatus Basement  \\\n",
       "0       no              no             yes  ...         furnished        0   \n",
       "1       no              no             yes  ...         furnished        0   \n",
       "\n",
       "  Airconditioning  furnished  semi-furnished  unfurnished  Guestroom  \\\n",
       "0               1          1               0            0          0   \n",
       "1               1          1               0            0          0   \n",
       "\n",
       "   Hotwaterheating  Mainroad  Prefarea  \n",
       "0                0         1         1  \n",
       "1                0         1         0  \n",
       "\n",
       "[2 rows x 22 columns]"
      ]
     },
     "execution_count": 30,
     "metadata": {},
     "output_type": "execute_result"
    }
   ],
   "source": [
    "houses = pd.concat([houses,dum_basement,dum_airconditioning,dum_furnishingstatus,dum_guestroom,dum_hotwaterheating,dum_mainroad,dum_prefarea],axis=1)\n",
    "houses.head(2)"
   ]
  },
  {
   "cell_type": "code",
   "execution_count": 31,
   "id": "b3d0587e",
   "metadata": {
    "execution": {
     "iopub.execute_input": "2023-08-07T13:28:05.668884Z",
     "iopub.status.busy": "2023-08-07T13:28:05.668459Z",
     "iopub.status.idle": "2023-08-07T13:28:05.675428Z",
     "shell.execute_reply": "2023-08-07T13:28:05.674508Z"
    },
    "papermill": {
     "duration": 0.041741,
     "end_time": "2023-08-07T13:28:05.678019",
     "exception": false,
     "start_time": "2023-08-07T13:28:05.636278",
     "status": "completed"
    },
    "tags": []
   },
   "outputs": [
    {
     "data": {
      "text/plain": [
       "Index(['price', 'area', 'bedrooms', 'bathrooms', 'stories', 'mainroad',\n",
       "       'guestroom', 'basement', 'hotwaterheating', 'airconditioning',\n",
       "       'parking', 'prefarea', 'furnishingstatus', 'Basement',\n",
       "       'Airconditioning', 'furnished', 'semi-furnished', 'unfurnished',\n",
       "       'Guestroom', 'Hotwaterheating', 'Mainroad', 'Prefarea'],\n",
       "      dtype='object')"
      ]
     },
     "execution_count": 31,
     "metadata": {},
     "output_type": "execute_result"
    }
   ],
   "source": [
    "houses.columns"
   ]
  },
  {
   "cell_type": "code",
   "execution_count": 32,
   "id": "90639354",
   "metadata": {
    "execution": {
     "iopub.execute_input": "2023-08-07T13:28:05.741499Z",
     "iopub.status.busy": "2023-08-07T13:28:05.740145Z",
     "iopub.status.idle": "2023-08-07T13:28:05.747550Z",
     "shell.execute_reply": "2023-08-07T13:28:05.746510Z"
    },
    "papermill": {
     "duration": 0.040764,
     "end_time": "2023-08-07T13:28:05.750226",
     "exception": false,
     "start_time": "2023-08-07T13:28:05.709462",
     "status": "completed"
    },
    "tags": []
   },
   "outputs": [],
   "source": [
    "houses.drop(columns=['mainroad','guestroom','hotwaterheating','airconditioning','prefarea','furnishingstatus','basement'],axis=1,inplace=True)"
   ]
  },
  {
   "cell_type": "code",
   "execution_count": 33,
   "id": "3ff880ae",
   "metadata": {
    "execution": {
     "iopub.execute_input": "2023-08-07T13:28:05.813550Z",
     "iopub.status.busy": "2023-08-07T13:28:05.812317Z",
     "iopub.status.idle": "2023-08-07T13:28:05.829093Z",
     "shell.execute_reply": "2023-08-07T13:28:05.827525Z"
    },
    "papermill": {
     "duration": 0.050986,
     "end_time": "2023-08-07T13:28:05.831970",
     "exception": false,
     "start_time": "2023-08-07T13:28:05.780984",
     "status": "completed"
    },
    "tags": []
   },
   "outputs": [
    {
     "data": {
      "text/html": [
       "<div>\n",
       "<style scoped>\n",
       "    .dataframe tbody tr th:only-of-type {\n",
       "        vertical-align: middle;\n",
       "    }\n",
       "\n",
       "    .dataframe tbody tr th {\n",
       "        vertical-align: top;\n",
       "    }\n",
       "\n",
       "    .dataframe thead th {\n",
       "        text-align: right;\n",
       "    }\n",
       "</style>\n",
       "<table border=\"1\" class=\"dataframe\">\n",
       "  <thead>\n",
       "    <tr style=\"text-align: right;\">\n",
       "      <th></th>\n",
       "      <th>price</th>\n",
       "      <th>area</th>\n",
       "      <th>bedrooms</th>\n",
       "      <th>bathrooms</th>\n",
       "      <th>stories</th>\n",
       "      <th>parking</th>\n",
       "      <th>Basement</th>\n",
       "      <th>Airconditioning</th>\n",
       "      <th>furnished</th>\n",
       "      <th>semi-furnished</th>\n",
       "      <th>unfurnished</th>\n",
       "      <th>Guestroom</th>\n",
       "      <th>Hotwaterheating</th>\n",
       "      <th>Mainroad</th>\n",
       "      <th>Prefarea</th>\n",
       "    </tr>\n",
       "  </thead>\n",
       "  <tbody>\n",
       "    <tr>\n",
       "      <th>0</th>\n",
       "      <td>13300000.0</td>\n",
       "      <td>7420.0</td>\n",
       "      <td>4</td>\n",
       "      <td>2</td>\n",
       "      <td>3</td>\n",
       "      <td>2</td>\n",
       "      <td>0</td>\n",
       "      <td>1</td>\n",
       "      <td>1</td>\n",
       "      <td>0</td>\n",
       "      <td>0</td>\n",
       "      <td>0</td>\n",
       "      <td>0</td>\n",
       "      <td>1</td>\n",
       "      <td>1</td>\n",
       "    </tr>\n",
       "    <tr>\n",
       "      <th>1</th>\n",
       "      <td>12250000.0</td>\n",
       "      <td>8960.0</td>\n",
       "      <td>4</td>\n",
       "      <td>4</td>\n",
       "      <td>4</td>\n",
       "      <td>3</td>\n",
       "      <td>0</td>\n",
       "      <td>1</td>\n",
       "      <td>1</td>\n",
       "      <td>0</td>\n",
       "      <td>0</td>\n",
       "      <td>0</td>\n",
       "      <td>0</td>\n",
       "      <td>1</td>\n",
       "      <td>0</td>\n",
       "    </tr>\n",
       "  </tbody>\n",
       "</table>\n",
       "</div>"
      ],
      "text/plain": [
       "        price    area  bedrooms  bathrooms  stories  parking  Basement  \\\n",
       "0  13300000.0  7420.0         4          2        3        2         0   \n",
       "1  12250000.0  8960.0         4          4        4        3         0   \n",
       "\n",
       "   Airconditioning  furnished  semi-furnished  unfurnished  Guestroom  \\\n",
       "0                1          1               0            0          0   \n",
       "1                1          1               0            0          0   \n",
       "\n",
       "   Hotwaterheating  Mainroad  Prefarea  \n",
       "0                0         1         1  \n",
       "1                0         1         0  "
      ]
     },
     "execution_count": 33,
     "metadata": {},
     "output_type": "execute_result"
    }
   ],
   "source": [
    "houses.head(2)"
   ]
  },
  {
   "cell_type": "markdown",
   "id": "9d0a4848",
   "metadata": {
    "papermill": {
     "duration": 0.029231,
     "end_time": "2023-08-07T13:28:05.890583",
     "exception": false,
     "start_time": "2023-08-07T13:28:05.861352",
     "status": "completed"
    },
    "tags": []
   },
   "source": [
    "# test / train split data"
   ]
  },
  {
   "cell_type": "code",
   "execution_count": 34,
   "id": "6b0f5881",
   "metadata": {
    "execution": {
     "iopub.execute_input": "2023-08-07T13:28:05.951711Z",
     "iopub.status.busy": "2023-08-07T13:28:05.950069Z",
     "iopub.status.idle": "2023-08-07T13:28:05.958082Z",
     "shell.execute_reply": "2023-08-07T13:28:05.956643Z"
    },
    "papermill": {
     "duration": 0.041102,
     "end_time": "2023-08-07T13:28:05.960627",
     "exception": false,
     "start_time": "2023-08-07T13:28:05.919525",
     "status": "completed"
    },
    "tags": []
   },
   "outputs": [
    {
     "data": {
      "text/plain": [
       "Index(['price', 'area', 'bedrooms', 'bathrooms', 'stories', 'parking',\n",
       "       'Basement', 'Airconditioning', 'furnished', 'semi-furnished',\n",
       "       'unfurnished', 'Guestroom', 'Hotwaterheating', 'Mainroad', 'Prefarea'],\n",
       "      dtype='object')"
      ]
     },
     "execution_count": 34,
     "metadata": {},
     "output_type": "execute_result"
    }
   ],
   "source": [
    "houses.columns"
   ]
  },
  {
   "cell_type": "code",
   "execution_count": 35,
   "id": "56435599",
   "metadata": {
    "execution": {
     "iopub.execute_input": "2023-08-07T13:28:06.022937Z",
     "iopub.status.busy": "2023-08-07T13:28:06.022177Z",
     "iopub.status.idle": "2023-08-07T13:28:06.222610Z",
     "shell.execute_reply": "2023-08-07T13:28:06.221145Z"
    },
    "papermill": {
     "duration": 0.233982,
     "end_time": "2023-08-07T13:28:06.225608",
     "exception": false,
     "start_time": "2023-08-07T13:28:05.991626",
     "status": "completed"
    },
    "tags": []
   },
   "outputs": [],
   "source": [
    "from sklearn.model_selection import train_test_split"
   ]
  },
  {
   "cell_type": "code",
   "execution_count": 36,
   "id": "73012b45",
   "metadata": {
    "execution": {
     "iopub.execute_input": "2023-08-07T13:28:06.288582Z",
     "iopub.status.busy": "2023-08-07T13:28:06.288163Z",
     "iopub.status.idle": "2023-08-07T13:28:06.293851Z",
     "shell.execute_reply": "2023-08-07T13:28:06.292934Z"
    },
    "papermill": {
     "duration": 0.041023,
     "end_time": "2023-08-07T13:28:06.296170",
     "exception": false,
     "start_time": "2023-08-07T13:28:06.255147",
     "status": "completed"
    },
    "tags": []
   },
   "outputs": [],
   "source": [
    "y = houses['price']"
   ]
  },
  {
   "cell_type": "code",
   "execution_count": 37,
   "id": "7b700b0e",
   "metadata": {
    "execution": {
     "iopub.execute_input": "2023-08-07T13:28:06.360943Z",
     "iopub.status.busy": "2023-08-07T13:28:06.360058Z",
     "iopub.status.idle": "2023-08-07T13:28:06.366253Z",
     "shell.execute_reply": "2023-08-07T13:28:06.365342Z"
    },
    "papermill": {
     "duration": 0.041772,
     "end_time": "2023-08-07T13:28:06.369016",
     "exception": false,
     "start_time": "2023-08-07T13:28:06.327244",
     "status": "completed"
    },
    "tags": []
   },
   "outputs": [],
   "source": [
    "X = houses.drop(columns='price',axis=1)"
   ]
  },
  {
   "cell_type": "code",
   "execution_count": 38,
   "id": "5c486628",
   "metadata": {
    "execution": {
     "iopub.execute_input": "2023-08-07T13:28:06.435074Z",
     "iopub.status.busy": "2023-08-07T13:28:06.434344Z",
     "iopub.status.idle": "2023-08-07T13:28:06.442739Z",
     "shell.execute_reply": "2023-08-07T13:28:06.441456Z"
    },
    "papermill": {
     "duration": 0.044763,
     "end_time": "2023-08-07T13:28:06.445850",
     "exception": false,
     "start_time": "2023-08-07T13:28:06.401087",
     "status": "completed"
    },
    "tags": []
   },
   "outputs": [],
   "source": [
    "X_train, X_test, y_train, y_test = train_test_split(X, y, test_size=0.20, random_state=42)"
   ]
  },
  {
   "cell_type": "code",
   "execution_count": 39,
   "id": "4ed6d34e",
   "metadata": {
    "execution": {
     "iopub.execute_input": "2023-08-07T13:28:06.511635Z",
     "iopub.status.busy": "2023-08-07T13:28:06.510455Z",
     "iopub.status.idle": "2023-08-07T13:28:06.520106Z",
     "shell.execute_reply": "2023-08-07T13:28:06.518494Z"
    },
    "papermill": {
     "duration": 0.045968,
     "end_time": "2023-08-07T13:28:06.523129",
     "exception": false,
     "start_time": "2023-08-07T13:28:06.477161",
     "status": "completed"
    },
    "tags": []
   },
   "outputs": [
    {
     "data": {
      "text/plain": [
       "(436, 14)"
      ]
     },
     "execution_count": 39,
     "metadata": {},
     "output_type": "execute_result"
    }
   ],
   "source": [
    "X_train.shape"
   ]
  },
  {
   "cell_type": "code",
   "execution_count": 40,
   "id": "89476441",
   "metadata": {
    "execution": {
     "iopub.execute_input": "2023-08-07T13:28:06.590955Z",
     "iopub.status.busy": "2023-08-07T13:28:06.590468Z",
     "iopub.status.idle": "2023-08-07T13:28:06.598101Z",
     "shell.execute_reply": "2023-08-07T13:28:06.596687Z"
    },
    "papermill": {
     "duration": 0.046843,
     "end_time": "2023-08-07T13:28:06.600950",
     "exception": false,
     "start_time": "2023-08-07T13:28:06.554107",
     "status": "completed"
    },
    "tags": []
   },
   "outputs": [
    {
     "data": {
      "text/plain": [
       "(436,)"
      ]
     },
     "execution_count": 40,
     "metadata": {},
     "output_type": "execute_result"
    }
   ],
   "source": [
    "y_train.shape"
   ]
  },
  {
   "cell_type": "code",
   "execution_count": 41,
   "id": "35b25f90",
   "metadata": {
    "execution": {
     "iopub.execute_input": "2023-08-07T13:28:06.667436Z",
     "iopub.status.busy": "2023-08-07T13:28:06.666999Z",
     "iopub.status.idle": "2023-08-07T13:28:06.673633Z",
     "shell.execute_reply": "2023-08-07T13:28:06.672708Z"
    },
    "papermill": {
     "duration": 0.041462,
     "end_time": "2023-08-07T13:28:06.675768",
     "exception": false,
     "start_time": "2023-08-07T13:28:06.634306",
     "status": "completed"
    },
    "tags": []
   },
   "outputs": [
    {
     "data": {
      "text/plain": [
       "(109, 14)"
      ]
     },
     "execution_count": 41,
     "metadata": {},
     "output_type": "execute_result"
    }
   ],
   "source": [
    "X_test.shape"
   ]
  },
  {
   "cell_type": "code",
   "execution_count": 42,
   "id": "1030717d",
   "metadata": {
    "execution": {
     "iopub.execute_input": "2023-08-07T13:28:06.740019Z",
     "iopub.status.busy": "2023-08-07T13:28:06.739513Z",
     "iopub.status.idle": "2023-08-07T13:28:06.747606Z",
     "shell.execute_reply": "2023-08-07T13:28:06.746445Z"
    },
    "papermill": {
     "duration": 0.043486,
     "end_time": "2023-08-07T13:28:06.750118",
     "exception": false,
     "start_time": "2023-08-07T13:28:06.706632",
     "status": "completed"
    },
    "tags": []
   },
   "outputs": [
    {
     "data": {
      "text/plain": [
       "(109,)"
      ]
     },
     "execution_count": 42,
     "metadata": {},
     "output_type": "execute_result"
    }
   ],
   "source": [
    "y_test.shape"
   ]
  },
  {
   "cell_type": "markdown",
   "id": "e264e963",
   "metadata": {
    "papermill": {
     "duration": 0.032967,
     "end_time": "2023-08-07T13:28:06.814925",
     "exception": false,
     "start_time": "2023-08-07T13:28:06.781958",
     "status": "completed"
    },
    "tags": []
   },
   "source": [
    "# building model"
   ]
  },
  {
   "cell_type": "markdown",
   "id": "6d546533",
   "metadata": {
    "papermill": {
     "duration": 0.032237,
     "end_time": "2023-08-07T13:28:06.878861",
     "exception": false,
     "start_time": "2023-08-07T13:28:06.846624",
     "status": "completed"
    },
    "tags": []
   },
   "source": [
    "# LogisticRegression"
   ]
  },
  {
   "cell_type": "code",
   "execution_count": 43,
   "id": "7ef43a97",
   "metadata": {
    "execution": {
     "iopub.execute_input": "2023-08-07T13:28:06.944101Z",
     "iopub.status.busy": "2023-08-07T13:28:06.943717Z",
     "iopub.status.idle": "2023-08-07T13:28:07.075200Z",
     "shell.execute_reply": "2023-08-07T13:28:07.073906Z"
    },
    "papermill": {
     "duration": 0.167533,
     "end_time": "2023-08-07T13:28:07.078639",
     "exception": false,
     "start_time": "2023-08-07T13:28:06.911106",
     "status": "completed"
    },
    "tags": []
   },
   "outputs": [],
   "source": [
    "from sklearn.linear_model import LogisticRegression"
   ]
  },
  {
   "cell_type": "code",
   "execution_count": 44,
   "id": "f1467ec9",
   "metadata": {
    "execution": {
     "iopub.execute_input": "2023-08-07T13:28:07.146891Z",
     "iopub.status.busy": "2023-08-07T13:28:07.146434Z",
     "iopub.status.idle": "2023-08-07T13:28:07.153559Z",
     "shell.execute_reply": "2023-08-07T13:28:07.152026Z"
    },
    "papermill": {
     "duration": 0.045433,
     "end_time": "2023-08-07T13:28:07.156906",
     "exception": false,
     "start_time": "2023-08-07T13:28:07.111473",
     "status": "completed"
    },
    "tags": []
   },
   "outputs": [],
   "source": [
    "model = LogisticRegression(max_iter=5000)"
   ]
  },
  {
   "cell_type": "code",
   "execution_count": 45,
   "id": "8ff1ab14",
   "metadata": {
    "execution": {
     "iopub.execute_input": "2023-08-07T13:28:07.228209Z",
     "iopub.status.busy": "2023-08-07T13:28:07.226572Z",
     "iopub.status.idle": "2023-08-07T13:28:26.395460Z",
     "shell.execute_reply": "2023-08-07T13:28:26.392473Z"
    },
    "papermill": {
     "duration": 19.209114,
     "end_time": "2023-08-07T13:28:26.401287",
     "exception": false,
     "start_time": "2023-08-07T13:28:07.192173",
     "status": "completed"
    },
    "tags": []
   },
   "outputs": [
    {
     "data": {
      "text/html": [
       "<style>#sk-container-id-1 {color: black;background-color: white;}#sk-container-id-1 pre{padding: 0;}#sk-container-id-1 div.sk-toggleable {background-color: white;}#sk-container-id-1 label.sk-toggleable__label {cursor: pointer;display: block;width: 100%;margin-bottom: 0;padding: 0.3em;box-sizing: border-box;text-align: center;}#sk-container-id-1 label.sk-toggleable__label-arrow:before {content: \"▸\";float: left;margin-right: 0.25em;color: #696969;}#sk-container-id-1 label.sk-toggleable__label-arrow:hover:before {color: black;}#sk-container-id-1 div.sk-estimator:hover label.sk-toggleable__label-arrow:before {color: black;}#sk-container-id-1 div.sk-toggleable__content {max-height: 0;max-width: 0;overflow: hidden;text-align: left;background-color: #f0f8ff;}#sk-container-id-1 div.sk-toggleable__content pre {margin: 0.2em;color: black;border-radius: 0.25em;background-color: #f0f8ff;}#sk-container-id-1 input.sk-toggleable__control:checked~div.sk-toggleable__content {max-height: 200px;max-width: 100%;overflow: auto;}#sk-container-id-1 input.sk-toggleable__control:checked~label.sk-toggleable__label-arrow:before {content: \"▾\";}#sk-container-id-1 div.sk-estimator input.sk-toggleable__control:checked~label.sk-toggleable__label {background-color: #d4ebff;}#sk-container-id-1 div.sk-label input.sk-toggleable__control:checked~label.sk-toggleable__label {background-color: #d4ebff;}#sk-container-id-1 input.sk-hidden--visually {border: 0;clip: rect(1px 1px 1px 1px);clip: rect(1px, 1px, 1px, 1px);height: 1px;margin: -1px;overflow: hidden;padding: 0;position: absolute;width: 1px;}#sk-container-id-1 div.sk-estimator {font-family: monospace;background-color: #f0f8ff;border: 1px dotted black;border-radius: 0.25em;box-sizing: border-box;margin-bottom: 0.5em;}#sk-container-id-1 div.sk-estimator:hover {background-color: #d4ebff;}#sk-container-id-1 div.sk-parallel-item::after {content: \"\";width: 100%;border-bottom: 1px solid gray;flex-grow: 1;}#sk-container-id-1 div.sk-label:hover label.sk-toggleable__label {background-color: #d4ebff;}#sk-container-id-1 div.sk-serial::before {content: \"\";position: absolute;border-left: 1px solid gray;box-sizing: border-box;top: 0;bottom: 0;left: 50%;z-index: 0;}#sk-container-id-1 div.sk-serial {display: flex;flex-direction: column;align-items: center;background-color: white;padding-right: 0.2em;padding-left: 0.2em;position: relative;}#sk-container-id-1 div.sk-item {position: relative;z-index: 1;}#sk-container-id-1 div.sk-parallel {display: flex;align-items: stretch;justify-content: center;background-color: white;position: relative;}#sk-container-id-1 div.sk-item::before, #sk-container-id-1 div.sk-parallel-item::before {content: \"\";position: absolute;border-left: 1px solid gray;box-sizing: border-box;top: 0;bottom: 0;left: 50%;z-index: -1;}#sk-container-id-1 div.sk-parallel-item {display: flex;flex-direction: column;z-index: 1;position: relative;background-color: white;}#sk-container-id-1 div.sk-parallel-item:first-child::after {align-self: flex-end;width: 50%;}#sk-container-id-1 div.sk-parallel-item:last-child::after {align-self: flex-start;width: 50%;}#sk-container-id-1 div.sk-parallel-item:only-child::after {width: 0;}#sk-container-id-1 div.sk-dashed-wrapped {border: 1px dashed gray;margin: 0 0.4em 0.5em 0.4em;box-sizing: border-box;padding-bottom: 0.4em;background-color: white;}#sk-container-id-1 div.sk-label label {font-family: monospace;font-weight: bold;display: inline-block;line-height: 1.2em;}#sk-container-id-1 div.sk-label-container {text-align: center;}#sk-container-id-1 div.sk-container {/* jupyter's `normalize.less` sets `[hidden] { display: none; }` but bootstrap.min.css set `[hidden] { display: none !important; }` so we also need the `!important` here to be able to override the default hidden behavior on the sphinx rendered scikit-learn.org. See: https://github.com/scikit-learn/scikit-learn/issues/21755 */display: inline-block !important;position: relative;}#sk-container-id-1 div.sk-text-repr-fallback {display: none;}</style><div id=\"sk-container-id-1\" class=\"sk-top-container\"><div class=\"sk-text-repr-fallback\"><pre>LogisticRegression(max_iter=5000)</pre><b>In a Jupyter environment, please rerun this cell to show the HTML representation or trust the notebook. <br />On GitHub, the HTML representation is unable to render, please try loading this page with nbviewer.org.</b></div><div class=\"sk-container\" hidden><div class=\"sk-item\"><div class=\"sk-estimator sk-toggleable\"><input class=\"sk-toggleable__control sk-hidden--visually\" id=\"sk-estimator-id-1\" type=\"checkbox\" checked><label for=\"sk-estimator-id-1\" class=\"sk-toggleable__label sk-toggleable__label-arrow\">LogisticRegression</label><div class=\"sk-toggleable__content\"><pre>LogisticRegression(max_iter=5000)</pre></div></div></div></div></div>"
      ],
      "text/plain": [
       "LogisticRegression(max_iter=5000)"
      ]
     },
     "execution_count": 45,
     "metadata": {},
     "output_type": "execute_result"
    }
   ],
   "source": [
    "model.fit(X_train,y_train)"
   ]
  },
  {
   "cell_type": "code",
   "execution_count": 46,
   "id": "7cf44d5a",
   "metadata": {
    "execution": {
     "iopub.execute_input": "2023-08-07T13:28:26.517741Z",
     "iopub.status.busy": "2023-08-07T13:28:26.517354Z",
     "iopub.status.idle": "2023-08-07T13:28:26.533480Z",
     "shell.execute_reply": "2023-08-07T13:28:26.531867Z"
    },
    "papermill": {
     "duration": 0.066879,
     "end_time": "2023-08-07T13:28:26.538955",
     "exception": false,
     "start_time": "2023-08-07T13:28:26.472076",
     "status": "completed"
    },
    "tags": []
   },
   "outputs": [
    {
     "data": {
      "text/plain": [
       "array([4200000., 5950000., 3500000., 4900000., 3290000., 3500000.,\n",
       "       4760000., 5460000., 2940000., 2940000., 6300000., 3500000.,\n",
       "       4200000., 4200000., 4200000., 2940000., 3640000., 3500000.,\n",
       "       4200000., 3500000., 7420000., 4900000., 3500000., 3430000.,\n",
       "       6300000., 6300000., 4620000., 5460000., 4760000., 3570000.,\n",
       "       3640000., 3430000., 5460000., 3500000., 3500000., 3640000.,\n",
       "       4620000., 3430000., 2940000., 3570000., 3500000., 4200000.,\n",
       "       5950000., 4480000., 3500000., 3500000., 3640000., 3500000.,\n",
       "       3500000., 3150000., 7700000., 3430000., 3500000., 4900000.,\n",
       "       3430000., 2940000., 7420000., 3430000., 3500000., 3500000.,\n",
       "       3150000., 2940000., 6300000., 4900000., 3500000., 4340000.,\n",
       "       7420000., 3430000., 3500000., 3920000., 3430000., 4690000.,\n",
       "       6930000., 5950000., 3430000., 3850000., 4060000., 4690000.,\n",
       "       4270000., 5250000., 5950000., 4060000., 3920000., 7420000.,\n",
       "       3430000., 3150000., 3430000., 4200000., 5950000., 3920000.,\n",
       "       1960000., 4900000., 3500000., 4900000., 5250000., 5460000.,\n",
       "       5600000., 7420000., 3500000., 5250000., 4060000., 3920000.,\n",
       "       3640000., 3640000., 4900000., 5600000., 3640000., 4900000.,\n",
       "       5950000.])"
      ]
     },
     "execution_count": 46,
     "metadata": {},
     "output_type": "execute_result"
    }
   ],
   "source": [
    "y_predict = model.predict(X_test)\n",
    "y_predict"
   ]
  },
  {
   "cell_type": "code",
   "execution_count": 47,
   "id": "d7558400",
   "metadata": {
    "execution": {
     "iopub.execute_input": "2023-08-07T13:28:26.659624Z",
     "iopub.status.busy": "2023-08-07T13:28:26.659230Z",
     "iopub.status.idle": "2023-08-07T13:28:26.680719Z",
     "shell.execute_reply": "2023-08-07T13:28:26.678959Z"
    },
    "papermill": {
     "duration": 0.077089,
     "end_time": "2023-08-07T13:28:26.685351",
     "exception": false,
     "start_time": "2023-08-07T13:28:26.608262",
     "status": "completed"
    },
    "tags": []
   },
   "outputs": [
    {
     "data": {
      "text/plain": [
       "0.19036697247706422"
      ]
     },
     "execution_count": 47,
     "metadata": {},
     "output_type": "execute_result"
    }
   ],
   "source": [
    "model.score(X_train,y_train)"
   ]
  },
  {
   "cell_type": "markdown",
   "id": "32ce45a1",
   "metadata": {
    "papermill": {
     "duration": 0.051667,
     "end_time": "2023-08-07T13:28:26.808554",
     "exception": false,
     "start_time": "2023-08-07T13:28:26.756887",
     "status": "completed"
    },
    "tags": []
   },
   "source": [
    "# SVC"
   ]
  },
  {
   "cell_type": "code",
   "execution_count": 48,
   "id": "73769b2f",
   "metadata": {
    "execution": {
     "iopub.execute_input": "2023-08-07T13:28:26.872771Z",
     "iopub.status.busy": "2023-08-07T13:28:26.872334Z",
     "iopub.status.idle": "2023-08-07T13:28:26.877992Z",
     "shell.execute_reply": "2023-08-07T13:28:26.876772Z"
    },
    "papermill": {
     "duration": 0.040055,
     "end_time": "2023-08-07T13:28:26.880710",
     "exception": false,
     "start_time": "2023-08-07T13:28:26.840655",
     "status": "completed"
    },
    "tags": []
   },
   "outputs": [],
   "source": [
    "from sklearn.svm import SVC"
   ]
  },
  {
   "cell_type": "code",
   "execution_count": 49,
   "id": "485d1b9e",
   "metadata": {
    "execution": {
     "iopub.execute_input": "2023-08-07T13:28:26.944549Z",
     "iopub.status.busy": "2023-08-07T13:28:26.944090Z",
     "iopub.status.idle": "2023-08-07T13:28:26.951270Z",
     "shell.execute_reply": "2023-08-07T13:28:26.949696Z"
    },
    "papermill": {
     "duration": 0.043132,
     "end_time": "2023-08-07T13:28:26.954276",
     "exception": false,
     "start_time": "2023-08-07T13:28:26.911144",
     "status": "completed"
    },
    "tags": []
   },
   "outputs": [],
   "source": [
    "model = SVC()"
   ]
  },
  {
   "cell_type": "code",
   "execution_count": 50,
   "id": "a4cdf37c",
   "metadata": {
    "execution": {
     "iopub.execute_input": "2023-08-07T13:28:27.018145Z",
     "iopub.status.busy": "2023-08-07T13:28:27.017752Z",
     "iopub.status.idle": "2023-08-07T13:28:27.130054Z",
     "shell.execute_reply": "2023-08-07T13:28:27.128630Z"
    },
    "papermill": {
     "duration": 0.14837,
     "end_time": "2023-08-07T13:28:27.133009",
     "exception": false,
     "start_time": "2023-08-07T13:28:26.984639",
     "status": "completed"
    },
    "tags": []
   },
   "outputs": [
    {
     "data": {
      "text/html": [
       "<style>#sk-container-id-2 {color: black;background-color: white;}#sk-container-id-2 pre{padding: 0;}#sk-container-id-2 div.sk-toggleable {background-color: white;}#sk-container-id-2 label.sk-toggleable__label {cursor: pointer;display: block;width: 100%;margin-bottom: 0;padding: 0.3em;box-sizing: border-box;text-align: center;}#sk-container-id-2 label.sk-toggleable__label-arrow:before {content: \"▸\";float: left;margin-right: 0.25em;color: #696969;}#sk-container-id-2 label.sk-toggleable__label-arrow:hover:before {color: black;}#sk-container-id-2 div.sk-estimator:hover label.sk-toggleable__label-arrow:before {color: black;}#sk-container-id-2 div.sk-toggleable__content {max-height: 0;max-width: 0;overflow: hidden;text-align: left;background-color: #f0f8ff;}#sk-container-id-2 div.sk-toggleable__content pre {margin: 0.2em;color: black;border-radius: 0.25em;background-color: #f0f8ff;}#sk-container-id-2 input.sk-toggleable__control:checked~div.sk-toggleable__content {max-height: 200px;max-width: 100%;overflow: auto;}#sk-container-id-2 input.sk-toggleable__control:checked~label.sk-toggleable__label-arrow:before {content: \"▾\";}#sk-container-id-2 div.sk-estimator input.sk-toggleable__control:checked~label.sk-toggleable__label {background-color: #d4ebff;}#sk-container-id-2 div.sk-label input.sk-toggleable__control:checked~label.sk-toggleable__label {background-color: #d4ebff;}#sk-container-id-2 input.sk-hidden--visually {border: 0;clip: rect(1px 1px 1px 1px);clip: rect(1px, 1px, 1px, 1px);height: 1px;margin: -1px;overflow: hidden;padding: 0;position: absolute;width: 1px;}#sk-container-id-2 div.sk-estimator {font-family: monospace;background-color: #f0f8ff;border: 1px dotted black;border-radius: 0.25em;box-sizing: border-box;margin-bottom: 0.5em;}#sk-container-id-2 div.sk-estimator:hover {background-color: #d4ebff;}#sk-container-id-2 div.sk-parallel-item::after {content: \"\";width: 100%;border-bottom: 1px solid gray;flex-grow: 1;}#sk-container-id-2 div.sk-label:hover label.sk-toggleable__label {background-color: #d4ebff;}#sk-container-id-2 div.sk-serial::before {content: \"\";position: absolute;border-left: 1px solid gray;box-sizing: border-box;top: 0;bottom: 0;left: 50%;z-index: 0;}#sk-container-id-2 div.sk-serial {display: flex;flex-direction: column;align-items: center;background-color: white;padding-right: 0.2em;padding-left: 0.2em;position: relative;}#sk-container-id-2 div.sk-item {position: relative;z-index: 1;}#sk-container-id-2 div.sk-parallel {display: flex;align-items: stretch;justify-content: center;background-color: white;position: relative;}#sk-container-id-2 div.sk-item::before, #sk-container-id-2 div.sk-parallel-item::before {content: \"\";position: absolute;border-left: 1px solid gray;box-sizing: border-box;top: 0;bottom: 0;left: 50%;z-index: -1;}#sk-container-id-2 div.sk-parallel-item {display: flex;flex-direction: column;z-index: 1;position: relative;background-color: white;}#sk-container-id-2 div.sk-parallel-item:first-child::after {align-self: flex-end;width: 50%;}#sk-container-id-2 div.sk-parallel-item:last-child::after {align-self: flex-start;width: 50%;}#sk-container-id-2 div.sk-parallel-item:only-child::after {width: 0;}#sk-container-id-2 div.sk-dashed-wrapped {border: 1px dashed gray;margin: 0 0.4em 0.5em 0.4em;box-sizing: border-box;padding-bottom: 0.4em;background-color: white;}#sk-container-id-2 div.sk-label label {font-family: monospace;font-weight: bold;display: inline-block;line-height: 1.2em;}#sk-container-id-2 div.sk-label-container {text-align: center;}#sk-container-id-2 div.sk-container {/* jupyter's `normalize.less` sets `[hidden] { display: none; }` but bootstrap.min.css set `[hidden] { display: none !important; }` so we also need the `!important` here to be able to override the default hidden behavior on the sphinx rendered scikit-learn.org. See: https://github.com/scikit-learn/scikit-learn/issues/21755 */display: inline-block !important;position: relative;}#sk-container-id-2 div.sk-text-repr-fallback {display: none;}</style><div id=\"sk-container-id-2\" class=\"sk-top-container\"><div class=\"sk-text-repr-fallback\"><pre>SVC()</pre><b>In a Jupyter environment, please rerun this cell to show the HTML representation or trust the notebook. <br />On GitHub, the HTML representation is unable to render, please try loading this page with nbviewer.org.</b></div><div class=\"sk-container\" hidden><div class=\"sk-item\"><div class=\"sk-estimator sk-toggleable\"><input class=\"sk-toggleable__control sk-hidden--visually\" id=\"sk-estimator-id-2\" type=\"checkbox\" checked><label for=\"sk-estimator-id-2\" class=\"sk-toggleable__label sk-toggleable__label-arrow\">SVC</label><div class=\"sk-toggleable__content\"><pre>SVC()</pre></div></div></div></div></div>"
      ],
      "text/plain": [
       "SVC()"
      ]
     },
     "execution_count": 50,
     "metadata": {},
     "output_type": "execute_result"
    }
   ],
   "source": [
    "model.fit(X_train,y_train)"
   ]
  },
  {
   "cell_type": "code",
   "execution_count": 51,
   "id": "f3051f13",
   "metadata": {
    "execution": {
     "iopub.execute_input": "2023-08-07T13:28:27.202764Z",
     "iopub.status.busy": "2023-08-07T13:28:27.202353Z",
     "iopub.status.idle": "2023-08-07T13:28:27.247962Z",
     "shell.execute_reply": "2023-08-07T13:28:27.246463Z"
    },
    "papermill": {
     "duration": 0.084409,
     "end_time": "2023-08-07T13:28:27.251281",
     "exception": false,
     "start_time": "2023-08-07T13:28:27.166872",
     "status": "completed"
    },
    "tags": []
   },
   "outputs": [
    {
     "data": {
      "text/plain": [
       "array([4200000., 3500000., 4200000., 4200000., 4200000., 3500000.,\n",
       "       3500000., 4200000., 4200000., 4200000., 3500000., 4200000.,\n",
       "       4200000., 4200000., 4200000., 4200000., 4200000., 4200000.,\n",
       "       4200000., 4200000., 4200000., 3500000., 4200000., 4200000.,\n",
       "       3500000., 3500000., 4200000., 4200000., 3500000., 4200000.,\n",
       "       4200000., 4200000., 4200000., 3500000., 4200000., 4200000.,\n",
       "       4200000., 4200000., 4200000., 4200000., 3500000., 4200000.,\n",
       "       3500000., 4200000., 3500000., 4200000., 4200000., 4200000.,\n",
       "       3500000., 4200000., 3500000., 4200000., 3500000., 4200000.,\n",
       "       4200000., 4200000., 4200000., 4200000., 3500000., 4200000.,\n",
       "       4200000., 4200000., 3500000., 4200000., 4200000., 4200000.,\n",
       "       3500000., 4200000., 3500000., 4200000., 4200000., 3500000.,\n",
       "       3500000., 3500000., 4200000., 4200000., 4200000., 4200000.,\n",
       "       4200000., 4200000., 3500000., 4200000., 4200000., 3500000.,\n",
       "       4200000., 4200000., 4200000., 4200000., 3500000., 4200000.,\n",
       "       4200000., 3500000., 4200000., 4200000., 3500000., 4200000.,\n",
       "       4200000., 4200000., 4200000., 3500000., 4200000., 4200000.,\n",
       "       4200000., 4200000., 4200000., 3500000., 4200000., 4200000.,\n",
       "       3500000.])"
      ]
     },
     "execution_count": 51,
     "metadata": {},
     "output_type": "execute_result"
    }
   ],
   "source": [
    "y_predict = model.predict(X_test)\n",
    "y_predict"
   ]
  },
  {
   "cell_type": "code",
   "execution_count": 52,
   "id": "59417d26",
   "metadata": {
    "execution": {
     "iopub.execute_input": "2023-08-07T13:28:27.324149Z",
     "iopub.status.busy": "2023-08-07T13:28:27.323680Z",
     "iopub.status.idle": "2023-08-07T13:28:27.453806Z",
     "shell.execute_reply": "2023-08-07T13:28:27.452443Z"
    },
    "papermill": {
     "duration": 0.171037,
     "end_time": "2023-08-07T13:28:27.456217",
     "exception": false,
     "start_time": "2023-08-07T13:28:27.285180",
     "status": "completed"
    },
    "tags": []
   },
   "outputs": [
    {
     "data": {
      "text/plain": [
       "0.04357798165137615"
      ]
     },
     "execution_count": 52,
     "metadata": {},
     "output_type": "execute_result"
    }
   ],
   "source": [
    "model.score(X_train,y_train)"
   ]
  },
  {
   "cell_type": "markdown",
   "id": "ae30fb3c",
   "metadata": {
    "papermill": {
     "duration": 0.031883,
     "end_time": "2023-08-07T13:28:27.521834",
     "exception": false,
     "start_time": "2023-08-07T13:28:27.489951",
     "status": "completed"
    },
    "tags": []
   },
   "source": [
    "# DecisionTreeClassifier"
   ]
  },
  {
   "cell_type": "code",
   "execution_count": 53,
   "id": "b00b8ede",
   "metadata": {
    "execution": {
     "iopub.execute_input": "2023-08-07T13:28:27.592694Z",
     "iopub.status.busy": "2023-08-07T13:28:27.592265Z",
     "iopub.status.idle": "2023-08-07T13:28:27.810197Z",
     "shell.execute_reply": "2023-08-07T13:28:27.808815Z"
    },
    "papermill": {
     "duration": 0.258521,
     "end_time": "2023-08-07T13:28:27.813083",
     "exception": false,
     "start_time": "2023-08-07T13:28:27.554562",
     "status": "completed"
    },
    "tags": []
   },
   "outputs": [],
   "source": [
    "from sklearn.tree import DecisionTreeClassifier"
   ]
  },
  {
   "cell_type": "code",
   "execution_count": 54,
   "id": "2a91a67c",
   "metadata": {
    "execution": {
     "iopub.execute_input": "2023-08-07T13:28:27.882546Z",
     "iopub.status.busy": "2023-08-07T13:28:27.882099Z",
     "iopub.status.idle": "2023-08-07T13:28:27.888671Z",
     "shell.execute_reply": "2023-08-07T13:28:27.887232Z"
    },
    "papermill": {
     "duration": 0.045241,
     "end_time": "2023-08-07T13:28:27.891516",
     "exception": false,
     "start_time": "2023-08-07T13:28:27.846275",
     "status": "completed"
    },
    "tags": []
   },
   "outputs": [],
   "source": [
    "model = DecisionTreeClassifier()"
   ]
  },
  {
   "cell_type": "code",
   "execution_count": 55,
   "id": "afa4218d",
   "metadata": {
    "execution": {
     "iopub.execute_input": "2023-08-07T13:28:27.961222Z",
     "iopub.status.busy": "2023-08-07T13:28:27.960827Z",
     "iopub.status.idle": "2023-08-07T13:28:27.981600Z",
     "shell.execute_reply": "2023-08-07T13:28:27.979598Z"
    },
    "papermill": {
     "duration": 0.060724,
     "end_time": "2023-08-07T13:28:27.985164",
     "exception": false,
     "start_time": "2023-08-07T13:28:27.924440",
     "status": "completed"
    },
    "tags": []
   },
   "outputs": [
    {
     "data": {
      "text/html": [
       "<style>#sk-container-id-3 {color: black;background-color: white;}#sk-container-id-3 pre{padding: 0;}#sk-container-id-3 div.sk-toggleable {background-color: white;}#sk-container-id-3 label.sk-toggleable__label {cursor: pointer;display: block;width: 100%;margin-bottom: 0;padding: 0.3em;box-sizing: border-box;text-align: center;}#sk-container-id-3 label.sk-toggleable__label-arrow:before {content: \"▸\";float: left;margin-right: 0.25em;color: #696969;}#sk-container-id-3 label.sk-toggleable__label-arrow:hover:before {color: black;}#sk-container-id-3 div.sk-estimator:hover label.sk-toggleable__label-arrow:before {color: black;}#sk-container-id-3 div.sk-toggleable__content {max-height: 0;max-width: 0;overflow: hidden;text-align: left;background-color: #f0f8ff;}#sk-container-id-3 div.sk-toggleable__content pre {margin: 0.2em;color: black;border-radius: 0.25em;background-color: #f0f8ff;}#sk-container-id-3 input.sk-toggleable__control:checked~div.sk-toggleable__content {max-height: 200px;max-width: 100%;overflow: auto;}#sk-container-id-3 input.sk-toggleable__control:checked~label.sk-toggleable__label-arrow:before {content: \"▾\";}#sk-container-id-3 div.sk-estimator input.sk-toggleable__control:checked~label.sk-toggleable__label {background-color: #d4ebff;}#sk-container-id-3 div.sk-label input.sk-toggleable__control:checked~label.sk-toggleable__label {background-color: #d4ebff;}#sk-container-id-3 input.sk-hidden--visually {border: 0;clip: rect(1px 1px 1px 1px);clip: rect(1px, 1px, 1px, 1px);height: 1px;margin: -1px;overflow: hidden;padding: 0;position: absolute;width: 1px;}#sk-container-id-3 div.sk-estimator {font-family: monospace;background-color: #f0f8ff;border: 1px dotted black;border-radius: 0.25em;box-sizing: border-box;margin-bottom: 0.5em;}#sk-container-id-3 div.sk-estimator:hover {background-color: #d4ebff;}#sk-container-id-3 div.sk-parallel-item::after {content: \"\";width: 100%;border-bottom: 1px solid gray;flex-grow: 1;}#sk-container-id-3 div.sk-label:hover label.sk-toggleable__label {background-color: #d4ebff;}#sk-container-id-3 div.sk-serial::before {content: \"\";position: absolute;border-left: 1px solid gray;box-sizing: border-box;top: 0;bottom: 0;left: 50%;z-index: 0;}#sk-container-id-3 div.sk-serial {display: flex;flex-direction: column;align-items: center;background-color: white;padding-right: 0.2em;padding-left: 0.2em;position: relative;}#sk-container-id-3 div.sk-item {position: relative;z-index: 1;}#sk-container-id-3 div.sk-parallel {display: flex;align-items: stretch;justify-content: center;background-color: white;position: relative;}#sk-container-id-3 div.sk-item::before, #sk-container-id-3 div.sk-parallel-item::before {content: \"\";position: absolute;border-left: 1px solid gray;box-sizing: border-box;top: 0;bottom: 0;left: 50%;z-index: -1;}#sk-container-id-3 div.sk-parallel-item {display: flex;flex-direction: column;z-index: 1;position: relative;background-color: white;}#sk-container-id-3 div.sk-parallel-item:first-child::after {align-self: flex-end;width: 50%;}#sk-container-id-3 div.sk-parallel-item:last-child::after {align-self: flex-start;width: 50%;}#sk-container-id-3 div.sk-parallel-item:only-child::after {width: 0;}#sk-container-id-3 div.sk-dashed-wrapped {border: 1px dashed gray;margin: 0 0.4em 0.5em 0.4em;box-sizing: border-box;padding-bottom: 0.4em;background-color: white;}#sk-container-id-3 div.sk-label label {font-family: monospace;font-weight: bold;display: inline-block;line-height: 1.2em;}#sk-container-id-3 div.sk-label-container {text-align: center;}#sk-container-id-3 div.sk-container {/* jupyter's `normalize.less` sets `[hidden] { display: none; }` but bootstrap.min.css set `[hidden] { display: none !important; }` so we also need the `!important` here to be able to override the default hidden behavior on the sphinx rendered scikit-learn.org. See: https://github.com/scikit-learn/scikit-learn/issues/21755 */display: inline-block !important;position: relative;}#sk-container-id-3 div.sk-text-repr-fallback {display: none;}</style><div id=\"sk-container-id-3\" class=\"sk-top-container\"><div class=\"sk-text-repr-fallback\"><pre>DecisionTreeClassifier()</pre><b>In a Jupyter environment, please rerun this cell to show the HTML representation or trust the notebook. <br />On GitHub, the HTML representation is unable to render, please try loading this page with nbviewer.org.</b></div><div class=\"sk-container\" hidden><div class=\"sk-item\"><div class=\"sk-estimator sk-toggleable\"><input class=\"sk-toggleable__control sk-hidden--visually\" id=\"sk-estimator-id-3\" type=\"checkbox\" checked><label for=\"sk-estimator-id-3\" class=\"sk-toggleable__label sk-toggleable__label-arrow\">DecisionTreeClassifier</label><div class=\"sk-toggleable__content\"><pre>DecisionTreeClassifier()</pre></div></div></div></div></div>"
      ],
      "text/plain": [
       "DecisionTreeClassifier()"
      ]
     },
     "execution_count": 55,
     "metadata": {},
     "output_type": "execute_result"
    }
   ],
   "source": [
    "model.fit(X_train,y_train)"
   ]
  },
  {
   "cell_type": "code",
   "execution_count": 56,
   "id": "66e0824a",
   "metadata": {
    "execution": {
     "iopub.execute_input": "2023-08-07T13:28:28.055224Z",
     "iopub.status.busy": "2023-08-07T13:28:28.054587Z",
     "iopub.status.idle": "2023-08-07T13:28:28.067896Z",
     "shell.execute_reply": "2023-08-07T13:28:28.066181Z"
    },
    "papermill": {
     "duration": 0.053491,
     "end_time": "2023-08-07T13:28:28.071193",
     "exception": false,
     "start_time": "2023-08-07T13:28:28.017702",
     "status": "completed"
    },
    "tags": []
   },
   "outputs": [
    {
     "data": {
      "text/plain": [
       "array([ 5600000.,  7840000.,  3850000.,  4935000.,  3990000.,  4795000.,\n",
       "        8575000.,  5866000.,  1855000.,  2520000.,  4690000.,  2695000.,\n",
       "        2408000.,  3640000.,  4865000.,  4200000.,  3850000.,  5383000.,\n",
       "        3129000.,  4270000.,  5810000.,  5523000.,  2345000.,  2730000.,\n",
       "        3920000.,  5250000.,  2450000.,  3570000.,  9870000.,  3150000.,\n",
       "        4900000.,  3465000.,  8463000.,  3850000.,  4270000.,  3500000.,\n",
       "        4620000.,  5250000.,  3115000.,  3885000.,  3920000.,  2653000.,\n",
       "        7840000.,  4585000.,  2730000.,  3500000.,  7560000.,  4130000.,\n",
       "        2450000.,  3395000.,  8400000.,  3150000.,  4480000.,  3990000.,\n",
       "        3500000.,  2520000.,  6405000.,  2380000.,  3850000.,  3360000.,\n",
       "        3640000.,  4200000.,  4270000.,  4200000.,  4060000.,  4025000.,\n",
       "        4473000.,  2450000.,  3500000.,  5565000.,  3150000.,  7840000.,\n",
       "        4480000., 12215000.,  2653000.,  3080000.,  5530000.,  4690000.,\n",
       "        3290000.,  3010000.,  8080940.,  5530000.,  4403000.,  4795000.,\n",
       "        2380000.,  3640000.,  3465000.,  4473000.,  3500000.,  6090000.,\n",
       "        3080000.,  6930000.,  2940000.,  3010000.,  3773000.,  5600000.,\n",
       "        4620000.,  5810000.,  5600000.,  5950000.,  5215000.,  6405000.,\n",
       "        3920000.,  3150000.,  9310000.,  5950000.,  6300000.,  7140000.,\n",
       "        3290000.])"
      ]
     },
     "execution_count": 56,
     "metadata": {},
     "output_type": "execute_result"
    }
   ],
   "source": [
    "y_predict = model.predict(X_test)\n",
    "y_predict"
   ]
  },
  {
   "cell_type": "code",
   "execution_count": 57,
   "id": "de290bb2",
   "metadata": {
    "execution": {
     "iopub.execute_input": "2023-08-07T13:28:28.140710Z",
     "iopub.status.busy": "2023-08-07T13:28:28.139986Z",
     "iopub.status.idle": "2023-08-07T13:28:28.155616Z",
     "shell.execute_reply": "2023-08-07T13:28:28.154075Z"
    },
    "papermill": {
     "duration": 0.053461,
     "end_time": "2023-08-07T13:28:28.158270",
     "exception": false,
     "start_time": "2023-08-07T13:28:28.104809",
     "status": "completed"
    },
    "tags": []
   },
   "outputs": [
    {
     "data": {
      "text/plain": [
       "0.9862385321100917"
      ]
     },
     "execution_count": 57,
     "metadata": {},
     "output_type": "execute_result"
    }
   ],
   "source": [
    "model.score(X_train,y_train)"
   ]
  },
  {
   "cell_type": "markdown",
   "id": "56bd93a8",
   "metadata": {
    "papermill": {
     "duration": 0.03288,
     "end_time": "2023-08-07T13:28:28.226563",
     "exception": false,
     "start_time": "2023-08-07T13:28:28.193683",
     "status": "completed"
    },
    "tags": []
   },
   "source": [
    "# DecisionTreeClassifier is the best logarithm."
   ]
  },
  {
   "cell_type": "markdown",
   "id": "a3f28e0d",
   "metadata": {
    "papermill": {
     "duration": 0.033806,
     "end_time": "2023-08-07T13:28:28.294060",
     "exception": false,
     "start_time": "2023-08-07T13:28:28.260254",
     "status": "completed"
    },
    "tags": []
   },
   "source": [
    "# Thank You"
   ]
  }
 ],
 "metadata": {
  "kernelspec": {
   "display_name": "Python 3",
   "language": "python",
   "name": "python3"
  },
  "language_info": {
   "codemirror_mode": {
    "name": "ipython",
    "version": 3
   },
   "file_extension": ".py",
   "mimetype": "text/x-python",
   "name": "python",
   "nbconvert_exporter": "python",
   "pygments_lexer": "ipython3",
   "version": "3.10.12"
  },
  "papermill": {
   "default_parameters": {},
   "duration": 47.32321,
   "end_time": "2023-08-07T13:28:29.653885",
   "environment_variables": {},
   "exception": null,
   "input_path": "__notebook__.ipynb",
   "output_path": "__notebook__.ipynb",
   "parameters": {},
   "start_time": "2023-08-07T13:27:42.330675",
   "version": "2.4.0"
  }
 },
 "nbformat": 4,
 "nbformat_minor": 5
}
